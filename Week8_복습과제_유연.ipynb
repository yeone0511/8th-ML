{
  "cells": [
    {
      "cell_type": "markdown",
      "metadata": {
        "id": "G33l8XG8zhnL"
      },
      "source": [
        "# **1. 단순 선형 회귀(Linear Regression)**"
      ]
    },
    {
      "cell_type": "markdown",
      "metadata": {
        "id": "Kj-wzicfzhnM"
      },
      "source": [
        "## **1-1. 단순 선형 회귀 수식에서 회귀계수 w0과 w1이 의미하는 바를 각각 서술하세요.**\n",
        "$f(x) = w_0 + w_1 *x$"
      ]
    },
    {
      "cell_type": "markdown",
      "metadata": {
        "id": "FiuRw6mtzTfM"
      },
      "source": [
        "**답안**  \n",
        "\n",
        "- **w0**: intercept, 회귀선이 y축과 만나는 지점\n",
        "- **w1**: slope"
      ]
    },
    {
      "cell_type": "markdown",
      "metadata": {
        "id": "68WxhP1YzhnN"
      },
      "source": [
        "## **1-2. RSS(Residual Sum of Square)의 회귀식은 무엇을 변수로 작성되는지 서술하세요.**\n",
        "\n",
        "$$RSS(w_0, w_1) = \\frac{1}{N}\\sum_{i=1}^{N}(y_i - (w_0 + w_1 * x_i))^2$$"
      ]
    },
    {
      "cell_type": "markdown",
      "metadata": {
        "id": "Qposrdjm1TT7"
      },
      "source": [
        "**답안**  \n",
        ": 회귀 계수 w0,w1를 변수로 작성된다 (예측값과 실제값의 잔차를 의미)"
      ]
    },
    {
      "cell_type": "markdown",
      "metadata": {
        "id": "oWuFCClXzTfP"
      },
      "source": [
        "## **1-3. 지도학습의 유형인 분류와 회귀의 가장 큰 차이는 무엇인지 서술하세요.**"
      ]
    },
    {
      "cell_type": "markdown",
      "metadata": {
        "id": "hePwHbbI14py"
      },
      "source": [
        "**답안**  \n",
        ": 분류는 입력 데이터의 label을 예측하는 지도학습이고, 회귀는 label이 아닌 숫자 값을 예측하는 지도학습이다. 분류는 범주형 데이터를, 회귀는 연속형 데이터를 반환한다."
      ]
    },
    {
      "cell_type": "markdown",
      "metadata": {
        "id": "WLpz8TgG4Xu6"
      },
      "source": [
        "# **2. 경사 하강법(Gradient Descent)**"
      ]
    },
    {
      "cell_type": "markdown",
      "metadata": {
        "id": "MOIFefBwzhnS"
      },
      "source": [
        "간단한 회귀 식인 $y = 1.5x + 7$을 근사하기 위한 150개의 데이터 세트를 만들고, 여기에 `경사 하강법`을 이용해 회귀 계수 $w_1$, $w_0$을 도출하는 파이썬 코드를 작성해 봅시다."
      ]
    },
    {
      "cell_type": "code",
      "execution_count": 1,
      "metadata": {
        "id": "xQpcQkjlzhnS"
      },
      "outputs": [],
      "source": [
        "## 실행\n",
        "\n",
        "import numpy as np\n",
        "import matplotlib.pyplot as plt\n",
        "%matplotlib inline"
      ]
    },
    {
      "cell_type": "markdown",
      "metadata": {
        "id": "MF35Ci63zhnS"
      },
      "source": [
        "## **2-1. 노이즈를 위한 난수를 생성해 주세요.**"
      ]
    },
    {
      "cell_type": "code",
      "execution_count": 2,
      "metadata": {
        "id": "GrQb-gZ3zhnS"
      },
      "outputs": [],
      "source": [
        "np.random.seed(0)"
      ]
    },
    {
      "cell_type": "markdown",
      "metadata": {
        "id": "XYcMtm97zhnS"
      },
      "source": [
        "## **2-2. $y = 1.5x + 7$ 식을 근사하는 코드를 작성해 주세요.**"
      ]
    },
    {
      "cell_type": "code",
      "execution_count": 3,
      "metadata": {
        "id": "9wcYHDWezhnT"
      },
      "outputs": [],
      "source": [
        "X = 2 * np.random.rand(150,1)\n",
        "y = 7 + 1.5 * X + np.random.randn(150,1)"
      ]
    },
    {
      "cell_type": "markdown",
      "metadata": {
        "id": "HlnKPPmXzhnT"
      },
      "source": [
        "## **2-3. X, y 데이터 세트를 산점도로 시각화 해주세요.**"
      ]
    },
    {
      "cell_type": "code",
      "execution_count": 4,
      "metadata": {
        "id": "394ThjlqzhnT",
        "colab": {
          "base_uri": "https://localhost:8080/",
          "height": 432
        },
        "outputId": "abf5cead-2abc-4c24-b2a2-e6c4f571c20d"
      },
      "outputs": [
        {
          "output_type": "display_data",
          "data": {
            "text/plain": [
              "<Figure size 640x480 with 1 Axes>"
            ],
            "image/png": "[encoded data removed]"
          },
          "metadata": {}
        }
      ],
      "source": [
        "plt.scatter(X,y)\n",
        "plt.show()"
      ]
    },
    {
      "cell_type": "markdown",
      "metadata": {
        "id": "hZ05BIQszhnT"
      },
      "source": [
        "## **2-4.**\n",
        "실제 y값(y)과 예측된 y값(y_pred)을 인자로 받아 $$\\frac{1}{N} \\displaystyle\\sum_{i=1}^{N}{(실제값_i-예측값_i)^2}$$ 식을 계산하는 비용함수 `get_cost()`를 정의하시오."
      ]
    },
    {
      "cell_type": "code",
      "execution_count": 5,
      "metadata": {
        "id": "73AYWqtIzhnT"
      },
      "outputs": [],
      "source": [
        "def get_cost(y,y_pred):\n",
        "    N = len(y)\n",
        "    cost = np.sum(np.square(y-y_pred))/N\n",
        "\n",
        "    return cost"
      ]
    },
    {
      "cell_type": "markdown",
      "metadata": {
        "id": "G9JlVedAzhnT"
      },
      "source": [
        "## **2-5.**\n",
        "`w1_update`로 $$-u\\frac{2}{N} \\displaystyle\\sum_{i=1}^{N}x_1*{(예측오류_i)}$$  \n",
        "`w0_update`로 $$-u\\frac{2}{N} \\displaystyle\\sum_{i=1}^{N}{(예측오류_i)}$$ 값을 넘파이의 dot 행렬 연산으로 계산한 뒤 이를 반환하는 `get_weight_update` 함수를 정의해 주세요."
      ]
    },
    {
      "cell_type": "code",
      "execution_count": 18,
      "metadata": {
        "id": "EZHkjIHSzhnT"
      },
      "outputs": [],
      "source": [
        "def get_weight_updates(w1,w0,X,y,learning_rate=0.01):\n",
        "    N = len(y)\n",
        "\n",
        "    # 먼저 w1_update, w0_update를 각각 w1, w0의 shape와 동일한 크기를 가진 0 값으로 초기화\n",
        "    w1_update = np.zeros_like(w1)\n",
        "    w0_update = np.zeros_like(w0)\n",
        "\n",
        "    # 예측 배열 계산하고 예측과 실제 값의 차이 계산\n",
        "    y_pred = np.dot(X,w1.T) + w0\n",
        "    diff = y-y_pred\n",
        "\n",
        "    # w0_update를 dot 행렬 연산으로 구하기 위해 모두 1값을 가진 행렬 생성\n",
        "    w0_factors = np.ones((N,1))\n",
        "\n",
        "    # w1과 w0을 업데이트할 w1_update와 w0_update 계산\n",
        "    w1_update = -(2/N)*learning_rate*(np.dot(X.T,diff))\n",
        "    w0_update = -(2/N)*learning_rate*(np.dot(w0_factors.T,diff))\n",
        "\n",
        "    return w1_update,w0_update"
      ]
    },
    {
      "cell_type": "markdown",
      "metadata": {
        "id": "T9pMxvwEzhnT"
      },
      "source": [
        "## **2-6. `get_weight_update()`을 경사 하강 방식으로 반복적으로 수행하여 w1과 w0를 업데이트 하는 함수인 `gradient_descent_steps()` 함수를 생성해 주세요.**"
      ]
    },
    {
      "cell_type": "code",
      "execution_count": 19,
      "metadata": {
        "id": "6lZ_a7FUzhnT"
      },
      "outputs": [],
      "source": [
        "# 입력 인자 iters로 주어진 횟수만큼 반복적으로 w1과 w0를 업데이트 적용함.\n",
        "def gradient_descent_steps(X,y,iters=10000):\n",
        "    # w0와 w1을 모두 0으로 초기화.\n",
        "    w0 = np.zeros((1,1))\n",
        "    w1 = np.zeros((1,1))\n",
        "\n",
        "    # 인자로 주어진 iters 만큼 반복적으로 get_weight_updates() 호출하여 w1, w0 업데이트 수행.\n",
        "    for ind in range(iters):\n",
        "        w1_update, w0_update = get_weight_updates(w1,w0,X,y,learning_rate=0.01)\n",
        "        w1 -= w1_update\n",
        "        w0 -= w0_update\n",
        "\n",
        "    return w1,w0"
      ]
    },
    {
      "cell_type": "markdown",
      "metadata": {
        "id": "W3qhv4hczhnU"
      },
      "source": [
        "## **2-7. `gradient_descent_steps()`를 호출해 w1과 w0를 구해보세요. 그리고 앞서 정의한 `get_cost()` 함수를 이용해 경사 하강법의 예측 오류를 계산해 보세요.**"
      ]
    },
    {
      "cell_type": "code",
      "execution_count": 20,
      "metadata": {
        "id": "WikXFs9CzhnU",
        "colab": {
          "base_uri": "https://localhost:8080/",
          "height": 0
        },
        "outputId": "7b2d6009-e7b7-4521-8ce0-6edb61e6ff39"
      },
      "outputs": [
        {
          "output_type": "stream",
          "name": "stdout",
          "text": [
            "w1:1.589 w0:6.790\n",
            "Gradient Descent Total Cost:0.8550\n"
          ]
        }
      ],
      "source": [
        "w1, w0 = gradient_descent_steps(X,y,iters=1000)\n",
        "y_pred = w1[0,0]*X+w0\n",
        "\n",
        "print(\"w1:{0:.3f} w0:{1:.3f}\".format(w1[0,0], w0[0,0]))\n",
        "print('Gradient Descent Total Cost:{0:.4f}'.format(get_cost(y, y_pred)))"
      ]
    },
    {
      "cell_type": "markdown",
      "metadata": {
        "id": "CwPbGUgKzhnU"
      },
      "source": [
        "## **2-8. `y_pred`에 기반해 회귀선을 그려보세요.**"
      ]
    },
    {
      "cell_type": "code",
      "execution_count": 21,
      "metadata": {
        "id": "r8UTPlcqzhnU",
        "colab": {
          "base_uri": "https://localhost:8080/",
          "height": 432
        },
        "outputId": "d888626c-6a5f-46fb-b446-86a946bf94f6"
      },
      "outputs": [
        {
          "output_type": "display_data",
          "data": {
            "text/plain": [
              "<Figure size 640x480 with 1 Axes>"
            ],
            "image/png": "[encoded data removed]"
          },
          "metadata": {}
        }
      ],
      "source": [
        "plt.scatter(X,y)\n",
        "plt.plot(X,y_pred)\n",
        "\n",
        "plt.show()"
      ]
    },
    {
      "cell_type": "markdown",
      "metadata": {
        "id": "nepyhLZH2Fxo"
      },
      "source": [
        "# **3. 확률적 경사 하강법**"
      ]
    },
    {
      "cell_type": "markdown",
      "metadata": {
        "id": "3moPvniR2Fxo"
      },
      "source": [
        "위 데이터를 기반으로 일부 데이터만 이용해 w가 업데이트되는 값을 계산하는 `확률적 경사 하강법`을 이용하여 회귀 계수 $w_1$, $w_0$을 도출하는 파이썬 코드를 작성해 봅시다."
      ]
    },
    {
      "cell_type": "markdown",
      "metadata": {
        "id": "rxfHX2QF2Fxp"
      },
      "source": [
        "## **3-1. 확률적 경사 하강법을 구현한 `stochastic_gradient_descent_steps()`함수를 생성해 주세요.**"
      ]
    },
    {
      "cell_type": "code",
      "execution_count": 22,
      "metadata": {
        "id": "hQzoVRL22Fxp"
      },
      "outputs": [],
      "source": [
        "def stochastic_gradient_descent_steps(X,y,batch_size=10,iters=1000):\n",
        "    w0 = np.zeros((1, 1))\n",
        "    w1 = np.zeros((1, 1))\n",
        "\n",
        "    for ind in range(iters):\n",
        "        np.random.seed(ind)\n",
        "\n",
        "        # 전체 X, y 데이터에서 랜덤하게 batch_size만큼 데이터 추출\n",
        "        stochastic_random_index = np.random.permutation(X.shape[0])\n",
        "        sample_X = X[stochastic_random_index[0:batch_size]]\n",
        "        sample_y = y[stochastic_random_index[0:batch_size]]\n",
        "\n",
        "        # 추출된 데이터 기반으로 weight 업데이트\n",
        "        w1_update, w0_update = get_weight_updates(w1,w0,sample_X,sample_y,learning_rate=0.01)\n",
        "        w1 -= w1_update\n",
        "        w0 -= w0_update\n",
        "\n",
        "    return w1, w0"
      ]
    },
    {
      "cell_type": "markdown",
      "metadata": {
        "id": "Hsxfhosd2Fxq"
      },
      "source": [
        "## **3-2. 위 함수 `stochastic_gradient_descent_steps()`를 실행해 w1, w0 및 예측 오차 비용을 계산해 보세요.**"
      ]
    },
    {
      "cell_type": "code",
      "execution_count": 23,
      "metadata": {
        "id": "cvG6XMzW2Fxr",
        "colab": {
          "base_uri": "https://localhost:8080/",
          "height": 0
        },
        "outputId": "7f707ce2-92df-411a-b681-6f5956a24b6f"
      },
      "outputs": [
        {
          "output_type": "stream",
          "name": "stdout",
          "text": [
            "w1: 1.61 w0: 6.766\n",
            "Stochastic Gradient Descent Total Cost: 0.8575\n"
          ]
        }
      ],
      "source": [
        "w1, w0 = stochastic_gradient_descent_steps(X,y,iters=1000)\n",
        "y_pred = w1[0,0]*X+w0\n",
        "\n",
        "print(\"w1:\", round(w1[0, 0], 3), \"w0:\", round(w0[0, 0], 3))\n",
        "print(\"Stochastic Gradient Descent Total Cost: {:.4f}\".format(get_cost(y, y_pred)))"
      ]
    },
    {
      "cell_type": "markdown",
      "metadata": {
        "id": "-WiQxUFW2Fxs"
      },
      "source": [
        "## **3-3. y_pred를 활용하여 실제 데이터와 회귀선을 함께 시각화해 보세요.**"
      ]
    },
    {
      "cell_type": "markdown",
      "metadata": {
        "id": "Bsz9PTfW2Fxs"
      },
      "source": [
        "X와 y는 실제 데이터, y_pred는 확률적 경사 하강법(Stochastic Gradient Descent)으로 예측한 값입니다.\n",
        "세 값을 하나의 그래프에 시각화하여 결과를 도출해 봅시다."
      ]
    },
    {
      "cell_type": "code",
      "execution_count": 24,
      "metadata": {
        "id": "WrU5CAVW2Fxt",
        "colab": {
          "base_uri": "https://localhost:8080/",
          "height": 450
        },
        "outputId": "35062e77-2839-47e8-ad88-3a91da6b2bd2"
      },
      "outputs": [
        {
          "output_type": "execute_result",
          "data": {
            "text/plain": [
              "[<matplotlib.lines.Line2D at 0x7945e071f3d0>]"
            ]
          },
          "metadata": {},
          "execution_count": 24
        },
        {
          "output_type": "display_data",
          "data": {
            "text/plain": [
              "<Figure size 640x480 with 1 Axes>"
            ],
            "image/png": "[encoded data removed]"
          },
          "metadata": {}
        }
      ],
      "source": [
        "plt.scatter(X,y)\n",
        "plt.plot(X,y_pred)"
      ]
    },
    {
      "cell_type": "markdown",
      "source": [
        "# **4. diamonds 데이터셋을 이용한 회귀 실습**\n",
        "\n",
        "seaborn의 diamonds 데이터셋을 사용해 진행합니다. 아래 셀들을 실행해 모듈과 데이터셋을 로드해주세요."
      ],
      "metadata": {
        "id": "DLW2YIon3FSX"
      }
    },
    {
      "cell_type": "code",
      "source": [
        "import seaborn as sns\n",
        "import numpy as np\n",
        "import pandas as pd\n",
        "from sklearn.preprocessing import PolynomialFeatures, StandardScaler\n",
        "from sklearn.linear_model import LinearRegression\n",
        "from sklearn.pipeline import Pipeline\n",
        "from sklearn.model_selection import train_test_split\n",
        "from sklearn.metrics import mean_squared_error, r2_score\n",
        "\n",
        "dm = sns.load_dataset('diamonds')\n"
      ],
      "metadata": {
        "id": "RRaV1MOz8zBu"
      },
      "execution_count": 25,
      "outputs": []
    },
    {
      "cell_type": "code",
      "source": [
        "dm.head() # feature 확인용"
      ],
      "metadata": {
        "colab": {
          "base_uri": "https://localhost:8080/",
          "height": 206
        },
        "id": "zHXC52vIABQO",
        "outputId": "3afe5a4d-e25b-4428-8c54-43177e2cf700"
      },
      "execution_count": 26,
      "outputs": [
        {
          "output_type": "execute_result",
          "data": {
            "text/plain": [
              "   carat      cut color clarity  depth  table  price     x     y     z\n",
              "0   0.23    Ideal     E     SI2   61.5   55.0    326  3.95  3.98  2.43\n",
              "1   0.21  Premium     E     SI1   59.8   61.0    326  3.89  3.84  2.31\n",
              "2   0.23     Good     E     VS1   56.9   65.0    327  4.05  4.07  2.31\n",
              "3   0.29  Premium     I     VS2   62.4   58.0    334  4.20  4.23  2.63\n",
              "4   0.31     Good     J     SI2   63.3   58.0    335  4.34  4.35  2.75"
            ],
            "text/html": [
              "\n",
              "  <div id=\"df-b260728f-d3f3-4570-879e-ff94ce823e05\" class=\"colab-df-container\">\n",
              "    <div>\n",
              "<style scoped>\n",
              "    .dataframe tbody tr th:only-of-type {\n",
              "        vertical-align: middle;\n",
              "    }\n",
              "\n",
              "    .dataframe tbody tr th {\n",
              "        vertical-align: top;\n",
              "    }\n",
              "\n",
              "    .dataframe thead th {\n",
              "        text-align: right;\n",
              "    }\n",
              "</style>\n",
              "<table border=\"1\" class=\"dataframe\">\n",
              "  <thead>\n",
              "    <tr style=\"text-align: right;\">\n",
              "      <th></th>\n",
              "      <th>carat</th>\n",
              "      <th>cut</th>\n",
              "      <th>color</th>\n",
              "      <th>clarity</th>\n",
              "      <th>depth</th>\n",
              "      <th>table</th>\n",
              "      <th>price</th>\n",
              "      <th>x</th>\n",
              "      <th>y</th>\n",
              "      <th>z</th>\n",
              "    </tr>\n",
              "  </thead>\n",
              "  <tbody>\n",
              "    <tr>\n",
              "      <th>0</th>\n",
              "      <td>0.23</td>\n",
              "      <td>Ideal</td>\n",
              "      <td>E</td>\n",
              "      <td>SI2</td>\n",
              "      <td>61.5</td>\n",
              "      <td>55.0</td>\n",
              "      <td>326</td>\n",
              "      <td>3.95</td>\n",
              "      <td>3.98</td>\n",
              "      <td>2.43</td>\n",
              "    </tr>\n",
              "    <tr>\n",
              "      <th>1</th>\n",
              "      <td>0.21</td>\n",
              "      <td>Premium</td>\n",
              "      <td>E</td>\n",
              "      <td>SI1</td>\n",
              "      <td>59.8</td>\n",
              "      <td>61.0</td>\n",
              "      <td>326</td>\n",
              "      <td>3.89</td>\n",
              "      <td>3.84</td>\n",
              "      <td>2.31</td>\n",
              "    </tr>\n",
              "    <tr>\n",
              "      <th>2</th>\n",
              "      <td>0.23</td>\n",
              "      <td>Good</td>\n",
              "      <td>E</td>\n",
              "      <td>VS1</td>\n",
              "      <td>56.9</td>\n",
              "      <td>65.0</td>\n",
              "      <td>327</td>\n",
              "      <td>4.05</td>\n",
              "      <td>4.07</td>\n",
              "      <td>2.31</td>\n",
              "    </tr>\n",
              "    <tr>\n",
              "      <th>3</th>\n",
              "      <td>0.29</td>\n",
              "      <td>Premium</td>\n",
              "      <td>I</td>\n",
              "      <td>VS2</td>\n",
              "      <td>62.4</td>\n",
              "      <td>58.0</td>\n",
              "      <td>334</td>\n",
              "      <td>4.20</td>\n",
              "      <td>4.23</td>\n",
              "      <td>2.63</td>\n",
              "    </tr>\n",
              "    <tr>\n",
              "      <th>4</th>\n",
              "      <td>0.31</td>\n",
              "      <td>Good</td>\n",
              "      <td>J</td>\n",
              "      <td>SI2</td>\n",
              "      <td>63.3</td>\n",
              "      <td>58.0</td>\n",
              "      <td>335</td>\n",
              "      <td>4.34</td>\n",
              "      <td>4.35</td>\n",
              "      <td>2.75</td>\n",
              "    </tr>\n",
              "  </tbody>\n",
              "</table>\n",
              "</div>\n",
              "    <div class=\"colab-df-buttons\">\n",
              "\n",
              "  <div class=\"colab-df-container\">\n",
              "    <button class=\"colab-df-convert\" onclick=\"convertToInteractive('df-b260728f-d3f3-4570-879e-ff94ce823e05')\"\n",
              "            title=\"Convert this dataframe to an interactive table.\"\n",
              "            style=\"display:none;\">\n",
              "\n",
              "  <svg xmlns=\"http://www.w3.org/2000/svg\" height=\"24px\" viewBox=\"0 -960 960 960\">\n",
              "    <path d=\"M120-120v-720h720v720H120Zm60-500h600v-160H180v160Zm220 220h160v-160H400v160Zm0 220h160v-160H400v160ZM180-400h160v-160H180v160Zm440 0h160v-160H620v160ZM180-180h160v-160H180v160Zm440 0h160v-160H620v160Z\"/>\n",
              "  </svg>\n",
              "    </button>\n",
              "\n",
              "  <style>\n",
              "    .colab-df-container {\n",
              "      display:flex;\n",
              "      gap: 12px;\n",
              "    }\n",
              "\n",
              "    .colab-df-convert {\n",
              "      background-color: #E8F0FE;\n",
              "      border: none;\n",
              "      border-radius: 50%;\n",
              "      cursor: pointer;\n",
              "      display: none;\n",
              "      fill: #1967D2;\n",
              "      height: 32px;\n",
              "      padding: 0 0 0 0;\n",
              "      width: 32px;\n",
              "    }\n",
              "\n",
              "    .colab-df-convert:hover {\n",
              "      background-color: #E2EBFA;\n",
              "      box-shadow: 0px 1px 2px rgba(60, 64, 67, 0.3), 0px 1px 3px 1px rgba(60, 64, 67, 0.15);\n",
              "      fill: #174EA6;\n",
              "    }\n",
              "\n",
              "    .colab-df-buttons div {\n",
              "      margin-bottom: 4px;\n",
              "    }\n",
              "\n",
              "    [theme=dark] .colab-df-convert {\n",
              "      background-color: #3B4455;\n",
              "      fill: #D2E3FC;\n",
              "    }\n",
              "\n",
              "    [theme=dark] .colab-df-convert:hover {\n",
              "      background-color: #434B5C;\n",
              "      box-shadow: 0px 1px 3px 1px rgba(0, 0, 0, 0.15);\n",
              "      filter: drop-shadow(0px 1px 2px rgba(0, 0, 0, 0.3));\n",
              "      fill: #FFFFFF;\n",
              "    }\n",
              "  </style>\n",
              "\n",
              "    <script>\n",
              "      const buttonEl =\n",
              "        document.querySelector('#df-b260728f-d3f3-4570-879e-ff94ce823e05 button.colab-df-convert');\n",
              "      buttonEl.style.display =\n",
              "        google.colab.kernel.accessAllowed ? 'block' : 'none';\n",
              "\n",
              "      async function convertToInteractive(key) {\n",
              "        const element = document.querySelector('#df-b260728f-d3f3-4570-879e-ff94ce823e05');\n",
              "        const dataTable =\n",
              "          await google.colab.kernel.invokeFunction('convertToInteractive',\n",
              "                                                    [key], {});\n",
              "        if (!dataTable) return;\n",
              "\n",
              "        const docLinkHtml = 'Like what you see? Visit the ' +\n",
              "          '<a target=\"_blank\" href=https://colab.research.google.com/notebooks/data_table.ipynb>data table notebook</a>'\n",
              "          + ' to learn more about interactive tables.';\n",
              "        element.innerHTML = '';\n",
              "        dataTable['output_type'] = 'display_data';\n",
              "        await google.colab.output.renderOutput(dataTable, element);\n",
              "        const docLink = document.createElement('div');\n",
              "        docLink.innerHTML = docLinkHtml;\n",
              "        element.appendChild(docLink);\n",
              "      }\n",
              "    </script>\n",
              "  </div>\n",
              "\n",
              "\n",
              "    <div id=\"df-8d7e01f3-f936-40cb-a0b8-b8216b41bc54\">\n",
              "      <button class=\"colab-df-quickchart\" onclick=\"quickchart('df-8d7e01f3-f936-40cb-a0b8-b8216b41bc54')\"\n",
              "                title=\"Suggest charts\"\n",
              "                style=\"display:none;\">\n",
              "\n",
              "<svg xmlns=\"http://www.w3.org/2000/svg\" height=\"24px\"viewBox=\"0 0 24 24\"\n",
              "     width=\"24px\">\n",
              "    <g>\n",
              "        <path d=\"M19 3H5c-1.1 0-2 .9-2 2v14c0 1.1.9 2 2 2h14c1.1 0 2-.9 2-2V5c0-1.1-.9-2-2-2zM9 17H7v-7h2v7zm4 0h-2V7h2v10zm4 0h-2v-4h2v4z\"/>\n",
              "    </g>\n",
              "</svg>\n",
              "      </button>\n",
              "\n",
              "<style>\n",
              "  .colab-df-quickchart {\n",
              "      --bg-color: #E8F0FE;\n",
              "      --fill-color: #1967D2;\n",
              "      --hover-bg-color: #E2EBFA;\n",
              "      --hover-fill-color: #174EA6;\n",
              "      --disabled-fill-color: #AAA;\n",
              "      --disabled-bg-color: #DDD;\n",
              "  }\n",
              "\n",
              "  [theme=dark] .colab-df-quickchart {\n",
              "      --bg-color: #3B4455;\n",
              "      --fill-color: #D2E3FC;\n",
              "      --hover-bg-color: #434B5C;\n",
              "      --hover-fill-color: #FFFFFF;\n",
              "      --disabled-bg-color: #3B4455;\n",
              "      --disabled-fill-color: #666;\n",
              "  }\n",
              "\n",
              "  .colab-df-quickchart {\n",
              "    background-color: var(--bg-color);\n",
              "    border: none;\n",
              "    border-radius: 50%;\n",
              "    cursor: pointer;\n",
              "    display: none;\n",
              "    fill: var(--fill-color);\n",
              "    height: 32px;\n",
              "    padding: 0;\n",
              "    width: 32px;\n",
              "  }\n",
              "\n",
              "  .colab-df-quickchart:hover {\n",
              "    background-color: var(--hover-bg-color);\n",
              "    box-shadow: 0 1px 2px rgba(60, 64, 67, 0.3), 0 1px 3px 1px rgba(60, 64, 67, 0.15);\n",
              "    fill: var(--button-hover-fill-color);\n",
              "  }\n",
              "\n",
              "  .colab-df-quickchart-complete:disabled,\n",
              "  .colab-df-quickchart-complete:disabled:hover {\n",
              "    background-color: var(--disabled-bg-color);\n",
              "    fill: var(--disabled-fill-color);\n",
              "    box-shadow: none;\n",
              "  }\n",
              "\n",
              "  .colab-df-spinner {\n",
              "    border: 2px solid var(--fill-color);\n",
              "    border-color: transparent;\n",
              "    border-bottom-color: var(--fill-color);\n",
              "    animation:\n",
              "      spin 1s steps(1) infinite;\n",
              "  }\n",
              "\n",
              "  @keyframes spin {\n",
              "    0% {\n",
              "      border-color: transparent;\n",
              "      border-bottom-color: var(--fill-color);\n",
              "      border-left-color: var(--fill-color);\n",
              "    }\n",
              "    20% {\n",
              "      border-color: transparent;\n",
              "      border-left-color: var(--fill-color);\n",
              "      border-top-color: var(--fill-color);\n",
              "    }\n",
              "    30% {\n",
              "      border-color: transparent;\n",
              "      border-left-color: var(--fill-color);\n",
              "      border-top-color: var(--fill-color);\n",
              "      border-right-color: var(--fill-color);\n",
              "    }\n",
              "    40% {\n",
              "      border-color: transparent;\n",
              "      border-right-color: var(--fill-color);\n",
              "      border-top-color: var(--fill-color);\n",
              "    }\n",
              "    60% {\n",
              "      border-color: transparent;\n",
              "      border-right-color: var(--fill-color);\n",
              "    }\n",
              "    80% {\n",
              "      border-color: transparent;\n",
              "      border-right-color: var(--fill-color);\n",
              "      border-bottom-color: var(--fill-color);\n",
              "    }\n",
              "    90% {\n",
              "      border-color: transparent;\n",
              "      border-bottom-color: var(--fill-color);\n",
              "    }\n",
              "  }\n",
              "</style>\n",
              "\n",
              "      <script>\n",
              "        async function quickchart(key) {\n",
              "          const quickchartButtonEl =\n",
              "            document.querySelector('#' + key + ' button');\n",
              "          quickchartButtonEl.disabled = true;  // To prevent multiple clicks.\n",
              "          quickchartButtonEl.classList.add('colab-df-spinner');\n",
              "          try {\n",
              "            const charts = await google.colab.kernel.invokeFunction(\n",
              "                'suggestCharts', [key], {});\n",
              "          } catch (error) {\n",
              "            console.error('Error during call to suggestCharts:', error);\n",
              "          }\n",
              "          quickchartButtonEl.classList.remove('colab-df-spinner');\n",
              "          quickchartButtonEl.classList.add('colab-df-quickchart-complete');\n",
              "        }\n",
              "        (() => {\n",
              "          let quickchartButtonEl =\n",
              "            document.querySelector('#df-8d7e01f3-f936-40cb-a0b8-b8216b41bc54 button');\n",
              "          quickchartButtonEl.style.display =\n",
              "            google.colab.kernel.accessAllowed ? 'block' : 'none';\n",
              "        })();\n",
              "      </script>\n",
              "    </div>\n",
              "\n",
              "    </div>\n",
              "  </div>\n"
            ],
            "application/vnd.google.colaboratory.intrinsic+json": {
              "type": "dataframe",
              "variable_name": "dm",
              "summary": "{\n  \"name\": \"dm\",\n  \"rows\": 53940,\n  \"fields\": [\n    {\n      \"column\": \"carat\",\n      \"properties\": {\n        \"dtype\": \"number\",\n        \"std\": 0.47401124440538067,\n        \"min\": 0.2,\n        \"max\": 5.01,\n        \"num_unique_values\": 273,\n        \"samples\": [\n          0.77,\n          1.58,\n          0.65\n        ],\n        \"semantic_type\": \"\",\n        \"description\": \"\"\n      }\n    },\n    {\n      \"column\": \"cut\",\n      \"properties\": {\n        \"dtype\": \"category\",\n        \"num_unique_values\": 5,\n        \"samples\": [\n          \"Premium\",\n          \"Fair\",\n          \"Good\"\n        ],\n        \"semantic_type\": \"\",\n        \"description\": \"\"\n      }\n    },\n    {\n      \"column\": \"color\",\n      \"properties\": {\n        \"dtype\": \"category\",\n        \"num_unique_values\": 7,\n        \"samples\": [\n          \"E\",\n          \"I\",\n          \"G\"\n        ],\n        \"semantic_type\": \"\",\n        \"description\": \"\"\n      }\n    },\n    {\n      \"column\": \"clarity\",\n      \"properties\": {\n        \"dtype\": \"category\",\n        \"num_unique_values\": 8,\n        \"samples\": [\n          \"SI1\",\n          \"VVS1\",\n          \"SI2\"\n        ],\n        \"semantic_type\": \"\",\n        \"description\": \"\"\n      }\n    },\n    {\n      \"column\": \"depth\",\n      \"properties\": {\n        \"dtype\": \"number\",\n        \"std\": 1.4326213188337733,\n        \"min\": 43.0,\n        \"max\": 79.0,\n        \"num_unique_values\": 184,\n        \"samples\": [\n          61.0,\n          62.9,\n          70.2\n        ],\n        \"semantic_type\": \"\",\n        \"description\": \"\"\n      }\n    },\n    {\n      \"column\": \"table\",\n      \"properties\": {\n        \"dtype\": \"number\",\n        \"std\": 2.234490562820938,\n        \"min\": 43.0,\n        \"max\": 95.0,\n        \"num_unique_values\": 127,\n        \"samples\": [\n          54.8,\n          61.5,\n          57.6\n        ],\n        \"semantic_type\": \"\",\n        \"description\": \"\"\n      }\n    },\n    {\n      \"column\": \"price\",\n      \"properties\": {\n        \"dtype\": \"number\",\n        \"std\": 3989,\n        \"min\": 326,\n        \"max\": 18823,\n        \"num_unique_values\": 11602,\n        \"samples\": [\n          16368,\n          895,\n          748\n        ],\n        \"semantic_type\": \"\",\n        \"description\": \"\"\n      }\n    },\n    {\n      \"column\": \"x\",\n      \"properties\": {\n        \"dtype\": \"number\",\n        \"std\": 1.1217607467924422,\n        \"min\": 0.0,\n        \"max\": 10.74,\n        \"num_unique_values\": 554,\n        \"samples\": [\n          5.88,\n          5.69,\n          4.61\n        ],\n        \"semantic_type\": \"\",\n        \"description\": \"\"\n      }\n    },\n    {\n      \"column\": \"y\",\n      \"properties\": {\n        \"dtype\": \"number\",\n        \"std\": 1.1421346741235396,\n        \"min\": 0.0,\n        \"max\": 58.9,\n        \"num_unique_values\": 552,\n        \"samples\": [\n          5.33,\n          5.61,\n          5.25\n        ],\n        \"semantic_type\": \"\",\n        \"description\": \"\"\n      }\n    },\n    {\n      \"column\": \"z\",\n      \"properties\": {\n        \"dtype\": \"number\",\n        \"std\": 0.7056988469499964,\n        \"min\": 0.0,\n        \"max\": 31.8,\n        \"num_unique_values\": 375,\n        \"samples\": [\n          3.36,\n          2.45,\n          2.7\n        ],\n        \"semantic_type\": \"\",\n        \"description\": \"\"\n      }\n    }\n  ]\n}"
            }
          },
          "metadata": {},
          "execution_count": 26
        }
      ]
    },
    {
      "cell_type": "markdown",
      "source": [
        "## **4-1. 수치형 변수들로 산점도와 선형회귀 직선 그리기**\n",
        "\n",
        "수치형 변수들과 price의 관계를 알아보기 위해 시각화합니다."
      ],
      "metadata": {
        "id": "qMoCq-JiB7dp"
      }
    },
    {
      "cell_type": "code",
      "source": [
        "fig,axs = plt.subplots(figsize = (16,8), nrows=2,ncols=4)\n",
        "dm_features = ['carat','depth','table','price','x','y','z']\n",
        "\n",
        "for i, feature in enumerate(dm_features):\n",
        "  row = i//4\n",
        "  col = i%4\n",
        "\n",
        "  sns.regplot(x=feature,y='price',data=dm,ax=axs[row][col])\n",
        "  # 산점도와 선형회귀 직선 표현"
      ],
      "metadata": {
        "id": "RMXIrf_RCkzp",
        "colab": {
          "base_uri": "https://localhost:8080/",
          "height": 362
        },
        "outputId": "b52ed45a-e39c-4c30-a64b-e3270801a62c"
      },
      "execution_count": 51,
      "outputs": [
        {
          "output_type": "display_data",
          "data": {
            "text/plain": [
              "<Figure size 1600x800 with 8 Axes>"
            ],
            "image/png": "[encoded data removed]"
          },
          "metadata": {}
        }
      ]
    },
    {
      "cell_type": "markdown",
      "source": [
        "## **4-2. 다이아몬드 가격의 선형 회귀 모델 만들기**\n",
        "\n",
        "\n",
        "\n"
      ],
      "metadata": {
        "id": "pJSOrTLWC8yG"
      }
    },
    {
      "cell_type": "markdown",
      "source": [
        "수치형 변수들에 대해 선형 회귀 모델을 만듭니다."
      ],
      "metadata": {
        "id": "kXknT7EXEtJu"
      }
    },
    {
      "cell_type": "code",
      "source": [
        "y_target =dm['price']\n",
        "X_data = pd.get_dummies(dm.drop('price', axis=1))\n",
        "\n",
        "X_train, X_test, y_train, y_test = train_test_split(X_data,y_target, test_size=0.3,\n",
        "                                                    random_state=156)"
      ],
      "metadata": {
        "id": "fBLBRJAYDIJI"
      },
      "execution_count": 57,
      "outputs": []
    },
    {
      "cell_type": "code",
      "source": [
        "from sklearn.linear_model import LinearRegression\n",
        "\n",
        "# 선형회귀모델 만들기\n",
        "model = LinearRegression()\n",
        "model.fit(X_train, y_train)\n",
        "\n",
        "y_preds = model.predict(X_test)"
      ],
      "metadata": {
        "id": "MPxhgvqlE9UB"
      },
      "execution_count": 58,
      "outputs": []
    },
    {
      "cell_type": "markdown",
      "source": [
        "## **4-3. 만든 선형 회귀모델에 대해 MSE, RMSE, R2을 통해 평가해주세요.**\n"
      ],
      "metadata": {
        "id": "JHSZXNrRH8Fg"
      }
    },
    {
      "cell_type": "code",
      "source": [
        "# 선형 회귀 모델 학습 평가 - mse, rmse, R2 score #\n",
        "mse = mean_squared_error(y_test,y_preds)\n",
        "rmse = np.sqrt(mse)\n",
        "R2_score = r2_score(y_test,y_preds)\n",
        "\n",
        "print('mse : {} \\nrmse : {} \\nr2_score : {}'.format(mse,rmse,R2_score))"
      ],
      "metadata": {
        "colab": {
          "base_uri": "https://localhost:8080/",
          "height": 0
        },
        "id": "KKdUp5wjFRV-",
        "outputId": "e8f7a3a4-3dc2-4b81-841a-ef2405e9dcdd"
      },
      "execution_count": 59,
      "outputs": [
        {
          "output_type": "stream",
          "name": "stdout",
          "text": [
            "mse : 1255427.4748706925 \n",
            "rmse : 1120.4586002484396 \n",
            "r2_score : 0.9198357119460167\n"
          ]
        }
      ]
    },
    {
      "cell_type": "markdown",
      "source": [
        "## **4-4. 회귀모델의 절편, 회귀계수값을 확인해주세요.**"
      ],
      "metadata": {
        "id": "vkyC5JF6IMUk"
      }
    },
    {
      "cell_type": "code",
      "source": [
        "# 절편값, 회귀계수값 확인하기\n",
        "\n",
        "print('절편값: ', model.intercept_)\n",
        "print('회귀계수값: ', np.round(model.coef_, 1))"
      ],
      "metadata": {
        "id": "JfN1VKvqGNC9",
        "colab": {
          "base_uri": "https://localhost:8080/",
          "height": 0
        },
        "outputId": "1599e63b-4fc1-4468-d8b4-36bce46852f3"
      },
      "execution_count": 61,
      "outputs": [
        {
          "output_type": "stream",
          "name": "stdout",
          "text": [
            "절편값:  5216.656384145306\n",
            "회귀계수값:  [ 1.12064e+04 -5.58000e+01 -2.67000e+01 -9.19400e+02  2.92000e+01\n",
            " -1.98600e+02  2.60400e+02  1.79400e+02  1.59200e+02  5.90000e+00\n",
            " -6.04900e+02  8.14600e+02  6.17500e+02  5.53900e+02  3.42000e+02\n",
            " -1.58600e+02 -6.29400e+02 -1.53990e+03  1.52870e+03  1.21460e+03\n",
            "  1.13810e+03  7.61200e+02  4.52900e+02 -1.54700e+02 -1.13160e+03\n",
            " -3.80920e+03]\n"
          ]
        }
      ]
    },
    {
      "cell_type": "markdown",
      "source": [
        "## **4-5. cross_val_score를 통해 모델의 교차검증을 진행해주세요. 이 때 평가 지표는 mse와 rmse입니다.**\n"
      ],
      "metadata": {
        "id": "ldcckpBkIU0J"
      }
    },
    {
      "cell_type": "code",
      "source": [
        "# cross_val_score로 교차검증하기\n",
        "\n",
        "neg_mse_scores = cross_val_score(model,X_data,y_target,scoring='neg_mean_squared_error' ,cv=5)\n",
        "rmse_scores = np.sqrt(-1 * neg_mse_scores)\n",
        "avg_rmse =np.mean(np.sqrt(-1*neg_mse_scores))\n",
        "\n",
        "print('5 folds 의 MSE scores:', np.round(neg_mse_scores,2))\n",
        "print('5 folds 의 RMSE scores:', np.round(rmse_scores,2))"
      ],
      "metadata": {
        "id": "Wn3oBKsqHJXz",
        "colab": {
          "base_uri": "https://localhost:8080/",
          "height": 0
        },
        "outputId": "b52d4505-2760-4e3f-c4fb-05e4f62b9373"
      },
      "execution_count": 62,
      "outputs": [
        {
          "output_type": "stream",
          "name": "stdout",
          "text": [
            "5 folds 의 MSE scores: [ -886415.26 -1488774.65 -7400414.71  -769624.26  -635037.19]\n",
            "5 folds 의 RMSE scores: [ 941.5  1220.15 2720.37  877.28  796.89]\n"
          ]
        }
      ]
    },
    {
      "cell_type": "markdown",
      "source": [
        "# **5. sine + noise 함수를 이용한 다항회귀 실습**\n"
      ],
      "metadata": {
        "id": "I-QFVxnTIfhd"
      }
    },
    {
      "cell_type": "markdown",
      "source": [
        "## **5-1. 실습에 활용할 함수를 정의하세요.**\n"
      ],
      "metadata": {
        "id": "7CLVehSQOoqp"
      }
    },
    {
      "cell_type": "code",
      "source": [
        "\n",
        "# 회귀의 정답 함수 ( sin(2πx))\n",
        "def true_fun(x):\n",
        "    return np.sin(2*np.pi*x)\n",
        "\n",
        "# 회귀에 활용할 함수\n",
        "\n",
        "# 0부터 1까지 50개의 임의의 값을 순서대로 샘플링해주세요.\n",
        "np.random.seed(0)\n",
        "X=np.sort(np.random.rand(50))\n",
        "# 정답함수에 약간의 노이즈 변동 값을 더해주세요.\n",
        "y = true_fun(X) + np.random.randn(50)*0.1"
      ],
      "metadata": {
        "id": "kCZlxtPdPNqe"
      },
      "execution_count": 65,
      "outputs": []
    },
    {
      "cell_type": "markdown",
      "source": [
        "## **5-2. `PolynomialFeatures`, `LinearRegression`,`Pipeline` 을 이용해 다항회귀 실습을 진행해주세요.**\n",
        "\n",
        "* degree = 4로 설정해주세요.\n",
        "* 모델에 fit까지 해주세요.\n",
        "\n",
        "\n",
        "\n"
      ],
      "metadata": {
        "id": "qPObPeZ6K2dC"
      }
    },
    {
      "cell_type": "code",
      "source": [
        "## 답안 작성 ##\n",
        "\n",
        "degree=4\n",
        "polynomial_features=PolynomialFeatures(degree=degree,include_bias=False)\n",
        "linear_regression=LinearRegression()\n",
        "pipeline=Pipeline([(\"polynomial_features\",polynomial_features),(\"linear_regression\",linear_regression)])\n",
        "\n",
        "pipeline.fit(X.reshape(-1,1),y)"
      ],
      "metadata": {
        "id": "Wcs82uTfT3jV",
        "colab": {
          "base_uri": "https://localhost:8080/",
          "height": 157
        },
        "outputId": "ab8101a6-a48c-4f8a-870d-aed76e278b50"
      },
      "execution_count": 67,
      "outputs": [
        {
          "output_type": "execute_result",
          "data": {
            "text/plain": [
              "Pipeline(steps=[('polynomial_features',\n",
              "                 PolynomialFeatures(degree=4, include_bias=False)),\n",
              "                ('linear_regression', LinearRegression())])"
            ],
            "text/html": [
              "<style>#sk-container-id-1 {\n",
              "  /* Definition of color scheme common for light and dark mode */\n",
              "  --sklearn-color-text: #000;\n",
              "  --sklearn-color-text-muted: #666;\n",
              "  --sklearn-color-line: gray;\n",
              "  /* Definition of color scheme for unfitted estimators */\n",
              "  --sklearn-color-unfitted-level-0: #fff5e6;\n",
              "  --sklearn-color-unfitted-level-1: #f6e4d2;\n",
              "  --sklearn-color-unfitted-level-2: #ffe0b3;\n",
              "  --sklearn-color-unfitted-level-3: chocolate;\n",
              "  /* Definition of color scheme for fitted estimators */\n",
              "  --sklearn-color-fitted-level-0: #f0f8ff;\n",
              "  --sklearn-color-fitted-level-1: #d4ebff;\n",
              "  --sklearn-color-fitted-level-2: #b3dbfd;\n",
              "  --sklearn-color-fitted-level-3: cornflowerblue;\n",
              "\n",
              "  /* Specific color for light theme */\n",
              "  --sklearn-color-text-on-default-background: var(--sg-text-color, var(--theme-code-foreground, var(--jp-content-font-color1, black)));\n",
              "  --sklearn-color-background: var(--sg-background-color, var(--theme-background, var(--jp-layout-color0, white)));\n",
              "  --sklearn-color-border-box: var(--sg-text-color, var(--theme-code-foreground, var(--jp-content-font-color1, black)));\n",
              "  --sklearn-color-icon: #696969;\n",
              "\n",
              "  @media (prefers-color-scheme: dark) {\n",
              "    /* Redefinition of color scheme for dark theme */\n",
              "    --sklearn-color-text-on-default-background: var(--sg-text-color, var(--theme-code-foreground, var(--jp-content-font-color1, white)));\n",
              "    --sklearn-color-background: var(--sg-background-color, var(--theme-background, var(--jp-layout-color0, #111)));\n",
              "    --sklearn-color-border-box: var(--sg-text-color, var(--theme-code-foreground, var(--jp-content-font-color1, white)));\n",
              "    --sklearn-color-icon: #878787;\n",
              "  }\n",
              "}\n",
              "\n",
              "#sk-container-id-1 {\n",
              "  color: var(--sklearn-color-text);\n",
              "}\n",
              "\n",
              "#sk-container-id-1 pre {\n",
              "  padding: 0;\n",
              "}\n",
              "\n",
              "#sk-container-id-1 input.sk-hidden--visually {\n",
              "  border: 0;\n",
              "  clip: rect(1px 1px 1px 1px);\n",
              "  clip: rect(1px, 1px, 1px, 1px);\n",
              "  height: 1px;\n",
              "  margin: -1px;\n",
              "  overflow: hidden;\n",
              "  padding: 0;\n",
              "  position: absolute;\n",
              "  width: 1px;\n",
              "}\n",
              "\n",
              "#sk-container-id-1 div.sk-dashed-wrapped {\n",
              "  border: 1px dashed var(--sklearn-color-line);\n",
              "  margin: 0 0.4em 0.5em 0.4em;\n",
              "  box-sizing: border-box;\n",
              "  padding-bottom: 0.4em;\n",
              "  background-color: var(--sklearn-color-background);\n",
              "}\n",
              "\n",
              "#sk-container-id-1 div.sk-container {\n",
              "  /* jupyter's `normalize.less` sets `[hidden] { display: none; }`\n",
              "     but bootstrap.min.css set `[hidden] { display: none !important; }`\n",
              "     so we also need the `!important` here to be able to override the\n",
              "     default hidden behavior on the sphinx rendered scikit-learn.org.\n",
              "     See: https://github.com/scikit-learn/scikit-learn/issues/21755 */\n",
              "  display: inline-block !important;\n",
              "  position: relative;\n",
              "}\n",
              "\n",
              "#sk-container-id-1 div.sk-text-repr-fallback {\n",
              "  display: none;\n",
              "}\n",
              "\n",
              "div.sk-parallel-item,\n",
              "div.sk-serial,\n",
              "div.sk-item {\n",
              "  /* draw centered vertical line to link estimators */\n",
              "  background-image: linear-gradient(var(--sklearn-color-text-on-default-background), var(--sklearn-color-text-on-default-background));\n",
              "  background-size: 2px 100%;\n",
              "  background-repeat: no-repeat;\n",
              "  background-position: center center;\n",
              "}\n",
              "\n",
              "/* Parallel-specific style estimator block */\n",
              "\n",
              "#sk-container-id-1 div.sk-parallel-item::after {\n",
              "  content: \"\";\n",
              "  width: 100%;\n",
              "  border-bottom: 2px solid var(--sklearn-color-text-on-default-background);\n",
              "  flex-grow: 1;\n",
              "}\n",
              "\n",
              "#sk-container-id-1 div.sk-parallel {\n",
              "  display: flex;\n",
              "  align-items: stretch;\n",
              "  justify-content: center;\n",
              "  background-color: var(--sklearn-color-background);\n",
              "  position: relative;\n",
              "}\n",
              "\n",
              "#sk-container-id-1 div.sk-parallel-item {\n",
              "  display: flex;\n",
              "  flex-direction: column;\n",
              "}\n",
              "\n",
              "#sk-container-id-1 div.sk-parallel-item:first-child::after {\n",
              "  align-self: flex-end;\n",
              "  width: 50%;\n",
              "}\n",
              "\n",
              "#sk-container-id-1 div.sk-parallel-item:last-child::after {\n",
              "  align-self: flex-start;\n",
              "  width: 50%;\n",
              "}\n",
              "\n",
              "#sk-container-id-1 div.sk-parallel-item:only-child::after {\n",
              "  width: 0;\n",
              "}\n",
              "\n",
              "/* Serial-specific style estimator block */\n",
              "\n",
              "#sk-container-id-1 div.sk-serial {\n",
              "  display: flex;\n",
              "  flex-direction: column;\n",
              "  align-items: center;\n",
              "  background-color: var(--sklearn-color-background);\n",
              "  padding-right: 1em;\n",
              "  padding-left: 1em;\n",
              "}\n",
              "\n",
              "\n",
              "/* Toggleable style: style used for estimator/Pipeline/ColumnTransformer box that is\n",
              "clickable and can be expanded/collapsed.\n",
              "- Pipeline and ColumnTransformer use this feature and define the default style\n",
              "- Estimators will overwrite some part of the style using the `sk-estimator` class\n",
              "*/\n",
              "\n",
              "/* Pipeline and ColumnTransformer style (default) */\n",
              "\n",
              "#sk-container-id-1 div.sk-toggleable {\n",
              "  /* Default theme specific background. It is overwritten whether we have a\n",
              "  specific estimator or a Pipeline/ColumnTransformer */\n",
              "  background-color: var(--sklearn-color-background);\n",
              "}\n",
              "\n",
              "/* Toggleable label */\n",
              "#sk-container-id-1 label.sk-toggleable__label {\n",
              "  cursor: pointer;\n",
              "  display: flex;\n",
              "  width: 100%;\n",
              "  margin-bottom: 0;\n",
              "  padding: 0.5em;\n",
              "  box-sizing: border-box;\n",
              "  text-align: center;\n",
              "  align-items: start;\n",
              "  justify-content: space-between;\n",
              "  gap: 0.5em;\n",
              "}\n",
              "\n",
              "#sk-container-id-1 label.sk-toggleable__label .caption {\n",
              "  font-size: 0.6rem;\n",
              "  font-weight: lighter;\n",
              "  color: var(--sklearn-color-text-muted);\n",
              "}\n",
              "\n",
              "#sk-container-id-1 label.sk-toggleable__label-arrow:before {\n",
              "  /* Arrow on the left of the label */\n",
              "  content: \"▸\";\n",
              "  float: left;\n",
              "  margin-right: 0.25em;\n",
              "  color: var(--sklearn-color-icon);\n",
              "}\n",
              "\n",
              "#sk-container-id-1 label.sk-toggleable__label-arrow:hover:before {\n",
              "  color: var(--sklearn-color-text);\n",
              "}\n",
              "\n",
              "/* Toggleable content - dropdown */\n",
              "\n",
              "#sk-container-id-1 div.sk-toggleable__content {\n",
              "  max-height: 0;\n",
              "  max-width: 0;\n",
              "  overflow: hidden;\n",
              "  text-align: left;\n",
              "  /* unfitted */\n",
              "  background-color: var(--sklearn-color-unfitted-level-0);\n",
              "}\n",
              "\n",
              "#sk-container-id-1 div.sk-toggleable__content.fitted {\n",
              "  /* fitted */\n",
              "  background-color: var(--sklearn-color-fitted-level-0);\n",
              "}\n",
              "\n",
              "#sk-container-id-1 div.sk-toggleable__content pre {\n",
              "  margin: 0.2em;\n",
              "  border-radius: 0.25em;\n",
              "  color: var(--sklearn-color-text);\n",
              "  /* unfitted */\n",
              "  background-color: var(--sklearn-color-unfitted-level-0);\n",
              "}\n",
              "\n",
              "#sk-container-id-1 div.sk-toggleable__content.fitted pre {\n",
              "  /* unfitted */\n",
              "  background-color: var(--sklearn-color-fitted-level-0);\n",
              "}\n",
              "\n",
              "#sk-container-id-1 input.sk-toggleable__control:checked~div.sk-toggleable__content {\n",
              "  /* Expand drop-down */\n",
              "  max-height: 200px;\n",
              "  max-width: 100%;\n",
              "  overflow: auto;\n",
              "}\n",
              "\n",
              "#sk-container-id-1 input.sk-toggleable__control:checked~label.sk-toggleable__label-arrow:before {\n",
              "  content: \"▾\";\n",
              "}\n",
              "\n",
              "/* Pipeline/ColumnTransformer-specific style */\n",
              "\n",
              "#sk-container-id-1 div.sk-label input.sk-toggleable__control:checked~label.sk-toggleable__label {\n",
              "  color: var(--sklearn-color-text);\n",
              "  background-color: var(--sklearn-color-unfitted-level-2);\n",
              "}\n",
              "\n",
              "#sk-container-id-1 div.sk-label.fitted input.sk-toggleable__control:checked~label.sk-toggleable__label {\n",
              "  background-color: var(--sklearn-color-fitted-level-2);\n",
              "}\n",
              "\n",
              "/* Estimator-specific style */\n",
              "\n",
              "/* Colorize estimator box */\n",
              "#sk-container-id-1 div.sk-estimator input.sk-toggleable__control:checked~label.sk-toggleable__label {\n",
              "  /* unfitted */\n",
              "  background-color: var(--sklearn-color-unfitted-level-2);\n",
              "}\n",
              "\n",
              "#sk-container-id-1 div.sk-estimator.fitted input.sk-toggleable__control:checked~label.sk-toggleable__label {\n",
              "  /* fitted */\n",
              "  background-color: var(--sklearn-color-fitted-level-2);\n",
              "}\n",
              "\n",
              "#sk-container-id-1 div.sk-label label.sk-toggleable__label,\n",
              "#sk-container-id-1 div.sk-label label {\n",
              "  /* The background is the default theme color */\n",
              "  color: var(--sklearn-color-text-on-default-background);\n",
              "}\n",
              "\n",
              "/* On hover, darken the color of the background */\n",
              "#sk-container-id-1 div.sk-label:hover label.sk-toggleable__label {\n",
              "  color: var(--sklearn-color-text);\n",
              "  background-color: var(--sklearn-color-unfitted-level-2);\n",
              "}\n",
              "\n",
              "/* Label box, darken color on hover, fitted */\n",
              "#sk-container-id-1 div.sk-label.fitted:hover label.sk-toggleable__label.fitted {\n",
              "  color: var(--sklearn-color-text);\n",
              "  background-color: var(--sklearn-color-fitted-level-2);\n",
              "}\n",
              "\n",
              "/* Estimator label */\n",
              "\n",
              "#sk-container-id-1 div.sk-label label {\n",
              "  font-family: monospace;\n",
              "  font-weight: bold;\n",
              "  display: inline-block;\n",
              "  line-height: 1.2em;\n",
              "}\n",
              "\n",
              "#sk-container-id-1 div.sk-label-container {\n",
              "  text-align: center;\n",
              "}\n",
              "\n",
              "/* Estimator-specific */\n",
              "#sk-container-id-1 div.sk-estimator {\n",
              "  font-family: monospace;\n",
              "  border: 1px dotted var(--sklearn-color-border-box);\n",
              "  border-radius: 0.25em;\n",
              "  box-sizing: border-box;\n",
              "  margin-bottom: 0.5em;\n",
              "  /* unfitted */\n",
              "  background-color: var(--sklearn-color-unfitted-level-0);\n",
              "}\n",
              "\n",
              "#sk-container-id-1 div.sk-estimator.fitted {\n",
              "  /* fitted */\n",
              "  background-color: var(--sklearn-color-fitted-level-0);\n",
              "}\n",
              "\n",
              "/* on hover */\n",
              "#sk-container-id-1 div.sk-estimator:hover {\n",
              "  /* unfitted */\n",
              "  background-color: var(--sklearn-color-unfitted-level-2);\n",
              "}\n",
              "\n",
              "#sk-container-id-1 div.sk-estimator.fitted:hover {\n",
              "  /* fitted */\n",
              "  background-color: var(--sklearn-color-fitted-level-2);\n",
              "}\n",
              "\n",
              "/* Specification for estimator info (e.g. \"i\" and \"?\") */\n",
              "\n",
              "/* Common style for \"i\" and \"?\" */\n",
              "\n",
              ".sk-estimator-doc-link,\n",
              "a:link.sk-estimator-doc-link,\n",
              "a:visited.sk-estimator-doc-link {\n",
              "  float: right;\n",
              "  font-size: smaller;\n",
              "  line-height: 1em;\n",
              "  font-family: monospace;\n",
              "  background-color: var(--sklearn-color-background);\n",
              "  border-radius: 1em;\n",
              "  height: 1em;\n",
              "  width: 1em;\n",
              "  text-decoration: none !important;\n",
              "  margin-left: 0.5em;\n",
              "  text-align: center;\n",
              "  /* unfitted */\n",
              "  border: var(--sklearn-color-unfitted-level-1) 1pt solid;\n",
              "  color: var(--sklearn-color-unfitted-level-1);\n",
              "}\n",
              "\n",
              ".sk-estimator-doc-link.fitted,\n",
              "a:link.sk-estimator-doc-link.fitted,\n",
              "a:visited.sk-estimator-doc-link.fitted {\n",
              "  /* fitted */\n",
              "  border: var(--sklearn-color-fitted-level-1) 1pt solid;\n",
              "  color: var(--sklearn-color-fitted-level-1);\n",
              "}\n",
              "\n",
              "/* On hover */\n",
              "div.sk-estimator:hover .sk-estimator-doc-link:hover,\n",
              ".sk-estimator-doc-link:hover,\n",
              "div.sk-label-container:hover .sk-estimator-doc-link:hover,\n",
              ".sk-estimator-doc-link:hover {\n",
              "  /* unfitted */\n",
              "  background-color: var(--sklearn-color-unfitted-level-3);\n",
              "  color: var(--sklearn-color-background);\n",
              "  text-decoration: none;\n",
              "}\n",
              "\n",
              "div.sk-estimator.fitted:hover .sk-estimator-doc-link.fitted:hover,\n",
              ".sk-estimator-doc-link.fitted:hover,\n",
              "div.sk-label-container:hover .sk-estimator-doc-link.fitted:hover,\n",
              ".sk-estimator-doc-link.fitted:hover {\n",
              "  /* fitted */\n",
              "  background-color: var(--sklearn-color-fitted-level-3);\n",
              "  color: var(--sklearn-color-background);\n",
              "  text-decoration: none;\n",
              "}\n",
              "\n",
              "/* Span, style for the box shown on hovering the info icon */\n",
              ".sk-estimator-doc-link span {\n",
              "  display: none;\n",
              "  z-index: 9999;\n",
              "  position: relative;\n",
              "  font-weight: normal;\n",
              "  right: .2ex;\n",
              "  padding: .5ex;\n",
              "  margin: .5ex;\n",
              "  width: min-content;\n",
              "  min-width: 20ex;\n",
              "  max-width: 50ex;\n",
              "  color: var(--sklearn-color-text);\n",
              "  box-shadow: 2pt 2pt 4pt #999;\n",
              "  /* unfitted */\n",
              "  background: var(--sklearn-color-unfitted-level-0);\n",
              "  border: .5pt solid var(--sklearn-color-unfitted-level-3);\n",
              "}\n",
              "\n",
              ".sk-estimator-doc-link.fitted span {\n",
              "  /* fitted */\n",
              "  background: var(--sklearn-color-fitted-level-0);\n",
              "  border: var(--sklearn-color-fitted-level-3);\n",
              "}\n",
              "\n",
              ".sk-estimator-doc-link:hover span {\n",
              "  display: block;\n",
              "}\n",
              "\n",
              "/* \"?\"-specific style due to the `<a>` HTML tag */\n",
              "\n",
              "#sk-container-id-1 a.estimator_doc_link {\n",
              "  float: right;\n",
              "  font-size: 1rem;\n",
              "  line-height: 1em;\n",
              "  font-family: monospace;\n",
              "  background-color: var(--sklearn-color-background);\n",
              "  border-radius: 1rem;\n",
              "  height: 1rem;\n",
              "  width: 1rem;\n",
              "  text-decoration: none;\n",
              "  /* unfitted */\n",
              "  color: var(--sklearn-color-unfitted-level-1);\n",
              "  border: var(--sklearn-color-unfitted-level-1) 1pt solid;\n",
              "}\n",
              "\n",
              "#sk-container-id-1 a.estimator_doc_link.fitted {\n",
              "  /* fitted */\n",
              "  border: var(--sklearn-color-fitted-level-1) 1pt solid;\n",
              "  color: var(--sklearn-color-fitted-level-1);\n",
              "}\n",
              "\n",
              "/* On hover */\n",
              "#sk-container-id-1 a.estimator_doc_link:hover {\n",
              "  /* unfitted */\n",
              "  background-color: var(--sklearn-color-unfitted-level-3);\n",
              "  color: var(--sklearn-color-background);\n",
              "  text-decoration: none;\n",
              "}\n",
              "\n",
              "#sk-container-id-1 a.estimator_doc_link.fitted:hover {\n",
              "  /* fitted */\n",
              "  background-color: var(--sklearn-color-fitted-level-3);\n",
              "}\n",
              "</style><div id=\"sk-container-id-1\" class=\"sk-top-container\"><div class=\"sk-text-repr-fallback\"><pre>Pipeline(steps=[(&#x27;polynomial_features&#x27;,\n",
              "                 PolynomialFeatures(degree=4, include_bias=False)),\n",
              "                (&#x27;linear_regression&#x27;, LinearRegression())])</pre><b>In a Jupyter environment, please rerun this cell to show the HTML representation or trust the notebook. <br />On GitHub, the HTML representation is unable to render, please try loading this page with nbviewer.org.</b></div><div class=\"sk-container\" hidden><div class=\"sk-item sk-dashed-wrapped\"><div class=\"sk-label-container\"><div class=\"sk-label fitted sk-toggleable\"><input class=\"sk-toggleable__control sk-hidden--visually\" id=\"sk-estimator-id-1\" type=\"checkbox\" ><label for=\"sk-estimator-id-1\" class=\"sk-toggleable__label fitted sk-toggleable__label-arrow\"><div><div>Pipeline</div></div><div><a class=\"sk-estimator-doc-link fitted\" rel=\"noreferrer\" target=\"_blank\" href=\"https://scikit-learn.org/1.6/modules/generated/sklearn.pipeline.Pipeline.html\">?<span>Documentation for Pipeline</span></a><span class=\"sk-estimator-doc-link fitted\">i<span>Fitted</span></span></div></label><div class=\"sk-toggleable__content fitted\"><pre>Pipeline(steps=[(&#x27;polynomial_features&#x27;,\n",
              "                 PolynomialFeatures(degree=4, include_bias=False)),\n",
              "                (&#x27;linear_regression&#x27;, LinearRegression())])</pre></div> </div></div><div class=\"sk-serial\"><div class=\"sk-item\"><div class=\"sk-estimator fitted sk-toggleable\"><input class=\"sk-toggleable__control sk-hidden--visually\" id=\"sk-estimator-id-2\" type=\"checkbox\" ><label for=\"sk-estimator-id-2\" class=\"sk-toggleable__label fitted sk-toggleable__label-arrow\"><div><div>PolynomialFeatures</div></div><div><a class=\"sk-estimator-doc-link fitted\" rel=\"noreferrer\" target=\"_blank\" href=\"https://scikit-learn.org/1.6/modules/generated/sklearn.preprocessing.PolynomialFeatures.html\">?<span>Documentation for PolynomialFeatures</span></a></div></label><div class=\"sk-toggleable__content fitted\"><pre>PolynomialFeatures(degree=4, include_bias=False)</pre></div> </div></div><div class=\"sk-item\"><div class=\"sk-estimator fitted sk-toggleable\"><input class=\"sk-toggleable__control sk-hidden--visually\" id=\"sk-estimator-id-3\" type=\"checkbox\" ><label for=\"sk-estimator-id-3\" class=\"sk-toggleable__label fitted sk-toggleable__label-arrow\"><div><div>LinearRegression</div></div><div><a class=\"sk-estimator-doc-link fitted\" rel=\"noreferrer\" target=\"_blank\" href=\"https://scikit-learn.org/1.6/modules/generated/sklearn.linear_model.LinearRegression.html\">?<span>Documentation for LinearRegression</span></a></div></label><div class=\"sk-toggleable__content fitted\"><pre>LinearRegression()</pre></div> </div></div></div></div></div></div>"
            ]
          },
          "metadata": {},
          "execution_count": 67
        }
      ]
    },
    {
      "cell_type": "markdown",
      "source": [
        "## **5-2. 연결한 pipeline을 활용해 예측을 진행해주세요.**\n"
      ],
      "metadata": {
        "id": "VPcPZNsAMcNh"
      }
    },
    {
      "cell_type": "code",
      "source": [
        "# 0부터 1을 100으로 나눠 테스트 데이터 셋 생성\n",
        "X_test=np.linspace(0,1,100)\n",
        "\n",
        "# 예측값 곡선 그리기\n",
        "plt.plot(X_test,pipeline.predict(X_test[:,np.newaxis]),label=\"Predict\")\n",
        "# 실제값 곡선 그리기\n",
        "plt.plot(X_test,true_fun(X_test),'--',label = \"true function\")\n",
        "plt.scatter(X,y,edgecolor='b',s=20,label=\"samples\")\n",
        "\n",
        "plt.xlabel(\"x\")\n",
        "plt.ylabel(\"y\")\n",
        "plt.show()"
      ],
      "metadata": {
        "id": "DULrcMNdWdqE",
        "colab": {
          "base_uri": "https://localhost:8080/",
          "height": 449
        },
        "outputId": "f8ba011f-4b68-4487-e5db-cb6effcfe6ca"
      },
      "execution_count": 68,
      "outputs": [
        {
          "output_type": "display_data",
          "data": {
            "text/plain": [
              "<Figure size 640x480 with 1 Axes>"
            ],
            "image/png": "[encoded data removed]"
          },
          "metadata": {}
        }
      ]
    },
    {
      "cell_type": "markdown",
      "source": [
        "## **5-3. 편향 분산 트레이드 오프**\n",
        "좌측은 degree를 20으로 설정했을 때, 우측은 degree를 1로 설정했을 때의 시각화 이미지입니다.\n",
        "\n",
        "5-2의 답안(degree=4)일 때의 시각화 이미지와 비교하여 1) 과소적합/과대적합이 언제 일어나는지, 2) 최적의 모델은 언제 형성되는지 편향분산 트레이드오프 개념을 이용해 설명하세요.\n"
      ],
      "metadata": {
        "id": "-uHLAJXVYU1r"
      }
    },
    {
      "cell_type": "markdown",
      "source": [
        "![](https://drive.google.com/uc?export=view&id=18BPKjUAImEekRvULNBiBEV2V7eTD839k)\n"
      ],
      "metadata": {
        "id": "gZSYAYAaYGMi"
      }
    },
    {
      "cell_type": "markdown",
      "source": [
        "** 답안작성 **\n",
        "1) degree가 1일 때 모델이 너무 단순하기 때문에 데이터의 복잡한 패턴을 학습하지 못 하여 과소적합이 일어난다. (bias가 높고 variance가 낮음)\n",
        "degree가 20일 때 모델이 너무 복잡하기 때문에 과하게 반응하는 과대적합이 일어난다. (bias가 낮고 variance가 높음)\n",
        "\n",
        "2) degree가 4일 때, 편향과 분산의 trade off도 균형을 잘 이루는 최적의 모델이 만들어진다.\n"
      ],
      "metadata": {
        "id": "hvuw3PKRYx4v"
      }
    },
    {
      "cell_type": "markdown",
      "metadata": {
        "id": "29cf654e-e7b3-480c-9f42-3917e25c19f2"
      },
      "source": [
        "# **6. 규제 선형 회귀**"
      ]
    },
    {
      "cell_type": "markdown",
      "metadata": {
        "id": "3aedeb3f-9483-4c8a-9334-56f53e86297c"
      },
      "source": [
        "California Housing 데이터셋을 사용합니다."
      ]
    },
    {
      "cell_type": "markdown",
      "metadata": {
        "id": "311f1934-0959-44ce-9df0-f221e8013dfe"
      },
      "source": [
        "### **6-1. 데이터를 로드하고 스케일링/분할하세요.**"
      ]
    },
    {
      "cell_type": "code",
      "execution_count": 46,
      "metadata": {
        "id": "e2ca4111-36fd-4b99-a4f2-09e92cd59db0"
      },
      "outputs": [],
      "source": [
        "import numpy as np\n",
        "import pandas as pd\n",
        "from sklearn.datasets import fetch_california_housing\n",
        "from sklearn.model_selection import train_test_split\n",
        "from sklearn.preprocessing import StandardScaler\n",
        "\n",
        "# 데이터 로드\n",
        "california = fetch_california_housing()\n",
        "californiaDF = pd.DataFrame(california.data, columns = california.feature_names)\n",
        "californiaDF['PRICE'] = california.target\n",
        "\n",
        "y_target = californiaDF['PRICE']\n",
        "X_data = californiaDF.drop(['PRICE'], axis=1,inplace=False)\n",
        "\n",
        "# 스케일링\n",
        "scaler = StandardScaler()\n",
        "X_scaled = scaler.fit_transform(X_data)\n",
        "\n",
        "# 훈련/테스트 세트 분할 (test_size=0.3)\n",
        "X_train, X_test, y_train, y_test = train_test_split(X_scaled,y_target,test_size=0.3,random_state=156)"
      ]
    },
    {
      "cell_type": "markdown",
      "metadata": {
        "id": "5e498ac7-3275-429c-8ac8-c3f1f2ae9c00"
      },
      "source": [
        "### **6-2. 릿지 회귀를 수행하세요.**"
      ]
    },
    {
      "cell_type": "code",
      "execution_count": 47,
      "metadata": {
        "id": "b43ece1f-26e3-4bf2-b89a-2592b85e3504",
        "colab": {
          "base_uri": "https://localhost:8080/",
          "height": 0
        },
        "outputId": "6394763d-d2f8-4565-bde0-f6e8b50aaefd"
      },
      "outputs": [
        {
          "output_type": "stream",
          "name": "stdout",
          "text": [
            "alpha 0.01 일 때 평균 RMSE = 54.738582420687806\n",
            "alpha 0.1 일 때 평균 RMSE = 54.82501382196109\n",
            "alpha 1 일 때 평균 RMSE = 58.449228454065405\n",
            "alpha 10 일 때 평균 RMSE = 70.74902955101093\n"
          ]
        }
      ],
      "source": [
        "from sklearn.linear_model import Ridge\n",
        "from sklearn.model_selection import cross_val_score\n",
        "\n",
        "# alpha 값 리스트로 릿지 회귀 모델 생성 후\n",
        "# cross_val_score를 이용해 RMSE 평균 출력 (cv=5)\n",
        "\n",
        "alphas = [0.01, 0.1, 1, 10]\n",
        "\n",
        "for alpha in alphas:\n",
        "    ridge = Ridge(alpha=alpha)\n",
        "    neg_mse = cross_val_score(ridge,X,y,scoring='neg_mean_squared_error',cv=5)\n",
        "    avg_rmse = np.mean(np.sqrt(-neg_mse))\n",
        "    print(f'alpha {alpha} 일 때 평균 RMSE = {avg_rmse}')\n"
      ]
    },
    {
      "cell_type": "markdown",
      "metadata": {
        "id": "d425c0fd-2414-4bb5-a6f2-143d8257e3c0"
      },
      "source": [
        "### **6-3. 라쏘 회귀를 수행한 후, 릿지 회귀와 라쏘 회귀의 차이점을 서술해주세요.**"
      ]
    },
    {
      "cell_type": "code",
      "execution_count": 48,
      "metadata": {
        "id": "546a608f-36db-46c4-9507-2089cfeeba0b",
        "colab": {
          "base_uri": "https://localhost:8080/",
          "height": 0
        },
        "outputId": "b0351665-429a-4da3-9727-8e64b3e4e0bd"
      },
      "outputs": [
        {
          "output_type": "stream",
          "name": "stdout",
          "text": [
            "alpha 0.01: 평균 RMSE = 54.75639593676065\n",
            "alpha 0.1: 평균 RMSE = 54.843041268211394\n",
            "alpha 1: 평균 RMSE = 62.008822949169236\n",
            "alpha 10: 평균 RMSE = 77.26364825339408\n"
          ]
        }
      ],
      "source": [
        "from sklearn.linear_model import Lasso\n",
        "\n",
        "# 위 문제와 동일한 alpha 값 리스트로 라쏘 회귀 모델 생성 후\n",
        "# cross_val_score를 이용해 RMSE 평균 출력 (cv=5)\n",
        "\n",
        "for alpha in alphas:\n",
        "    lasso = Lasso(alpha=alpha)\n",
        "    neg_mse = cross_val_score(lasso,X,y,scoring='neg_mean_squared_error',cv=5)\n",
        "    avg_rmse = np.mean(np.sqrt(-neg_mse))\n",
        "    print(f'alpha {alpha}: 평균 RMSE = {avg_rmse}')"
      ]
    },
    {
      "cell_type": "markdown",
      "metadata": {
        "id": "df6405ec-0113-498d-880e-6105e77a5fe4"
      },
      "source": [
        "답변 : ridge는 weight의 제곱값을 패널티로 주지만 lasso는 weight의 절댓값을 패널티로 준다."
      ]
    },
    {
      "cell_type": "markdown",
      "metadata": {
        "id": "ee17afdb-4688-4e9b-80a5-212cf17ff966"
      },
      "source": [
        "### **6-4. 엘라스틱넷 회귀를 수행하세요.**"
      ]
    },
    {
      "cell_type": "code",
      "execution_count": 49,
      "metadata": {
        "id": "07cc5d96-918c-412f-8d15-fba7994e04ec",
        "colab": {
          "base_uri": "https://localhost:8080/",
          "height": 0
        },
        "outputId": "b27279ba-415e-491b-e40e-901a35e0f936"
      },
      "outputs": [
        {
          "output_type": "stream",
          "name": "stdout",
          "text": [
            "ElasticNet RMSE: 0.820\n"
          ]
        }
      ],
      "source": [
        "from sklearn.linear_model import ElasticNet\n",
        "from sklearn.metrics import mean_squared_error\n",
        "\n",
        "# L1규제 계수를 0.07, L2규제 계수를 0.03으로 설정\n",
        "elastic = ElasticNet(alpha=0.1,l1_ratio=0.7)\n",
        "elastic.fit(X_train, y_train)\n",
        "\n",
        "# 테스트 세트 예측 및 RMSE 계산\n",
        "y_pred = elastic.predict(X_test)\n",
        "rmse = np.sqrt(mean_squared_error(y_test,y_pred))\n",
        "print(f'ElasticNet RMSE: {rmse:.3f}')"
      ]
    },
    {
      "cell_type": "markdown",
      "metadata": {
        "id": "0280d788-2eef-46c1-9cec-714500ca7b8b"
      },
      "source": [
        "# **7. 로지스틱 회귀**"
      ]
    },
    {
      "cell_type": "markdown",
      "metadata": {
        "id": "26a501c9-7720-4369-8aad-f328a751e589"
      },
      "source": [
        "위스콘신 유방암 데이터셋을 사용합니다."
      ]
    },
    {
      "cell_type": "markdown",
      "metadata": {
        "id": "7062b3e4-0501-4c72-a4e2-6ea4ebe4b666"
      },
      "source": [
        "### **7-1. 데이터를 로드하고 MinMax 스케일링을 진행하세요.**"
      ]
    },
    {
      "cell_type": "code",
      "execution_count": 38,
      "metadata": {
        "id": "76223f68-724d-452d-baa7-4da9727ed8df"
      },
      "outputs": [],
      "source": [
        "from sklearn.datasets import load_breast_cancer\n",
        "from sklearn.linear_model import LogisticRegression\n",
        "\n",
        "cancer = load_breast_cancer()"
      ]
    },
    {
      "cell_type": "code",
      "execution_count": 41,
      "metadata": {
        "id": "eaef0e8f-fa28-45b3-a364-b4db931969bf"
      },
      "outputs": [],
      "source": [
        "from sklearn.preprocessing import MinMaxScaler\n",
        "from sklearn.model_selection import train_test_split\n",
        "\n",
        "# 스케일링\n",
        "scaler = MinMaxScaler()\n",
        "data_scaled = scaler.fit_transform(cancer.data)\n",
        "\n",
        "X_train , X_test, y_train , y_test = train_test_split(data_scaled, cancer.target, test_size=0.3, random_state=0)"
      ]
    },
    {
      "cell_type": "markdown",
      "metadata": {
        "id": "217db8de-d095-4b8d-b335-e9b70a642e2b"
      },
      "source": [
        "### **7-2. 로지스틱 회귀에서 여러 solver를 이용해 학습 및 예측을 수행하세요.**"
      ]
    },
    {
      "cell_type": "code",
      "execution_count": 42,
      "metadata": {
        "id": "ba669a52-2504-40c2-a03f-a3462baa9431",
        "colab": {
          "base_uri": "https://localhost:8080/",
          "height": 0
        },
        "outputId": "621a912c-94c5-4449-95fa-72c66e197894"
      },
      "outputs": [
        {
          "output_type": "stream",
          "name": "stdout",
          "text": [
            "solver:lbfgs, accuracy: 0.953, roc_auc:0.995\n",
            "solver:liblinear, accuracy: 0.947, roc_auc:0.994\n",
            "solver:newton-cg, accuracy: 0.953, roc_auc:0.995\n",
            "solver:sag, accuracy: 0.953, roc_auc:0.995\n",
            "solver:saga, accuracy: 0.953, roc_auc:0.995\n"
          ]
        }
      ],
      "source": [
        "from sklearn.metrics import accuracy_score, roc_auc_score\n",
        "\n",
        "solvers = ['lbfgs', 'liblinear', 'newton-cg', 'sag', 'saga']\n",
        "\n",
        "for solver in solvers:\n",
        "    lr_clf = LogisticRegression(solver=solver, max_iter=600)\n",
        "    lr_clf.fit(X_train, y_train)\n",
        "    lr_preds = lr_clf.predict(X_test)\n",
        "    lr_preds_proba = lr_clf.predict_proba(X_test)[:,1]\n",
        "\n",
        "    # accuracy와 roc_auc 측정\n",
        "    print('solver:{0}, accuracy: {1:.3f}, roc_auc:{2:.3f}'.format(solver, accuracy_score(y_test,lr_preds),roc_auc_score(y_test,lr_preds_proba)))"
      ]
    },
    {
      "cell_type": "markdown",
      "metadata": {
        "id": "1fc105af-34d0-45e9-8709-55a0664a19a8"
      },
      "source": [
        "### **7-3. GridSearchCV를 이용해 최적의 penalty와 C값을 찾고, 각 파라미터의 역할을 서술하세요.**"
      ]
    },
    {
      "cell_type": "code",
      "execution_count": 45,
      "metadata": {
        "id": "a0a10e35-dc79-4c39-9a2b-ec5e3a3fa791",
        "colab": {
          "base_uri": "https://localhost:8080/",
          "height": 0
        },
        "outputId": "57471ed2-76ce-4d4e-d8bc-cc63bf595540"
      },
      "outputs": [
        {
          "output_type": "stream",
          "name": "stdout",
          "text": [
            "최적 하이퍼 파라미터:{'C': 10, 'penalty': 'l1', 'solver': 'liblinear'}, 최적 평균 정확도:0.972\n"
          ]
        }
      ],
      "source": [
        "from sklearn.model_selection import GridSearchCV\n",
        "\n",
        "# C = [0.01, 0.1, 1, 5, 10]\n",
        "params={'penalty':['l1','l2'], 'C': [0.01, 0.1, 1, 5, 10],'solver':['liblinear'] }\n",
        "\n",
        "lr_clf = LogisticRegression()\n",
        "\n",
        "grid_clf = GridSearchCV(lr_clf, param_grid=params, scoring='accuracy', cv=3 )\n",
        "grid_clf.fit(X_train,y_train)\n",
        "print('최적 하이퍼 파라미터:{0}, 최적 평균 정확도:{1:.3f}'.format(grid_clf.best_params_, grid_clf.best_score_))"
      ]
    },
    {
      "cell_type": "markdown",
      "metadata": {
        "id": "b1e88382-5227-479e-b4bb-5a86eb3dff00"
      },
      "source": [
        "답변 :"
      ]
    },
    {
      "cell_type": "markdown",
      "metadata": {
        "id": "6000a907-6ecd-4154-bde5-b73fc07f111d"
      },
      "source": [
        "# **8 회귀 트리**"
      ]
    },
    {
      "cell_type": "markdown",
      "metadata": {
        "id": "ac3a83fd-73aa-4fc2-b0b5-5f4f5bbd51d5"
      },
      "source": [
        "당뇨병 데이터셋을 사용합니다."
      ]
    },
    {
      "cell_type": "markdown",
      "metadata": {
        "id": "074855dc-73f7-494e-a858-e56781d71215"
      },
      "source": [
        "### **8-1. 데이터를 로드하고 분할하세요.**"
      ]
    },
    {
      "cell_type": "code",
      "execution_count": 30,
      "metadata": {
        "id": "e3c215e3-8743-4006-a5b4-4e754ca5b036"
      },
      "outputs": [],
      "source": [
        "from sklearn.datasets import load_diabetes\n",
        "from sklearn.preprocessing import StandardScaler\n",
        "from sklearn.model_selection import train_test_split\n",
        "\n",
        "# 데이터 로드\n",
        "diabetes = load_diabetes()\n",
        "diabetesDF = pd.DataFrame(data=diabetes.data, columns=diabetes.feature_names)\n",
        "diabetesDF['target'] = diabetes.target\n",
        "\n",
        "y = diabetesDF['target']\n",
        "X = diabetesDF.drop('target',axis=1)\n",
        "\n",
        "# StandardScaler 적용\n",
        "scaler = StandardScaler()\n",
        "X_scaled = scaler.fit_transform(X)\n",
        "\n",
        "# 훈련/테스트 세트 분할 (test_size=0.3)\n",
        "X_train, X_test, y_train, y_test =train_test_split(X,y,test_size=0.3,random_state=156)"
      ]
    },
    {
      "cell_type": "markdown",
      "metadata": {
        "id": "0fab7a08-c5f3-49b8-80a5-c29cbacf158a"
      },
      "source": [
        "### **8-2. 선형 회귀와 결정 트리 기반의 모델을 각각 생성하고 시각화를 위한 피쳐를 추출하세요.**"
      ]
    },
    {
      "cell_type": "code",
      "execution_count": 34,
      "metadata": {
        "id": "4c890be1-3b7e-47cf-91cd-2a5f717c21b1"
      },
      "outputs": [],
      "source": [
        "import numpy as np\n",
        "from sklearn.linear_model import LinearRegression\n",
        "from sklearn.tree import DecisionTreeRegressor\n",
        "\n",
        "# 선형 회귀와 결정 트리 기반의 Regressor 생성. DecisionTreeRegressor의 max_depth=2\n",
        "lr_reg = LinearRegression()\n",
        "tr_reg = DecisionTreeRegressor(max_depth=2)\n",
        "\n",
        "# 실제 예측을 적용할 테스트용 데이터 셋 생성 (bmi 범위: -0.1~0.1에서 0.002간격으로)\n",
        "X_test =np.arange(-0.1, 0.1 + 0.002, 0.002).reshape(-1, 1)\n",
        "\n",
        "# 당뇨병 데이터에서 시각화를 위해 피처는 bmi만, 결정 데이터는 target 추출\n",
        "diabetes_sample = diabetesDF[['bmi', 'target']].sample(n=100, random_state=0)\n",
        "X_feature = diabetes_sample['bmi'].values.reshape(-1,1)\n",
        "y_target = diabetes_sample['target'].values.reshape(-1,1)"
      ]
    },
    {
      "cell_type": "markdown",
      "metadata": {
        "id": "a49d5ce1-109c-4e69-9816-00e22489e4fe"
      },
      "source": [
        "### **8-3. 각 회귀 모델으로 학습과 예측을 수행하세요.**"
      ]
    },
    {
      "cell_type": "code",
      "execution_count": 35,
      "metadata": {
        "id": "5c094240-a7fb-46b0-a19d-3019e9eb1760"
      },
      "outputs": [],
      "source": [
        "lr_reg.fit(X_feature,y_target)\n",
        "tr_reg.fit(X_feature,y_target)\n",
        "\n",
        "pred_lr = lr_reg.predict(X_test)\n",
        "pred_tr = tr_reg.predict(X_test)"
      ]
    },
    {
      "cell_type": "markdown",
      "metadata": {
        "id": "c5632720-127e-4388-8004-01edecf57d4d"
      },
      "source": [
        "### **8-4 추출한 피쳐와 모델이 예측한 회귀선을 함께 시각화하세요.**"
      ]
    },
    {
      "cell_type": "code",
      "execution_count": 37,
      "metadata": {
        "id": "fa06adbc-b2d3-4c7e-b5e8-b55afa13d08f",
        "colab": {
          "base_uri": "https://localhost:8080/",
          "height": 296
        },
        "outputId": "ad45410b-07bc-4166-e05b-16620fded40d"
      },
      "outputs": [
        {
          "output_type": "execute_result",
          "data": {
            "text/plain": [
              "[<matplotlib.lines.Line2D at 0x7945c080c750>]"
            ]
          },
          "metadata": {},
          "execution_count": 37
        },
        {
          "output_type": "display_data",
          "data": {
            "text/plain": [
              "<Figure size 1200x400 with 2 Axes>"
            ],
            "image/png": "[encoded data removed]"
          },
          "metadata": {}
        }
      ],
      "source": [
        "import matplotlib.pyplot as plt\n",
        "\n",
        "fig, (ax1, ax2) = plt.subplots(figsize=(12,4), ncols=2)\n",
        "\n",
        "ax1.set_title('Linear Regression')\n",
        "ax1.scatter(diabetes_sample.bmi, diabetes_sample.target, c=\"darkorange\")\n",
        "ax1.plot(X_test, pred_lr, label=\"linear\", linewidth=2)\n",
        "\n",
        "ax2.set_title('Decision Tree Regression: max_depth=2')\n",
        "ax2.scatter(diabetes_sample.bmi, diabetes_sample.target, c=\"darkorange\")\n",
        "ax2.plot(X_test,pred_tr, label=\"max_depth=2\", linewidth=2)"
      ]
    },
    {
      "cell_type": "code",
      "source": [],
      "metadata": {
        "id": "cWIdYdcCEtyD"
      },
      "execution_count": null,
      "outputs": []
    }
  ],
  "metadata": {
    "colab": {
      "provenance": []
    },
    "kernelspec": {
      "display_name": "Python [conda env:base] *",
      "language": "python",
      "name": "conda-base-py"
    },
    "language_info": {
      "codemirror_mode": {
        "name": "ipython",
        "version": 3
      },
      "file_extension": ".py",
      "mimetype": "text/x-python",
      "name": "python",
      "nbconvert_exporter": "python",
      "pygments_lexer": "ipython3",
      "version": "3.12.2"
    }
  },
  "nbformat": 4,
  "nbformat_minor": 0
}