{
  "cells": [
    {
      "cell_type": "markdown",
      "source": [
        "#4.5"
      ],
      "metadata": {
        "id": "7CNm-cfdPmGO"
      }
    },
    {
      "cell_type": "code",
      "execution_count": null,
      "metadata": {
        "id": "NU1J04nqlMUB"
      },
      "outputs": [],
      "source": [
        "def get_new_feature_name_df(old_feature_name_df):\n",
        "  feature_dup_df=pd.DataFrame(data=old_feature_name_df.groupby('column_name').cumcount(),columns=['dup_cnt'])\n",
        "  feature_dup_df=feature_dup_df.reset_index()\n",
        "  new_feature_name_df=pd.merge(old_feature_name_df.reset_index(),feature_dup_df,how='outer')\n",
        "  new_feature_name_df['column_name']=new_feature_name_df[['column_name','dup_cnt']].apply(lambda x : x[0]+'_'+str(x[1]) if x[1] >0 else x[0], axis=1)\n",
        "  new_feature_name_df=new_feature_name_df.drop(['index'],axis=1)\n",
        "  return new_feature_name_df"
      ]
    },
    {
      "cell_type": "code",
      "execution_count": null,
      "metadata": {
        "colab": {
          "base_uri": "https://localhost:8080/"
        },
        "id": "l6whiobaC90g",
        "outputId": "61451a74-749b-4f0a-da11-f3f594bdfdd2"
      },
      "outputs": [
        {
          "output_type": "stream",
          "name": "stdout",
          "text": [
            "Drive already mounted at /content/drive; to attempt to forcibly remount, call drive.mount(\"/content/drive\", force_remount=True).\n"
          ]
        }
      ],
      "source": [
        "from google.colab import drive\n",
        "drive.mount('/content/drive')"
      ]
    },
    {
      "cell_type": "code",
      "execution_count": null,
      "metadata": {
        "id": "qnjp9YDJkbNX"
      },
      "outputs": [],
      "source": [
        "import pandas as pd\n",
        "\n",
        "def get_human_dataset():\n",
        "\n",
        "  # 각 데이터 파일은 공백으로 분리되어 있으므로 read_csv에서 공백 문자를 sep으로 할당\n",
        "  feature_name_df=pd.read_csv('/content/drive/MyDrive/EURON/test/features.txt',sep='\\s+',header=None,names=['column_index','column_name'])\n",
        "\n",
        "  # 중복된 피처명을 수정하는 get_new_feature_name_df()를 이용, 신규 피처명 DataFrame 생성\n",
        "  new_feature_name_df=get_new_feature_name_df(feature_name_df)\n",
        "\n",
        "  # DataFrame에 피처명을 칼럼으로 부여하기 위해 리스트 객체로 다시 변환\n",
        "  feature_name=new_feature_name_df.iloc[:,1].values.tolist()\n",
        "\n",
        "  # 학습 피처 데이터세트와 테스트 피처 데이터를 DataFrame으로 로딩. 칼럼명은 feature_name 적용\n",
        "  X_train=pd.read_csv('/content/drive/MyDrive/EURON/test/X_train.txt',sep='\\s+',header=None,names=feature_name)\n",
        "  X_test=pd.read_csv('/content/drive/MyDrive/EURON/test/X_test.txt',sep='\\s+',header=None,names=feature_name)\n",
        "\n",
        "  # 학습 레이블과 테스트 레이블 데이터를 DataFrame으로 로딩하고 칼럼명은 action으로 부여\n",
        "  y_train=pd.read_csv('/content/drive/MyDrive/EURON/test/y_train.txt',sep='\\s+',header=None,names=['action'])\n",
        "  y_test=pd.read_csv('/content/drive/MyDrive/EURON/test/y_test.txt',sep='\\s+',header=None,names=['action'])\n",
        "\n",
        "  # 로드된 학습/테스트용 DataFrame을 모두 반환\n",
        "  return X_train,X_test,y_train,y_test\n",
        "\n",
        "X_train,X_test,y_train,y_test=get_human_dataset()\n"
      ]
    },
    {
      "cell_type": "code",
      "execution_count": null,
      "metadata": {
        "colab": {
          "base_uri": "https://localhost:8080/"
        },
        "id": "91Dv3pIha9A7",
        "outputId": "9a3b9172-750f-43ff-a22f-0eab860d6a84"
      },
      "outputs": [
        {
          "output_type": "stream",
          "name": "stdout",
          "text": [
            "GBM 정확도: 0.9379\n",
            "GBM 수행 시간: 1374.4 초\n"
          ]
        }
      ],
      "source": [
        "from sklearn.ensemble import GradientBoostingClassifier\n",
        "import time\n",
        "import warnings\n",
        "from sklearn.metrics import accuracy_score\n",
        "\n",
        "warnings.filterwarnings('ignore')\n",
        "\n",
        "X_train,X_test,y_train,y_test=get_human_dataset()\n",
        "\n",
        "# GBM 수행 시간 측정을 위함. 시작 시간 설정.\n",
        "start_time=time.time()\n",
        "\n",
        "gb_clf=GradientBoostingClassifier(random_state=0)\n",
        "gb_clf.fit(X_train,y_train)\n",
        "gb_pred=gb_clf.predict(X_test)\n",
        "gb_accuracy=accuracy_score(y_test,gb_pred)\n",
        "\n",
        "print('GBM 정확도: {0:.4f}'.format(gb_accuracy))\n",
        "print(\"GBM 수행 시간: {0:.1f} 초\".format(time.time()-start_time))"
      ]
    },
    {
      "cell_type": "markdown",
      "source": [
        "#4.6"
      ],
      "metadata": {
        "id": "k42FRMVePqC1"
      }
    },
    {
      "cell_type": "code",
      "execution_count": null,
      "metadata": {
        "id": "La9-6ky6ls8W"
      },
      "outputs": [],
      "source": [
        "# !pip install xgboost==1.5.0"
      ]
    },
    {
      "cell_type": "code",
      "execution_count": null,
      "metadata": {
        "id": "fkjEB9lLouKS",
        "colab": {
          "base_uri": "https://localhost:8080/"
        },
        "outputId": "5acf1a6b-dea9-4875-b2b9-e1474017fdd7"
      },
      "outputs": [
        {
          "output_type": "stream",
          "name": "stderr",
          "text": [
            "/usr/local/lib/python3.11/dist-packages/xgboost/compat.py:36: FutureWarning: pandas.Int64Index is deprecated and will be removed from pandas in a future version. Use pandas.Index with the appropriate dtype instead.\n",
            "  from pandas import MultiIndex, Int64Index\n"
          ]
        }
      ],
      "source": [
        "import xgboost as xgb\n",
        "from xgboost import XGBClassifier"
      ]
    },
    {
      "cell_type": "code",
      "execution_count": null,
      "metadata": {
        "colab": {
          "base_uri": "https://localhost:8080/"
        },
        "id": "X6rZDWX-CR3x",
        "outputId": "967040f4-eb10-4fff-f3f2-b93efe42f1eb"
      },
      "outputs": [
        {
          "output_type": "stream",
          "name": "stdout",
          "text": [
            "1.5.0\n"
          ]
        }
      ],
      "source": [
        "import xgboost\n",
        "\n",
        "print(xgboost.__version__)"
      ]
    },
    {
      "cell_type": "code",
      "execution_count": null,
      "metadata": {
        "colab": {
          "base_uri": "https://localhost:8080/",
          "height": 225
        },
        "id": "QA9sUpdPEa1N",
        "outputId": "2ca0c63e-98b7-4be4-bc1c-db8702272607"
      },
      "outputs": [
        {
          "output_type": "execute_result",
          "data": {
            "text/plain": [
              "   mean radius  mean texture  mean perimeter  mean area  mean smoothness  \\\n",
              "0        17.99         10.38           122.8     1001.0          0.11840   \n",
              "1        20.57         17.77           132.9     1326.0          0.08474   \n",
              "2        19.69         21.25           130.0     1203.0          0.10960   \n",
              "\n",
              "   mean compactness  mean concavity  mean concave points  mean symmetry  \\\n",
              "0           0.27760          0.3001              0.14710         0.2419   \n",
              "1           0.07864          0.0869              0.07017         0.1812   \n",
              "2           0.15990          0.1974              0.12790         0.2069   \n",
              "\n",
              "   mean fractal dimension  ...  worst texture  worst perimeter  worst area  \\\n",
              "0                 0.07871  ...          17.33            184.6      2019.0   \n",
              "1                 0.05667  ...          23.41            158.8      1956.0   \n",
              "2                 0.05999  ...          25.53            152.5      1709.0   \n",
              "\n",
              "   worst smoothness  worst compactness  worst concavity  worst concave points  \\\n",
              "0            0.1622             0.6656           0.7119                0.2654   \n",
              "1            0.1238             0.1866           0.2416                0.1860   \n",
              "2            0.1444             0.4245           0.4504                0.2430   \n",
              "\n",
              "   worst symmetry  worst fractal dimension  target  \n",
              "0          0.4601                  0.11890       0  \n",
              "1          0.2750                  0.08902       0  \n",
              "2          0.3613                  0.08758       0  \n",
              "\n",
              "[3 rows x 31 columns]"
            ],
            "text/html": [
              "\n",
              "  <div id=\"df-4a0bb365-129f-40ba-ae8d-13a8229b1713\" class=\"colab-df-container\">\n",
              "    <div>\n",
              "<style scoped>\n",
              "    .dataframe tbody tr th:only-of-type {\n",
              "        vertical-align: middle;\n",
              "    }\n",
              "\n",
              "    .dataframe tbody tr th {\n",
              "        vertical-align: top;\n",
              "    }\n",
              "\n",
              "    .dataframe thead th {\n",
              "        text-align: right;\n",
              "    }\n",
              "</style>\n",
              "<table border=\"1\" class=\"dataframe\">\n",
              "  <thead>\n",
              "    <tr style=\"text-align: right;\">\n",
              "      <th></th>\n",
              "      <th>mean radius</th>\n",
              "      <th>mean texture</th>\n",
              "      <th>mean perimeter</th>\n",
              "      <th>mean area</th>\n",
              "      <th>mean smoothness</th>\n",
              "      <th>mean compactness</th>\n",
              "      <th>mean concavity</th>\n",
              "      <th>mean concave points</th>\n",
              "      <th>mean symmetry</th>\n",
              "      <th>mean fractal dimension</th>\n",
              "      <th>...</th>\n",
              "      <th>worst texture</th>\n",
              "      <th>worst perimeter</th>\n",
              "      <th>worst area</th>\n",
              "      <th>worst smoothness</th>\n",
              "      <th>worst compactness</th>\n",
              "      <th>worst concavity</th>\n",
              "      <th>worst concave points</th>\n",
              "      <th>worst symmetry</th>\n",
              "      <th>worst fractal dimension</th>\n",
              "      <th>target</th>\n",
              "    </tr>\n",
              "  </thead>\n",
              "  <tbody>\n",
              "    <tr>\n",
              "      <th>0</th>\n",
              "      <td>17.99</td>\n",
              "      <td>10.38</td>\n",
              "      <td>122.8</td>\n",
              "      <td>1001.0</td>\n",
              "      <td>0.11840</td>\n",
              "      <td>0.27760</td>\n",
              "      <td>0.3001</td>\n",
              "      <td>0.14710</td>\n",
              "      <td>0.2419</td>\n",
              "      <td>0.07871</td>\n",
              "      <td>...</td>\n",
              "      <td>17.33</td>\n",
              "      <td>184.6</td>\n",
              "      <td>2019.0</td>\n",
              "      <td>0.1622</td>\n",
              "      <td>0.6656</td>\n",
              "      <td>0.7119</td>\n",
              "      <td>0.2654</td>\n",
              "      <td>0.4601</td>\n",
              "      <td>0.11890</td>\n",
              "      <td>0</td>\n",
              "    </tr>\n",
              "    <tr>\n",
              "      <th>1</th>\n",
              "      <td>20.57</td>\n",
              "      <td>17.77</td>\n",
              "      <td>132.9</td>\n",
              "      <td>1326.0</td>\n",
              "      <td>0.08474</td>\n",
              "      <td>0.07864</td>\n",
              "      <td>0.0869</td>\n",
              "      <td>0.07017</td>\n",
              "      <td>0.1812</td>\n",
              "      <td>0.05667</td>\n",
              "      <td>...</td>\n",
              "      <td>23.41</td>\n",
              "      <td>158.8</td>\n",
              "      <td>1956.0</td>\n",
              "      <td>0.1238</td>\n",
              "      <td>0.1866</td>\n",
              "      <td>0.2416</td>\n",
              "      <td>0.1860</td>\n",
              "      <td>0.2750</td>\n",
              "      <td>0.08902</td>\n",
              "      <td>0</td>\n",
              "    </tr>\n",
              "    <tr>\n",
              "      <th>2</th>\n",
              "      <td>19.69</td>\n",
              "      <td>21.25</td>\n",
              "      <td>130.0</td>\n",
              "      <td>1203.0</td>\n",
              "      <td>0.10960</td>\n",
              "      <td>0.15990</td>\n",
              "      <td>0.1974</td>\n",
              "      <td>0.12790</td>\n",
              "      <td>0.2069</td>\n",
              "      <td>0.05999</td>\n",
              "      <td>...</td>\n",
              "      <td>25.53</td>\n",
              "      <td>152.5</td>\n",
              "      <td>1709.0</td>\n",
              "      <td>0.1444</td>\n",
              "      <td>0.4245</td>\n",
              "      <td>0.4504</td>\n",
              "      <td>0.2430</td>\n",
              "      <td>0.3613</td>\n",
              "      <td>0.08758</td>\n",
              "      <td>0</td>\n",
              "    </tr>\n",
              "  </tbody>\n",
              "</table>\n",
              "<p>3 rows × 31 columns</p>\n",
              "</div>\n",
              "    <div class=\"colab-df-buttons\">\n",
              "\n",
              "  <div class=\"colab-df-container\">\n",
              "    <button class=\"colab-df-convert\" onclick=\"convertToInteractive('df-4a0bb365-129f-40ba-ae8d-13a8229b1713')\"\n",
              "            title=\"Convert this dataframe to an interactive table.\"\n",
              "            style=\"display:none;\">\n",
              "\n",
              "  <svg xmlns=\"http://www.w3.org/2000/svg\" height=\"24px\" viewBox=\"0 -960 960 960\">\n",
              "    <path d=\"M120-120v-720h720v720H120Zm60-500h600v-160H180v160Zm220 220h160v-160H400v160Zm0 220h160v-160H400v160ZM180-400h160v-160H180v160Zm440 0h160v-160H620v160ZM180-180h160v-160H180v160Zm440 0h160v-160H620v160Z\"/>\n",
              "  </svg>\n",
              "    </button>\n",
              "\n",
              "  <style>\n",
              "    .colab-df-container {\n",
              "      display:flex;\n",
              "      gap: 12px;\n",
              "    }\n",
              "\n",
              "    .colab-df-convert {\n",
              "      background-color: #E8F0FE;\n",
              "      border: none;\n",
              "      border-radius: 50%;\n",
              "      cursor: pointer;\n",
              "      display: none;\n",
              "      fill: #1967D2;\n",
              "      height: 32px;\n",
              "      padding: 0 0 0 0;\n",
              "      width: 32px;\n",
              "    }\n",
              "\n",
              "    .colab-df-convert:hover {\n",
              "      background-color: #E2EBFA;\n",
              "      box-shadow: 0px 1px 2px rgba(60, 64, 67, 0.3), 0px 1px 3px 1px rgba(60, 64, 67, 0.15);\n",
              "      fill: #174EA6;\n",
              "    }\n",
              "\n",
              "    .colab-df-buttons div {\n",
              "      margin-bottom: 4px;\n",
              "    }\n",
              "\n",
              "    [theme=dark] .colab-df-convert {\n",
              "      background-color: #3B4455;\n",
              "      fill: #D2E3FC;\n",
              "    }\n",
              "\n",
              "    [theme=dark] .colab-df-convert:hover {\n",
              "      background-color: #434B5C;\n",
              "      box-shadow: 0px 1px 3px 1px rgba(0, 0, 0, 0.15);\n",
              "      filter: drop-shadow(0px 1px 2px rgba(0, 0, 0, 0.3));\n",
              "      fill: #FFFFFF;\n",
              "    }\n",
              "  </style>\n",
              "\n",
              "    <script>\n",
              "      const buttonEl =\n",
              "        document.querySelector('#df-4a0bb365-129f-40ba-ae8d-13a8229b1713 button.colab-df-convert');\n",
              "      buttonEl.style.display =\n",
              "        google.colab.kernel.accessAllowed ? 'block' : 'none';\n",
              "\n",
              "      async function convertToInteractive(key) {\n",
              "        const element = document.querySelector('#df-4a0bb365-129f-40ba-ae8d-13a8229b1713');\n",
              "        const dataTable =\n",
              "          await google.colab.kernel.invokeFunction('convertToInteractive',\n",
              "                                                    [key], {});\n",
              "        if (!dataTable) return;\n",
              "\n",
              "        const docLinkHtml = 'Like what you see? Visit the ' +\n",
              "          '<a target=\"_blank\" href=https://colab.research.google.com/notebooks/data_table.ipynb>data table notebook</a>'\n",
              "          + ' to learn more about interactive tables.';\n",
              "        element.innerHTML = '';\n",
              "        dataTable['output_type'] = 'display_data';\n",
              "        await google.colab.output.renderOutput(dataTable, element);\n",
              "        const docLink = document.createElement('div');\n",
              "        docLink.innerHTML = docLinkHtml;\n",
              "        element.appendChild(docLink);\n",
              "      }\n",
              "    </script>\n",
              "  </div>\n",
              "\n",
              "\n",
              "<div id=\"df-7706523f-4bb9-4c13-b11b-a63a3f00c4a7\">\n",
              "  <button class=\"colab-df-quickchart\" onclick=\"quickchart('df-7706523f-4bb9-4c13-b11b-a63a3f00c4a7')\"\n",
              "            title=\"Suggest charts\"\n",
              "            style=\"display:none;\">\n",
              "\n",
              "<svg xmlns=\"http://www.w3.org/2000/svg\" height=\"24px\"viewBox=\"0 0 24 24\"\n",
              "     width=\"24px\">\n",
              "    <g>\n",
              "        <path d=\"M19 3H5c-1.1 0-2 .9-2 2v14c0 1.1.9 2 2 2h14c1.1 0 2-.9 2-2V5c0-1.1-.9-2-2-2zM9 17H7v-7h2v7zm4 0h-2V7h2v10zm4 0h-2v-4h2v4z\"/>\n",
              "    </g>\n",
              "</svg>\n",
              "  </button>\n",
              "\n",
              "<style>\n",
              "  .colab-df-quickchart {\n",
              "      --bg-color: #E8F0FE;\n",
              "      --fill-color: #1967D2;\n",
              "      --hover-bg-color: #E2EBFA;\n",
              "      --hover-fill-color: #174EA6;\n",
              "      --disabled-fill-color: #AAA;\n",
              "      --disabled-bg-color: #DDD;\n",
              "  }\n",
              "\n",
              "  [theme=dark] .colab-df-quickchart {\n",
              "      --bg-color: #3B4455;\n",
              "      --fill-color: #D2E3FC;\n",
              "      --hover-bg-color: #434B5C;\n",
              "      --hover-fill-color: #FFFFFF;\n",
              "      --disabled-bg-color: #3B4455;\n",
              "      --disabled-fill-color: #666;\n",
              "  }\n",
              "\n",
              "  .colab-df-quickchart {\n",
              "    background-color: var(--bg-color);\n",
              "    border: none;\n",
              "    border-radius: 50%;\n",
              "    cursor: pointer;\n",
              "    display: none;\n",
              "    fill: var(--fill-color);\n",
              "    height: 32px;\n",
              "    padding: 0;\n",
              "    width: 32px;\n",
              "  }\n",
              "\n",
              "  .colab-df-quickchart:hover {\n",
              "    background-color: var(--hover-bg-color);\n",
              "    box-shadow: 0 1px 2px rgba(60, 64, 67, 0.3), 0 1px 3px 1px rgba(60, 64, 67, 0.15);\n",
              "    fill: var(--button-hover-fill-color);\n",
              "  }\n",
              "\n",
              "  .colab-df-quickchart-complete:disabled,\n",
              "  .colab-df-quickchart-complete:disabled:hover {\n",
              "    background-color: var(--disabled-bg-color);\n",
              "    fill: var(--disabled-fill-color);\n",
              "    box-shadow: none;\n",
              "  }\n",
              "\n",
              "  .colab-df-spinner {\n",
              "    border: 2px solid var(--fill-color);\n",
              "    border-color: transparent;\n",
              "    border-bottom-color: var(--fill-color);\n",
              "    animation:\n",
              "      spin 1s steps(1) infinite;\n",
              "  }\n",
              "\n",
              "  @keyframes spin {\n",
              "    0% {\n",
              "      border-color: transparent;\n",
              "      border-bottom-color: var(--fill-color);\n",
              "      border-left-color: var(--fill-color);\n",
              "    }\n",
              "    20% {\n",
              "      border-color: transparent;\n",
              "      border-left-color: var(--fill-color);\n",
              "      border-top-color: var(--fill-color);\n",
              "    }\n",
              "    30% {\n",
              "      border-color: transparent;\n",
              "      border-left-color: var(--fill-color);\n",
              "      border-top-color: var(--fill-color);\n",
              "      border-right-color: var(--fill-color);\n",
              "    }\n",
              "    40% {\n",
              "      border-color: transparent;\n",
              "      border-right-color: var(--fill-color);\n",
              "      border-top-color: var(--fill-color);\n",
              "    }\n",
              "    60% {\n",
              "      border-color: transparent;\n",
              "      border-right-color: var(--fill-color);\n",
              "    }\n",
              "    80% {\n",
              "      border-color: transparent;\n",
              "      border-right-color: var(--fill-color);\n",
              "      border-bottom-color: var(--fill-color);\n",
              "    }\n",
              "    90% {\n",
              "      border-color: transparent;\n",
              "      border-bottom-color: var(--fill-color);\n",
              "    }\n",
              "  }\n",
              "</style>\n",
              "\n",
              "  <script>\n",
              "    async function quickchart(key) {\n",
              "      const quickchartButtonEl =\n",
              "        document.querySelector('#' + key + ' button');\n",
              "      quickchartButtonEl.disabled = true;  // To prevent multiple clicks.\n",
              "      quickchartButtonEl.classList.add('colab-df-spinner');\n",
              "      try {\n",
              "        const charts = await google.colab.kernel.invokeFunction(\n",
              "            'suggestCharts', [key], {});\n",
              "      } catch (error) {\n",
              "        console.error('Error during call to suggestCharts:', error);\n",
              "      }\n",
              "      quickchartButtonEl.classList.remove('colab-df-spinner');\n",
              "      quickchartButtonEl.classList.add('colab-df-quickchart-complete');\n",
              "    }\n",
              "    (() => {\n",
              "      let quickchartButtonEl =\n",
              "        document.querySelector('#df-7706523f-4bb9-4c13-b11b-a63a3f00c4a7 button');\n",
              "      quickchartButtonEl.style.display =\n",
              "        google.colab.kernel.accessAllowed ? 'block' : 'none';\n",
              "    })();\n",
              "  </script>\n",
              "</div>\n",
              "\n",
              "    </div>\n",
              "  </div>\n"
            ],
            "application/vnd.google.colaboratory.intrinsic+json": {
              "type": "dataframe",
              "variable_name": "cancer_df"
            }
          },
          "metadata": {},
          "execution_count": 7
        }
      ],
      "source": [
        "import xgboost as xgb\n",
        "from xgboost import plot_importance\n",
        "import pandas as pd\n",
        "import numpy as np\n",
        "from sklearn.datasets import load_breast_cancer\n",
        "from sklearn.model_selection import train_test_split\n",
        "import warnings\n",
        "warnings.filterwarnings('ignore')\n",
        "\n",
        "dataset=load_breast_cancer()\n",
        "features=dataset.data\n",
        "labels=dataset.target\n",
        "\n",
        "cancer_df=pd.DataFrame(data=features,columns=dataset.feature_names)\n",
        "cancer_df['target']=labels\n",
        "cancer_df.head(3)"
      ]
    },
    {
      "cell_type": "code",
      "execution_count": null,
      "metadata": {
        "id": "GLtN_zid530K"
      },
      "outputs": [],
      "source": [
        "# !pip install numpy==1.26.4\n",
        "# !pip install pandas==1.5.3\n"
      ]
    },
    {
      "cell_type": "code",
      "execution_count": null,
      "metadata": {
        "colab": {
          "base_uri": "https://localhost:8080/"
        },
        "id": "BKnQohaGE8MG",
        "outputId": "ef03893a-1f7e-439a-8298-2fc15a29c206"
      },
      "outputs": [
        {
          "output_type": "stream",
          "name": "stdout",
          "text": [
            "['malignant' 'benign']\n",
            "1    357\n",
            "0    212\n",
            "Name: target, dtype: int64\n"
          ]
        }
      ],
      "source": [
        "print(dataset.target_names)\n",
        "print(cancer_df['target'].value_counts())"
      ]
    },
    {
      "cell_type": "code",
      "execution_count": null,
      "metadata": {
        "colab": {
          "base_uri": "https://localhost:8080/"
        },
        "id": "TIX-z4aBFCS-",
        "outputId": "1b125d74-dd1f-4e39-94b0-6a7af7fa84f0"
      },
      "outputs": [
        {
          "output_type": "stream",
          "name": "stdout",
          "text": [
            "(455, 30) (114, 30)\n",
            "(409, 30) (46, 30)\n"
          ]
        }
      ],
      "source": [
        "# cancer_df에서 feature용 DataFrame과 Label용 Series 객체 추출\n",
        "# 맨 마지막 칼럼이 Label 임. Feature용 DataFrame은 cancer_df의 첫번째 칼럼에서 맨 마지막 두번째 칼럼까지를 :-1 슬라이싱으로 추출\n",
        "X_features=cancer_df.iloc[:,:-1]\n",
        "y_label=cancer_df.iloc[:,-1]\n",
        "\n",
        "# 전체 데이터 중 80%는 학습용 데이터, 20%는 테스트용 데이터 추출\n",
        "X_train,X_test,y_train,y_test=train_test_split(X_features,y_label,test_size=0.2,random_state=156)\n",
        "\n",
        "# 위에서 만든 X_train,y_train을 다시 쪼개서 90%는 학습과 10%는 검증용 데이터로 분리\n",
        "X_tr,X_val,y_tr,y_val=train_test_split(X_train,y_train,test_size=0.1,random_state=156)\n",
        "\n",
        "print(X_train.shape,X_test.shape)\n",
        "print(X_tr.shape,X_val.shape)"
      ]
    },
    {
      "cell_type": "code",
      "execution_count": null,
      "metadata": {
        "id": "nB344h44F9J8"
      },
      "outputs": [],
      "source": [
        "# 만약 구버전 XGBoost에서 DataFrame으로 DMatrix 생성이 안 될 경우 X_train.values로 넘파이 변환\n",
        "# 학습, 검증, 테스트용 DMatrix 생성\n",
        "dtr = xgb.DMatrix(data=X_tr, label=y_tr)\n",
        "dval = xgb.DMatrix(data=X_val,label=y_val)\n",
        "dtest = xgb.DMatrix(data=X_test,label=y_test)"
      ]
    },
    {
      "cell_type": "code",
      "execution_count": null,
      "metadata": {
        "id": "uUcwg2glSMOm"
      },
      "outputs": [],
      "source": [
        "params={'max_depth':3,'eta':0.05,'objective':'binary:logistic','eval_metric':'logloss'}\n",
        "\n",
        "num_rounds=400"
      ]
    },
    {
      "cell_type": "code",
      "execution_count": null,
      "metadata": {
        "colab": {
          "base_uri": "https://localhost:8080/"
        },
        "id": "MGkkIyvTRhUy",
        "outputId": "70f4f418-285b-4928-c93a-7ef328ba0127"
      },
      "outputs": [
        {
          "output_type": "stream",
          "name": "stdout",
          "text": [
            "[0]\ttrain-logloss:0.65016\teval-logloss:0.66183\n",
            "[1]\ttrain-logloss:0.61131\teval-logloss:0.63609\n",
            "[2]\ttrain-logloss:0.57563\teval-logloss:0.61144\n",
            "[3]\ttrain-logloss:0.54310\teval-logloss:0.59204\n",
            "[4]\ttrain-logloss:0.51323\teval-logloss:0.57329\n",
            "[5]\ttrain-logloss:0.48447\teval-logloss:0.55037\n",
            "[6]\ttrain-logloss:0.45796\teval-logloss:0.52929\n",
            "[7]\ttrain-logloss:0.43436\teval-logloss:0.51534\n",
            "[8]\ttrain-logloss:0.41150\teval-logloss:0.49718\n",
            "[9]\ttrain-logloss:0.39027\teval-logloss:0.48154\n",
            "[10]\ttrain-logloss:0.37128\teval-logloss:0.46990\n",
            "[11]\ttrain-logloss:0.35254\teval-logloss:0.45474\n",
            "[12]\ttrain-logloss:0.33528\teval-logloss:0.44229\n",
            "[13]\ttrain-logloss:0.31893\teval-logloss:0.42961\n",
            "[14]\ttrain-logloss:0.30439\teval-logloss:0.42065\n",
            "[15]\ttrain-logloss:0.29000\teval-logloss:0.40958\n",
            "[16]\ttrain-logloss:0.27651\teval-logloss:0.39887\n",
            "[17]\ttrain-logloss:0.26389\teval-logloss:0.39050\n",
            "[18]\ttrain-logloss:0.25210\teval-logloss:0.38254\n",
            "[19]\ttrain-logloss:0.24123\teval-logloss:0.37393\n",
            "[20]\ttrain-logloss:0.23076\teval-logloss:0.36789\n",
            "[21]\ttrain-logloss:0.22091\teval-logloss:0.36017\n",
            "[22]\ttrain-logloss:0.21155\teval-logloss:0.35421\n",
            "[23]\ttrain-logloss:0.20263\teval-logloss:0.34683\n",
            "[24]\ttrain-logloss:0.19434\teval-logloss:0.34111\n",
            "[25]\ttrain-logloss:0.18637\teval-logloss:0.33634\n",
            "[26]\ttrain-logloss:0.17875\teval-logloss:0.33082\n",
            "[27]\ttrain-logloss:0.17167\teval-logloss:0.32675\n",
            "[28]\ttrain-logloss:0.16481\teval-logloss:0.32099\n",
            "[29]\ttrain-logloss:0.15835\teval-logloss:0.31671\n",
            "[30]\ttrain-logloss:0.15225\teval-logloss:0.31277\n",
            "[31]\ttrain-logloss:0.14650\teval-logloss:0.30882\n",
            "[32]\ttrain-logloss:0.14102\teval-logloss:0.30437\n",
            "[33]\ttrain-logloss:0.13590\teval-logloss:0.30103\n",
            "[34]\ttrain-logloss:0.13109\teval-logloss:0.29794\n",
            "[35]\ttrain-logloss:0.12647\teval-logloss:0.29499\n",
            "[36]\ttrain-logloss:0.12197\teval-logloss:0.29295\n",
            "[37]\ttrain-logloss:0.11784\teval-logloss:0.29043\n",
            "[38]\ttrain-logloss:0.11379\teval-logloss:0.28927\n",
            "[39]\ttrain-logloss:0.10994\teval-logloss:0.28578\n",
            "[40]\ttrain-logloss:0.10638\teval-logloss:0.28364\n",
            "[41]\ttrain-logloss:0.10302\teval-logloss:0.28183\n",
            "[42]\ttrain-logloss:0.09963\teval-logloss:0.28005\n",
            "[43]\ttrain-logloss:0.09649\teval-logloss:0.27972\n",
            "[44]\ttrain-logloss:0.09359\teval-logloss:0.27744\n",
            "[45]\ttrain-logloss:0.09080\teval-logloss:0.27542\n",
            "[46]\ttrain-logloss:0.08807\teval-logloss:0.27504\n",
            "[47]\ttrain-logloss:0.08541\teval-logloss:0.27458\n",
            "[48]\ttrain-logloss:0.08299\teval-logloss:0.27348\n",
            "[49]\ttrain-logloss:0.08035\teval-logloss:0.27247\n",
            "[50]\ttrain-logloss:0.07786\teval-logloss:0.27163\n",
            "[51]\ttrain-logloss:0.07550\teval-logloss:0.27094\n",
            "[52]\ttrain-logloss:0.07344\teval-logloss:0.26967\n",
            "[53]\ttrain-logloss:0.07147\teval-logloss:0.27008\n",
            "[54]\ttrain-logloss:0.06964\teval-logloss:0.26890\n",
            "[55]\ttrain-logloss:0.06766\teval-logloss:0.26854\n",
            "[56]\ttrain-logloss:0.06592\teval-logloss:0.26900\n",
            "[57]\ttrain-logloss:0.06433\teval-logloss:0.26790\n",
            "[58]\ttrain-logloss:0.06259\teval-logloss:0.26663\n",
            "[59]\ttrain-logloss:0.06107\teval-logloss:0.26743\n",
            "[60]\ttrain-logloss:0.05957\teval-logloss:0.26610\n",
            "[61]\ttrain-logloss:0.05817\teval-logloss:0.26644\n",
            "[62]\ttrain-logloss:0.05691\teval-logloss:0.26673\n",
            "[63]\ttrain-logloss:0.05550\teval-logloss:0.26550\n",
            "[64]\ttrain-logloss:0.05422\teval-logloss:0.26443\n",
            "[65]\ttrain-logloss:0.05311\teval-logloss:0.26500\n",
            "[66]\ttrain-logloss:0.05207\teval-logloss:0.26591\n",
            "[67]\ttrain-logloss:0.05093\teval-logloss:0.26501\n",
            "[68]\ttrain-logloss:0.04976\teval-logloss:0.26435\n",
            "[69]\ttrain-logloss:0.04872\teval-logloss:0.26360\n",
            "[70]\ttrain-logloss:0.04776\teval-logloss:0.26319\n",
            "[71]\ttrain-logloss:0.04680\teval-logloss:0.26255\n",
            "[72]\ttrain-logloss:0.04580\teval-logloss:0.26204\n",
            "[73]\ttrain-logloss:0.04484\teval-logloss:0.26254\n",
            "[74]\ttrain-logloss:0.04388\teval-logloss:0.26289\n",
            "[75]\ttrain-logloss:0.04309\teval-logloss:0.26249\n",
            "[76]\ttrain-logloss:0.04224\teval-logloss:0.26217\n",
            "[77]\ttrain-logloss:0.04133\teval-logloss:0.26166\n",
            "[78]\ttrain-logloss:0.04050\teval-logloss:0.26179\n",
            "[79]\ttrain-logloss:0.03967\teval-logloss:0.26103\n",
            "[80]\ttrain-logloss:0.03877\teval-logloss:0.26094\n",
            "[81]\ttrain-logloss:0.03806\teval-logloss:0.26148\n",
            "[82]\ttrain-logloss:0.03740\teval-logloss:0.26054\n",
            "[83]\ttrain-logloss:0.03676\teval-logloss:0.25967\n",
            "[84]\ttrain-logloss:0.03605\teval-logloss:0.25905\n",
            "[85]\ttrain-logloss:0.03545\teval-logloss:0.26007\n",
            "[86]\ttrain-logloss:0.03488\teval-logloss:0.25984\n",
            "[87]\ttrain-logloss:0.03425\teval-logloss:0.25933\n",
            "[88]\ttrain-logloss:0.03361\teval-logloss:0.25932\n",
            "[89]\ttrain-logloss:0.03311\teval-logloss:0.26002\n",
            "[90]\ttrain-logloss:0.03260\teval-logloss:0.25936\n",
            "[91]\ttrain-logloss:0.03202\teval-logloss:0.25886\n",
            "[92]\ttrain-logloss:0.03152\teval-logloss:0.25918\n",
            "[93]\ttrain-logloss:0.03107\teval-logloss:0.25865\n",
            "[94]\ttrain-logloss:0.03049\teval-logloss:0.25951\n",
            "[95]\ttrain-logloss:0.03007\teval-logloss:0.26091\n",
            "[96]\ttrain-logloss:0.02963\teval-logloss:0.26014\n",
            "[97]\ttrain-logloss:0.02913\teval-logloss:0.25974\n",
            "[98]\ttrain-logloss:0.02866\teval-logloss:0.25937\n",
            "[99]\ttrain-logloss:0.02829\teval-logloss:0.25893\n",
            "[100]\ttrain-logloss:0.02789\teval-logloss:0.25928\n",
            "[101]\ttrain-logloss:0.02751\teval-logloss:0.25955\n",
            "[102]\ttrain-logloss:0.02714\teval-logloss:0.25901\n",
            "[103]\ttrain-logloss:0.02668\teval-logloss:0.25991\n",
            "[104]\ttrain-logloss:0.02634\teval-logloss:0.25950\n",
            "[105]\ttrain-logloss:0.02594\teval-logloss:0.25924\n",
            "[106]\ttrain-logloss:0.02556\teval-logloss:0.25901\n",
            "[107]\ttrain-logloss:0.02522\teval-logloss:0.25738\n",
            "[108]\ttrain-logloss:0.02492\teval-logloss:0.25702\n",
            "[109]\ttrain-logloss:0.02453\teval-logloss:0.25789\n",
            "[110]\ttrain-logloss:0.02418\teval-logloss:0.25770\n",
            "[111]\ttrain-logloss:0.02384\teval-logloss:0.25842\n",
            "[112]\ttrain-logloss:0.02356\teval-logloss:0.25810\n",
            "[113]\ttrain-logloss:0.02322\teval-logloss:0.25848\n",
            "[114]\ttrain-logloss:0.02290\teval-logloss:0.25833\n",
            "[115]\ttrain-logloss:0.02260\teval-logloss:0.25820\n",
            "[116]\ttrain-logloss:0.02229\teval-logloss:0.25905\n",
            "[117]\ttrain-logloss:0.02204\teval-logloss:0.25878\n",
            "[118]\ttrain-logloss:0.02176\teval-logloss:0.25728\n",
            "[119]\ttrain-logloss:0.02149\teval-logloss:0.25722\n",
            "[120]\ttrain-logloss:0.02119\teval-logloss:0.25764\n",
            "[121]\ttrain-logloss:0.02095\teval-logloss:0.25761\n",
            "[122]\ttrain-logloss:0.02067\teval-logloss:0.25832\n",
            "[123]\ttrain-logloss:0.02045\teval-logloss:0.25808\n",
            "[124]\ttrain-logloss:0.02023\teval-logloss:0.25855\n",
            "[125]\ttrain-logloss:0.01998\teval-logloss:0.25714\n",
            "[126]\ttrain-logloss:0.01973\teval-logloss:0.25587\n",
            "[127]\ttrain-logloss:0.01946\teval-logloss:0.25640\n",
            "[128]\ttrain-logloss:0.01927\teval-logloss:0.25685\n",
            "[129]\ttrain-logloss:0.01908\teval-logloss:0.25665\n",
            "[130]\ttrain-logloss:0.01886\teval-logloss:0.25712\n",
            "[131]\ttrain-logloss:0.01863\teval-logloss:0.25609\n",
            "[132]\ttrain-logloss:0.01839\teval-logloss:0.25649\n",
            "[133]\ttrain-logloss:0.01816\teval-logloss:0.25789\n",
            "[134]\ttrain-logloss:0.01802\teval-logloss:0.25811\n",
            "[135]\ttrain-logloss:0.01785\teval-logloss:0.25794\n",
            "[136]\ttrain-logloss:0.01763\teval-logloss:0.25876\n",
            "[137]\ttrain-logloss:0.01748\teval-logloss:0.25884\n",
            "[138]\ttrain-logloss:0.01732\teval-logloss:0.25867\n",
            "[139]\ttrain-logloss:0.01719\teval-logloss:0.25876\n",
            "[140]\ttrain-logloss:0.01696\teval-logloss:0.25987\n",
            "[141]\ttrain-logloss:0.01681\teval-logloss:0.25960\n",
            "[142]\ttrain-logloss:0.01669\teval-logloss:0.25982\n",
            "[143]\ttrain-logloss:0.01656\teval-logloss:0.25992\n",
            "[144]\ttrain-logloss:0.01638\teval-logloss:0.26035\n",
            "[145]\ttrain-logloss:0.01623\teval-logloss:0.26055\n",
            "[146]\ttrain-logloss:0.01606\teval-logloss:0.26092\n",
            "[147]\ttrain-logloss:0.01589\teval-logloss:0.26137\n",
            "[148]\ttrain-logloss:0.01572\teval-logloss:0.25999\n",
            "[149]\ttrain-logloss:0.01557\teval-logloss:0.26028\n",
            "[150]\ttrain-logloss:0.01546\teval-logloss:0.26048\n",
            "[151]\ttrain-logloss:0.01531\teval-logloss:0.26142\n",
            "[152]\ttrain-logloss:0.01515\teval-logloss:0.26188\n",
            "[153]\ttrain-logloss:0.01501\teval-logloss:0.26227\n",
            "[154]\ttrain-logloss:0.01486\teval-logloss:0.26287\n",
            "[155]\ttrain-logloss:0.01476\teval-logloss:0.26299\n",
            "[156]\ttrain-logloss:0.01461\teval-logloss:0.26346\n",
            "[157]\ttrain-logloss:0.01448\teval-logloss:0.26379\n",
            "[158]\ttrain-logloss:0.01434\teval-logloss:0.26306\n",
            "[159]\ttrain-logloss:0.01424\teval-logloss:0.26237\n",
            "[160]\ttrain-logloss:0.01410\teval-logloss:0.26251\n",
            "[161]\ttrain-logloss:0.01401\teval-logloss:0.26265\n",
            "[162]\ttrain-logloss:0.01392\teval-logloss:0.26264\n",
            "[163]\ttrain-logloss:0.01380\teval-logloss:0.26250\n",
            "[164]\ttrain-logloss:0.01372\teval-logloss:0.26264\n",
            "[165]\ttrain-logloss:0.01359\teval-logloss:0.26255\n",
            "[166]\ttrain-logloss:0.01350\teval-logloss:0.26188\n",
            "[167]\ttrain-logloss:0.01342\teval-logloss:0.26203\n",
            "[168]\ttrain-logloss:0.01331\teval-logloss:0.26190\n",
            "[169]\ttrain-logloss:0.01319\teval-logloss:0.26184\n",
            "[170]\ttrain-logloss:0.01312\teval-logloss:0.26133\n",
            "[171]\ttrain-logloss:0.01304\teval-logloss:0.26148\n",
            "[172]\ttrain-logloss:0.01297\teval-logloss:0.26157\n",
            "[173]\ttrain-logloss:0.01285\teval-logloss:0.26253\n",
            "[174]\ttrain-logloss:0.01278\teval-logloss:0.26229\n",
            "[175]\ttrain-logloss:0.01267\teval-logloss:0.26086\n",
            "[176]\ttrain-logloss:0.01258\teval-logloss:0.26103\n"
          ]
        }
      ],
      "source": [
        "# 학습 데이터 셋은 'train', 평가 데이터 셋은 'eval'로 명기\n",
        "eval_list=[(dtr,'train'),(dval,'eval')] # 또는 eval_list=[(dval,'eval)]만 명기해도 무방\n",
        "\n",
        "# 하이퍼 파라미터와 early stopping 파라미터를 train() 함수의 파라미터로 전달\n",
        "xgb_model=xgb.train(params=params,dtrain=dtr,num_boost_round=num_rounds, early_stopping_rounds=50,evals=eval_list)"
      ]
    },
    {
      "cell_type": "code",
      "execution_count": null,
      "metadata": {
        "colab": {
          "base_uri": "https://localhost:8080/"
        },
        "id": "k6hHlRaAK-CA",
        "outputId": "75bd8b5d-b622-4050-bcd6-bf076443e1bf"
      },
      "outputs": [
        {
          "output_type": "stream",
          "name": "stdout",
          "text": [
            "predcit() 수행 결과값을 10개만 표시, 예측 확률 값으로 표시됨\n",
            "[0.845 0.008 0.68  0.081 0.975 0.999 0.998 0.998 0.996 0.001]\n",
            "예측값 10개만 표시: [1, 0, 1, 0, 1, 1, 1, 1, 1, 0]\n"
          ]
        }
      ],
      "source": [
        "pred_probs=xgb_model.predict(dtest)\n",
        "print('predcit() 수행 결과값을 10개만 표시, 예측 확률 값으로 표시됨')\n",
        "print(np.round(pred_probs[:10],3))\n",
        "\n",
        "# 예측 확률이 0.5보다 크면 1, 그렇지 않으면 0으로 예측값 결졍하여 list 객체인 preds에 저장\n",
        "preds=[1 if x > 0.5 else 0 for x in pred_probs]\n",
        "print('예측값 10개만 표시:',preds[:10])"
      ]
    },
    {
      "cell_type": "code",
      "execution_count": null,
      "metadata": {
        "id": "okdBiZbUSiH8"
      },
      "outputs": [],
      "source": [
        "from sklearn.metrics import accuracy_score,precision_score,recall_score,confusion_matrix,f1_score,roc_auc_score\n",
        "\n",
        "def get_clf_eval(y_test,pred=None,pred_proba=None):\n",
        "  confusion=confusion_matrix(y_test,pred)\n",
        "  accuracy=accuracy_score(y_test,pred)\n",
        "  precision=precision_score(y_test,pred)\n",
        "  recall=recall_score(y_test,pred)\n",
        "  f1=f1_score(y_test,pred)\n",
        "  # R0C-AUC 추가\n",
        "  roc_auc=roc_auc_score(y_test,pred_proba)\n",
        "  print('오차 행렬')\n",
        "  print(confusion)\n",
        "  # R0C-AUC print 추가\n",
        "  print('정확도: {0:.4f}, 정밀도:{1:.4f}, 재현율: {2:.4f},F1: {3:.4f},AUC:{4:.4f}'.format(accuracy,precision,recall,f1,roc_auc))"
      ]
    },
    {
      "cell_type": "code",
      "execution_count": null,
      "metadata": {
        "colab": {
          "base_uri": "https://localhost:8080/"
        },
        "id": "gyOOhCfbSQIp",
        "outputId": "5270fda8-6890-4b53-85ca-1521d38933b0"
      },
      "outputs": [
        {
          "output_type": "stream",
          "name": "stdout",
          "text": [
            "오차 행렬\n",
            "[[34  3]\n",
            " [ 2 75]]\n",
            "정확도: 0.9561, 정밀도:0.9615, 재현율: 0.9740,F1: 0.9677,AUC:0.9937\n"
          ]
        }
      ],
      "source": [
        "get_clf_eval(y_test,preds,pred_probs)"
      ]
    },
    {
      "cell_type": "code",
      "execution_count": null,
      "metadata": {
        "colab": {
          "base_uri": "https://localhost:8080/",
          "height": 693
        },
        "id": "NP_cw72pSj9s",
        "outputId": "078e0434-7beb-4313-cc55-eabe29724fe0"
      },
      "outputs": [
        {
          "output_type": "execute_result",
          "data": {
            "text/plain": [
              "<Axes: title={'center': 'Feature importance'}, xlabel='F score', ylabel='Features'>"
            ]
          },
          "metadata": {},
          "execution_count": 17
        },
        {
          "output_type": "display_data",
          "data": {
            "text/plain": [
              "<Figure size 1000x1200 with 1 Axes>"
            ],
            "image/png": "[encoded data removed]"
          },
          "metadata": {}
        }
      ],
      "source": [
        "import matplotlib.pyplot as plt\n",
        "%matplotlib inline\n",
        "\n",
        "fig,ax=plt.subplots(figsize=(10,12))\n",
        "plot_importance(xgb_model,ax=ax)"
      ]
    },
    {
      "cell_type": "code",
      "execution_count": null,
      "metadata": {
        "id": "6iuDuzl3WYr_"
      },
      "outputs": [],
      "source": [
        "# 사이킷런 래퍼 XGBoost 클래스인 XGBClassifier 임포트\n",
        "from xgboost import XGBClassifier\n",
        "\n",
        "# Warning 메시지를 없애기 위해 eval_metric 값을 XGBClassifier 생성 인자로 입력\n",
        "xgb_wrapper=XGBClassifier(n_estimators=400,learning_rate=0.05,max_depth=3,eval_metric='logloss')\n",
        "xgb_wrapper.fit(X_train,y_train,verbose=True)\n",
        "w_preds=xgb_wrapper.predict(X_test)\n",
        "w_pred_proba=xgb_wrapper.predict_proba(X_test)[:,1]"
      ]
    },
    {
      "cell_type": "code",
      "execution_count": null,
      "metadata": {
        "colab": {
          "base_uri": "https://localhost:8080/"
        },
        "id": "ALu_DkGqW1Hw",
        "outputId": "4b9694d6-f47b-47ab-a7f2-ceb011ce995f"
      },
      "outputs": [
        {
          "output_type": "stream",
          "name": "stdout",
          "text": [
            "오차 행렬\n",
            "[[34  3]\n",
            " [ 1 76]]\n",
            "정확도: 0.9649, 정밀도:0.9620, 재현율: 0.9870,F1: 0.9744,AUC:0.9954\n"
          ]
        }
      ],
      "source": [
        "get_clf_eval(y_test,w_preds,w_pred_proba)"
      ]
    },
    {
      "cell_type": "code",
      "execution_count": null,
      "metadata": {
        "colab": {
          "base_uri": "https://localhost:8080/"
        },
        "id": "-5DAjyuKW4Zn",
        "outputId": "e3b18fa1-0997-49c8-fb0c-468804c511ea"
      },
      "outputs": [
        {
          "output_type": "stream",
          "name": "stdout",
          "text": [
            "[0]\tvalidation_0-logloss:0.65016\tvalidation_1-logloss:0.66183\n",
            "[1]\tvalidation_0-logloss:0.61131\tvalidation_1-logloss:0.63609\n",
            "[2]\tvalidation_0-logloss:0.57563\tvalidation_1-logloss:0.61144\n",
            "[3]\tvalidation_0-logloss:0.54310\tvalidation_1-logloss:0.59204\n",
            "[4]\tvalidation_0-logloss:0.51323\tvalidation_1-logloss:0.57329\n",
            "[5]\tvalidation_0-logloss:0.48447\tvalidation_1-logloss:0.55037\n",
            "[6]\tvalidation_0-logloss:0.45796\tvalidation_1-logloss:0.52929\n",
            "[7]\tvalidation_0-logloss:0.43436\tvalidation_1-logloss:0.51534\n",
            "[8]\tvalidation_0-logloss:0.41150\tvalidation_1-logloss:0.49718\n",
            "[9]\tvalidation_0-logloss:0.39027\tvalidation_1-logloss:0.48154\n",
            "[10]\tvalidation_0-logloss:0.37128\tvalidation_1-logloss:0.46990\n",
            "[11]\tvalidation_0-logloss:0.35254\tvalidation_1-logloss:0.45474\n",
            "[12]\tvalidation_0-logloss:0.33528\tvalidation_1-logloss:0.44229\n",
            "[13]\tvalidation_0-logloss:0.31893\tvalidation_1-logloss:0.42961\n",
            "[14]\tvalidation_0-logloss:0.30439\tvalidation_1-logloss:0.42065\n",
            "[15]\tvalidation_0-logloss:0.29000\tvalidation_1-logloss:0.40958\n",
            "[16]\tvalidation_0-logloss:0.27651\tvalidation_1-logloss:0.39887\n",
            "[17]\tvalidation_0-logloss:0.26389\tvalidation_1-logloss:0.39050\n",
            "[18]\tvalidation_0-logloss:0.25210\tvalidation_1-logloss:0.38254\n",
            "[19]\tvalidation_0-logloss:0.24123\tvalidation_1-logloss:0.37393\n",
            "[20]\tvalidation_0-logloss:0.23076\tvalidation_1-logloss:0.36789\n",
            "[21]\tvalidation_0-logloss:0.22091\tvalidation_1-logloss:0.36017\n",
            "[22]\tvalidation_0-logloss:0.21155\tvalidation_1-logloss:0.35421\n",
            "[23]\tvalidation_0-logloss:0.20263\tvalidation_1-logloss:0.34683\n",
            "[24]\tvalidation_0-logloss:0.19434\tvalidation_1-logloss:0.34111\n",
            "[25]\tvalidation_0-logloss:0.18637\tvalidation_1-logloss:0.33634\n",
            "[26]\tvalidation_0-logloss:0.17875\tvalidation_1-logloss:0.33082\n",
            "[27]\tvalidation_0-logloss:0.17167\tvalidation_1-logloss:0.32675\n",
            "[28]\tvalidation_0-logloss:0.16481\tvalidation_1-logloss:0.32099\n",
            "[29]\tvalidation_0-logloss:0.15835\tvalidation_1-logloss:0.31671\n",
            "[30]\tvalidation_0-logloss:0.15225\tvalidation_1-logloss:0.31277\n",
            "[31]\tvalidation_0-logloss:0.14650\tvalidation_1-logloss:0.30882\n",
            "[32]\tvalidation_0-logloss:0.14102\tvalidation_1-logloss:0.30437\n",
            "[33]\tvalidation_0-logloss:0.13590\tvalidation_1-logloss:0.30103\n",
            "[34]\tvalidation_0-logloss:0.13109\tvalidation_1-logloss:0.29794\n",
            "[35]\tvalidation_0-logloss:0.12647\tvalidation_1-logloss:0.29499\n",
            "[36]\tvalidation_0-logloss:0.12197\tvalidation_1-logloss:0.29295\n",
            "[37]\tvalidation_0-logloss:0.11784\tvalidation_1-logloss:0.29043\n",
            "[38]\tvalidation_0-logloss:0.11379\tvalidation_1-logloss:0.28927\n",
            "[39]\tvalidation_0-logloss:0.10994\tvalidation_1-logloss:0.28578\n",
            "[40]\tvalidation_0-logloss:0.10638\tvalidation_1-logloss:0.28364\n",
            "[41]\tvalidation_0-logloss:0.10302\tvalidation_1-logloss:0.28183\n",
            "[42]\tvalidation_0-logloss:0.09963\tvalidation_1-logloss:0.28005\n",
            "[43]\tvalidation_0-logloss:0.09649\tvalidation_1-logloss:0.27972\n",
            "[44]\tvalidation_0-logloss:0.09359\tvalidation_1-logloss:0.27744\n",
            "[45]\tvalidation_0-logloss:0.09080\tvalidation_1-logloss:0.27542\n",
            "[46]\tvalidation_0-logloss:0.08807\tvalidation_1-logloss:0.27504\n",
            "[47]\tvalidation_0-logloss:0.08541\tvalidation_1-logloss:0.27458\n",
            "[48]\tvalidation_0-logloss:0.08299\tvalidation_1-logloss:0.27348\n",
            "[49]\tvalidation_0-logloss:0.08035\tvalidation_1-logloss:0.27247\n",
            "[50]\tvalidation_0-logloss:0.07786\tvalidation_1-logloss:0.27163\n",
            "[51]\tvalidation_0-logloss:0.07550\tvalidation_1-logloss:0.27094\n",
            "[52]\tvalidation_0-logloss:0.07344\tvalidation_1-logloss:0.26967\n",
            "[53]\tvalidation_0-logloss:0.07147\tvalidation_1-logloss:0.27008\n",
            "[54]\tvalidation_0-logloss:0.06964\tvalidation_1-logloss:0.26890\n",
            "[55]\tvalidation_0-logloss:0.06766\tvalidation_1-logloss:0.26854\n",
            "[56]\tvalidation_0-logloss:0.06592\tvalidation_1-logloss:0.26900\n",
            "[57]\tvalidation_0-logloss:0.06433\tvalidation_1-logloss:0.26790\n",
            "[58]\tvalidation_0-logloss:0.06259\tvalidation_1-logloss:0.26663\n",
            "[59]\tvalidation_0-logloss:0.06107\tvalidation_1-logloss:0.26743\n",
            "[60]\tvalidation_0-logloss:0.05957\tvalidation_1-logloss:0.26610\n",
            "[61]\tvalidation_0-logloss:0.05817\tvalidation_1-logloss:0.26644\n",
            "[62]\tvalidation_0-logloss:0.05691\tvalidation_1-logloss:0.26673\n",
            "[63]\tvalidation_0-logloss:0.05550\tvalidation_1-logloss:0.26550\n",
            "[64]\tvalidation_0-logloss:0.05422\tvalidation_1-logloss:0.26443\n",
            "[65]\tvalidation_0-logloss:0.05311\tvalidation_1-logloss:0.26500\n",
            "[66]\tvalidation_0-logloss:0.05207\tvalidation_1-logloss:0.26591\n",
            "[67]\tvalidation_0-logloss:0.05093\tvalidation_1-logloss:0.26501\n",
            "[68]\tvalidation_0-logloss:0.04976\tvalidation_1-logloss:0.26435\n",
            "[69]\tvalidation_0-logloss:0.04872\tvalidation_1-logloss:0.26360\n",
            "[70]\tvalidation_0-logloss:0.04776\tvalidation_1-logloss:0.26319\n",
            "[71]\tvalidation_0-logloss:0.04680\tvalidation_1-logloss:0.26255\n",
            "[72]\tvalidation_0-logloss:0.04580\tvalidation_1-logloss:0.26204\n",
            "[73]\tvalidation_0-logloss:0.04484\tvalidation_1-logloss:0.26254\n",
            "[74]\tvalidation_0-logloss:0.04388\tvalidation_1-logloss:0.26289\n",
            "[75]\tvalidation_0-logloss:0.04309\tvalidation_1-logloss:0.26249\n",
            "[76]\tvalidation_0-logloss:0.04224\tvalidation_1-logloss:0.26217\n",
            "[77]\tvalidation_0-logloss:0.04133\tvalidation_1-logloss:0.26166\n",
            "[78]\tvalidation_0-logloss:0.04050\tvalidation_1-logloss:0.26179\n",
            "[79]\tvalidation_0-logloss:0.03967\tvalidation_1-logloss:0.26103\n",
            "[80]\tvalidation_0-logloss:0.03877\tvalidation_1-logloss:0.26094\n",
            "[81]\tvalidation_0-logloss:0.03806\tvalidation_1-logloss:0.26148\n",
            "[82]\tvalidation_0-logloss:0.03740\tvalidation_1-logloss:0.26054\n",
            "[83]\tvalidation_0-logloss:0.03676\tvalidation_1-logloss:0.25967\n",
            "[84]\tvalidation_0-logloss:0.03605\tvalidation_1-logloss:0.25905\n",
            "[85]\tvalidation_0-logloss:0.03545\tvalidation_1-logloss:0.26007\n",
            "[86]\tvalidation_0-logloss:0.03488\tvalidation_1-logloss:0.25984\n",
            "[87]\tvalidation_0-logloss:0.03425\tvalidation_1-logloss:0.25933\n",
            "[88]\tvalidation_0-logloss:0.03361\tvalidation_1-logloss:0.25932\n",
            "[89]\tvalidation_0-logloss:0.03311\tvalidation_1-logloss:0.26002\n",
            "[90]\tvalidation_0-logloss:0.03260\tvalidation_1-logloss:0.25936\n",
            "[91]\tvalidation_0-logloss:0.03202\tvalidation_1-logloss:0.25886\n",
            "[92]\tvalidation_0-logloss:0.03152\tvalidation_1-logloss:0.25918\n",
            "[93]\tvalidation_0-logloss:0.03107\tvalidation_1-logloss:0.25865\n",
            "[94]\tvalidation_0-logloss:0.03049\tvalidation_1-logloss:0.25951\n",
            "[95]\tvalidation_0-logloss:0.03007\tvalidation_1-logloss:0.26091\n",
            "[96]\tvalidation_0-logloss:0.02963\tvalidation_1-logloss:0.26014\n",
            "[97]\tvalidation_0-logloss:0.02913\tvalidation_1-logloss:0.25974\n",
            "[98]\tvalidation_0-logloss:0.02866\tvalidation_1-logloss:0.25937\n",
            "[99]\tvalidation_0-logloss:0.02829\tvalidation_1-logloss:0.25893\n",
            "[100]\tvalidation_0-logloss:0.02789\tvalidation_1-logloss:0.25928\n",
            "[101]\tvalidation_0-logloss:0.02751\tvalidation_1-logloss:0.25955\n",
            "[102]\tvalidation_0-logloss:0.02714\tvalidation_1-logloss:0.25901\n",
            "[103]\tvalidation_0-logloss:0.02668\tvalidation_1-logloss:0.25991\n",
            "[104]\tvalidation_0-logloss:0.02634\tvalidation_1-logloss:0.25950\n",
            "[105]\tvalidation_0-logloss:0.02594\tvalidation_1-logloss:0.25924\n",
            "[106]\tvalidation_0-logloss:0.02556\tvalidation_1-logloss:0.25901\n",
            "[107]\tvalidation_0-logloss:0.02522\tvalidation_1-logloss:0.25738\n",
            "[108]\tvalidation_0-logloss:0.02492\tvalidation_1-logloss:0.25702\n",
            "[109]\tvalidation_0-logloss:0.02453\tvalidation_1-logloss:0.25789\n",
            "[110]\tvalidation_0-logloss:0.02418\tvalidation_1-logloss:0.25770\n",
            "[111]\tvalidation_0-logloss:0.02384\tvalidation_1-logloss:0.25842\n",
            "[112]\tvalidation_0-logloss:0.02356\tvalidation_1-logloss:0.25810\n",
            "[113]\tvalidation_0-logloss:0.02322\tvalidation_1-logloss:0.25848\n",
            "[114]\tvalidation_0-logloss:0.02290\tvalidation_1-logloss:0.25833\n",
            "[115]\tvalidation_0-logloss:0.02260\tvalidation_1-logloss:0.25820\n",
            "[116]\tvalidation_0-logloss:0.02229\tvalidation_1-logloss:0.25905\n",
            "[117]\tvalidation_0-logloss:0.02204\tvalidation_1-logloss:0.25878\n",
            "[118]\tvalidation_0-logloss:0.02176\tvalidation_1-logloss:0.25728\n",
            "[119]\tvalidation_0-logloss:0.02149\tvalidation_1-logloss:0.25722\n",
            "[120]\tvalidation_0-logloss:0.02119\tvalidation_1-logloss:0.25764\n",
            "[121]\tvalidation_0-logloss:0.02095\tvalidation_1-logloss:0.25761\n",
            "[122]\tvalidation_0-logloss:0.02067\tvalidation_1-logloss:0.25832\n",
            "[123]\tvalidation_0-logloss:0.02045\tvalidation_1-logloss:0.25808\n",
            "[124]\tvalidation_0-logloss:0.02023\tvalidation_1-logloss:0.25855\n",
            "[125]\tvalidation_0-logloss:0.01998\tvalidation_1-logloss:0.25714\n",
            "[126]\tvalidation_0-logloss:0.01973\tvalidation_1-logloss:0.25587\n",
            "[127]\tvalidation_0-logloss:0.01946\tvalidation_1-logloss:0.25640\n",
            "[128]\tvalidation_0-logloss:0.01927\tvalidation_1-logloss:0.25685\n",
            "[129]\tvalidation_0-logloss:0.01908\tvalidation_1-logloss:0.25665\n",
            "[130]\tvalidation_0-logloss:0.01886\tvalidation_1-logloss:0.25712\n",
            "[131]\tvalidation_0-logloss:0.01863\tvalidation_1-logloss:0.25609\n",
            "[132]\tvalidation_0-logloss:0.01839\tvalidation_1-logloss:0.25649\n",
            "[133]\tvalidation_0-logloss:0.01816\tvalidation_1-logloss:0.25789\n",
            "[134]\tvalidation_0-logloss:0.01802\tvalidation_1-logloss:0.25811\n",
            "[135]\tvalidation_0-logloss:0.01785\tvalidation_1-logloss:0.25794\n",
            "[136]\tvalidation_0-logloss:0.01763\tvalidation_1-logloss:0.25876\n",
            "[137]\tvalidation_0-logloss:0.01748\tvalidation_1-logloss:0.25884\n",
            "[138]\tvalidation_0-logloss:0.01732\tvalidation_1-logloss:0.25867\n",
            "[139]\tvalidation_0-logloss:0.01719\tvalidation_1-logloss:0.25876\n",
            "[140]\tvalidation_0-logloss:0.01696\tvalidation_1-logloss:0.25987\n",
            "[141]\tvalidation_0-logloss:0.01681\tvalidation_1-logloss:0.25960\n",
            "[142]\tvalidation_0-logloss:0.01669\tvalidation_1-logloss:0.25982\n",
            "[143]\tvalidation_0-logloss:0.01656\tvalidation_1-logloss:0.25992\n",
            "[144]\tvalidation_0-logloss:0.01638\tvalidation_1-logloss:0.26035\n",
            "[145]\tvalidation_0-logloss:0.01623\tvalidation_1-logloss:0.26055\n",
            "[146]\tvalidation_0-logloss:0.01606\tvalidation_1-logloss:0.26092\n",
            "[147]\tvalidation_0-logloss:0.01589\tvalidation_1-logloss:0.26137\n",
            "[148]\tvalidation_0-logloss:0.01572\tvalidation_1-logloss:0.25999\n",
            "[149]\tvalidation_0-logloss:0.01557\tvalidation_1-logloss:0.26028\n",
            "[150]\tvalidation_0-logloss:0.01546\tvalidation_1-logloss:0.26048\n",
            "[151]\tvalidation_0-logloss:0.01531\tvalidation_1-logloss:0.26142\n",
            "[152]\tvalidation_0-logloss:0.01515\tvalidation_1-logloss:0.26188\n",
            "[153]\tvalidation_0-logloss:0.01501\tvalidation_1-logloss:0.26227\n",
            "[154]\tvalidation_0-logloss:0.01486\tvalidation_1-logloss:0.26287\n",
            "[155]\tvalidation_0-logloss:0.01476\tvalidation_1-logloss:0.26299\n",
            "[156]\tvalidation_0-logloss:0.01461\tvalidation_1-logloss:0.26346\n",
            "[157]\tvalidation_0-logloss:0.01448\tvalidation_1-logloss:0.26379\n",
            "[158]\tvalidation_0-logloss:0.01434\tvalidation_1-logloss:0.26306\n",
            "[159]\tvalidation_0-logloss:0.01424\tvalidation_1-logloss:0.26237\n",
            "[160]\tvalidation_0-logloss:0.01410\tvalidation_1-logloss:0.26251\n",
            "[161]\tvalidation_0-logloss:0.01401\tvalidation_1-logloss:0.26265\n",
            "[162]\tvalidation_0-logloss:0.01392\tvalidation_1-logloss:0.26264\n",
            "[163]\tvalidation_0-logloss:0.01380\tvalidation_1-logloss:0.26250\n",
            "[164]\tvalidation_0-logloss:0.01372\tvalidation_1-logloss:0.26264\n",
            "[165]\tvalidation_0-logloss:0.01359\tvalidation_1-logloss:0.26255\n",
            "[166]\tvalidation_0-logloss:0.01350\tvalidation_1-logloss:0.26188\n",
            "[167]\tvalidation_0-logloss:0.01342\tvalidation_1-logloss:0.26203\n",
            "[168]\tvalidation_0-logloss:0.01331\tvalidation_1-logloss:0.26190\n",
            "[169]\tvalidation_0-logloss:0.01319\tvalidation_1-logloss:0.26184\n",
            "[170]\tvalidation_0-logloss:0.01312\tvalidation_1-logloss:0.26133\n",
            "[171]\tvalidation_0-logloss:0.01304\tvalidation_1-logloss:0.26148\n",
            "[172]\tvalidation_0-logloss:0.01297\tvalidation_1-logloss:0.26157\n",
            "[173]\tvalidation_0-logloss:0.01285\tvalidation_1-logloss:0.26253\n",
            "[174]\tvalidation_0-logloss:0.01278\tvalidation_1-logloss:0.26229\n",
            "[175]\tvalidation_0-logloss:0.01267\tvalidation_1-logloss:0.26086\n"
          ]
        }
      ],
      "source": [
        "from xgboost import XGBClassifier\n",
        "\n",
        "xgb_wrapper=XGBClassifier(n_estimators=400,learning_rate=0.05,max_depth=3)\n",
        "evals=[(X_tr,y_tr),(X_val,y_val)]\n",
        "xgb_wrapper.fit(X_tr,y_tr,early_stopping_rounds=50,eval_metric=\"logloss\", eval_set=evals,verbose=True)\n",
        "\n",
        "ws50_preds=xgb_wrapper.predict(X_test)\n",
        "ws50_pred_proba=xgb_wrapper.predict_proba(X_test)[:,1]"
      ]
    },
    {
      "cell_type": "code",
      "execution_count": null,
      "metadata": {
        "colab": {
          "base_uri": "https://localhost:8080/"
        },
        "id": "oQUUsipiXfHu",
        "outputId": "92e15a71-c5a5-45a1-e1b8-017f0e86ffec"
      },
      "outputs": [
        {
          "output_type": "stream",
          "name": "stdout",
          "text": [
            "오차 행렬\n",
            "[[34  3]\n",
            " [ 2 75]]\n",
            "정확도: 0.9561, 정밀도:0.9615, 재현율: 0.9740,F1: 0.9677,AUC:0.9933\n"
          ]
        }
      ],
      "source": [
        "get_clf_eval(y_test,ws50_preds,ws50_pred_proba)"
      ]
    },
    {
      "cell_type": "code",
      "execution_count": null,
      "metadata": {
        "colab": {
          "base_uri": "https://localhost:8080/"
        },
        "id": "bXdTx4SpXiFD",
        "outputId": "6238ce93-d427-487b-89ca-a1acfd8483d2"
      },
      "outputs": [
        {
          "output_type": "stream",
          "name": "stdout",
          "text": [
            "[0]\tvalidation_0-logloss:0.65016\tvalidation_1-logloss:0.66183\n",
            "[1]\tvalidation_0-logloss:0.61131\tvalidation_1-logloss:0.63609\n",
            "[2]\tvalidation_0-logloss:0.57563\tvalidation_1-logloss:0.61144\n",
            "[3]\tvalidation_0-logloss:0.54310\tvalidation_1-logloss:0.59204\n",
            "[4]\tvalidation_0-logloss:0.51323\tvalidation_1-logloss:0.57329\n",
            "[5]\tvalidation_0-logloss:0.48447\tvalidation_1-logloss:0.55037\n",
            "[6]\tvalidation_0-logloss:0.45796\tvalidation_1-logloss:0.52929\n",
            "[7]\tvalidation_0-logloss:0.43436\tvalidation_1-logloss:0.51534\n",
            "[8]\tvalidation_0-logloss:0.41150\tvalidation_1-logloss:0.49718\n",
            "[9]\tvalidation_0-logloss:0.39027\tvalidation_1-logloss:0.48154\n",
            "[10]\tvalidation_0-logloss:0.37128\tvalidation_1-logloss:0.46990\n",
            "[11]\tvalidation_0-logloss:0.35254\tvalidation_1-logloss:0.45474\n",
            "[12]\tvalidation_0-logloss:0.33528\tvalidation_1-logloss:0.44229\n",
            "[13]\tvalidation_0-logloss:0.31893\tvalidation_1-logloss:0.42961\n",
            "[14]\tvalidation_0-logloss:0.30439\tvalidation_1-logloss:0.42065\n",
            "[15]\tvalidation_0-logloss:0.29000\tvalidation_1-logloss:0.40958\n",
            "[16]\tvalidation_0-logloss:0.27651\tvalidation_1-logloss:0.39887\n",
            "[17]\tvalidation_0-logloss:0.26389\tvalidation_1-logloss:0.39050\n",
            "[18]\tvalidation_0-logloss:0.25210\tvalidation_1-logloss:0.38254\n",
            "[19]\tvalidation_0-logloss:0.24123\tvalidation_1-logloss:0.37393\n",
            "[20]\tvalidation_0-logloss:0.23076\tvalidation_1-logloss:0.36789\n",
            "[21]\tvalidation_0-logloss:0.22091\tvalidation_1-logloss:0.36017\n",
            "[22]\tvalidation_0-logloss:0.21155\tvalidation_1-logloss:0.35421\n",
            "[23]\tvalidation_0-logloss:0.20263\tvalidation_1-logloss:0.34683\n",
            "[24]\tvalidation_0-logloss:0.19434\tvalidation_1-logloss:0.34111\n",
            "[25]\tvalidation_0-logloss:0.18637\tvalidation_1-logloss:0.33634\n",
            "[26]\tvalidation_0-logloss:0.17875\tvalidation_1-logloss:0.33082\n",
            "[27]\tvalidation_0-logloss:0.17167\tvalidation_1-logloss:0.32675\n",
            "[28]\tvalidation_0-logloss:0.16481\tvalidation_1-logloss:0.32099\n",
            "[29]\tvalidation_0-logloss:0.15835\tvalidation_1-logloss:0.31671\n",
            "[30]\tvalidation_0-logloss:0.15225\tvalidation_1-logloss:0.31277\n",
            "[31]\tvalidation_0-logloss:0.14650\tvalidation_1-logloss:0.30882\n",
            "[32]\tvalidation_0-logloss:0.14102\tvalidation_1-logloss:0.30437\n",
            "[33]\tvalidation_0-logloss:0.13590\tvalidation_1-logloss:0.30103\n",
            "[34]\tvalidation_0-logloss:0.13109\tvalidation_1-logloss:0.29794\n",
            "[35]\tvalidation_0-logloss:0.12647\tvalidation_1-logloss:0.29499\n",
            "[36]\tvalidation_0-logloss:0.12197\tvalidation_1-logloss:0.29295\n",
            "[37]\tvalidation_0-logloss:0.11784\tvalidation_1-logloss:0.29043\n",
            "[38]\tvalidation_0-logloss:0.11379\tvalidation_1-logloss:0.28927\n",
            "[39]\tvalidation_0-logloss:0.10994\tvalidation_1-logloss:0.28578\n",
            "[40]\tvalidation_0-logloss:0.10638\tvalidation_1-logloss:0.28364\n",
            "[41]\tvalidation_0-logloss:0.10302\tvalidation_1-logloss:0.28183\n",
            "[42]\tvalidation_0-logloss:0.09963\tvalidation_1-logloss:0.28005\n",
            "[43]\tvalidation_0-logloss:0.09649\tvalidation_1-logloss:0.27972\n",
            "[44]\tvalidation_0-logloss:0.09359\tvalidation_1-logloss:0.27744\n",
            "[45]\tvalidation_0-logloss:0.09080\tvalidation_1-logloss:0.27542\n",
            "[46]\tvalidation_0-logloss:0.08807\tvalidation_1-logloss:0.27504\n",
            "[47]\tvalidation_0-logloss:0.08541\tvalidation_1-logloss:0.27458\n",
            "[48]\tvalidation_0-logloss:0.08299\tvalidation_1-logloss:0.27348\n",
            "[49]\tvalidation_0-logloss:0.08035\tvalidation_1-logloss:0.27247\n",
            "[50]\tvalidation_0-logloss:0.07786\tvalidation_1-logloss:0.27163\n",
            "[51]\tvalidation_0-logloss:0.07550\tvalidation_1-logloss:0.27094\n",
            "[52]\tvalidation_0-logloss:0.07344\tvalidation_1-logloss:0.26967\n",
            "[53]\tvalidation_0-logloss:0.07147\tvalidation_1-logloss:0.27008\n",
            "[54]\tvalidation_0-logloss:0.06964\tvalidation_1-logloss:0.26890\n",
            "[55]\tvalidation_0-logloss:0.06766\tvalidation_1-logloss:0.26854\n",
            "[56]\tvalidation_0-logloss:0.06592\tvalidation_1-logloss:0.26900\n",
            "[57]\tvalidation_0-logloss:0.06433\tvalidation_1-logloss:0.26790\n",
            "[58]\tvalidation_0-logloss:0.06259\tvalidation_1-logloss:0.26663\n",
            "[59]\tvalidation_0-logloss:0.06107\tvalidation_1-logloss:0.26743\n",
            "[60]\tvalidation_0-logloss:0.05957\tvalidation_1-logloss:0.26610\n",
            "[61]\tvalidation_0-logloss:0.05817\tvalidation_1-logloss:0.26644\n",
            "[62]\tvalidation_0-logloss:0.05691\tvalidation_1-logloss:0.26673\n",
            "[63]\tvalidation_0-logloss:0.05550\tvalidation_1-logloss:0.26550\n",
            "[64]\tvalidation_0-logloss:0.05422\tvalidation_1-logloss:0.26443\n",
            "[65]\tvalidation_0-logloss:0.05311\tvalidation_1-logloss:0.26500\n",
            "[66]\tvalidation_0-logloss:0.05207\tvalidation_1-logloss:0.26591\n",
            "[67]\tvalidation_0-logloss:0.05093\tvalidation_1-logloss:0.26501\n",
            "[68]\tvalidation_0-logloss:0.04976\tvalidation_1-logloss:0.26435\n",
            "[69]\tvalidation_0-logloss:0.04872\tvalidation_1-logloss:0.26360\n",
            "[70]\tvalidation_0-logloss:0.04776\tvalidation_1-logloss:0.26319\n",
            "[71]\tvalidation_0-logloss:0.04680\tvalidation_1-logloss:0.26255\n",
            "[72]\tvalidation_0-logloss:0.04580\tvalidation_1-logloss:0.26204\n",
            "[73]\tvalidation_0-logloss:0.04484\tvalidation_1-logloss:0.26254\n",
            "[74]\tvalidation_0-logloss:0.04388\tvalidation_1-logloss:0.26289\n",
            "[75]\tvalidation_0-logloss:0.04309\tvalidation_1-logloss:0.26249\n",
            "[76]\tvalidation_0-logloss:0.04224\tvalidation_1-logloss:0.26217\n",
            "[77]\tvalidation_0-logloss:0.04133\tvalidation_1-logloss:0.26166\n",
            "[78]\tvalidation_0-logloss:0.04050\tvalidation_1-logloss:0.26179\n",
            "[79]\tvalidation_0-logloss:0.03967\tvalidation_1-logloss:0.26103\n",
            "[80]\tvalidation_0-logloss:0.03877\tvalidation_1-logloss:0.26094\n",
            "[81]\tvalidation_0-logloss:0.03806\tvalidation_1-logloss:0.26148\n",
            "[82]\tvalidation_0-logloss:0.03740\tvalidation_1-logloss:0.26054\n",
            "[83]\tvalidation_0-logloss:0.03676\tvalidation_1-logloss:0.25967\n",
            "[84]\tvalidation_0-logloss:0.03605\tvalidation_1-logloss:0.25905\n",
            "[85]\tvalidation_0-logloss:0.03545\tvalidation_1-logloss:0.26007\n",
            "[86]\tvalidation_0-logloss:0.03488\tvalidation_1-logloss:0.25984\n",
            "[87]\tvalidation_0-logloss:0.03425\tvalidation_1-logloss:0.25933\n",
            "[88]\tvalidation_0-logloss:0.03361\tvalidation_1-logloss:0.25932\n",
            "[89]\tvalidation_0-logloss:0.03311\tvalidation_1-logloss:0.26002\n",
            "[90]\tvalidation_0-logloss:0.03260\tvalidation_1-logloss:0.25936\n",
            "[91]\tvalidation_0-logloss:0.03202\tvalidation_1-logloss:0.25886\n",
            "[92]\tvalidation_0-logloss:0.03152\tvalidation_1-logloss:0.25918\n",
            "[93]\tvalidation_0-logloss:0.03107\tvalidation_1-logloss:0.25865\n",
            "[94]\tvalidation_0-logloss:0.03049\tvalidation_1-logloss:0.25951\n",
            "[95]\tvalidation_0-logloss:0.03007\tvalidation_1-logloss:0.26091\n",
            "[96]\tvalidation_0-logloss:0.02963\tvalidation_1-logloss:0.26014\n",
            "[97]\tvalidation_0-logloss:0.02913\tvalidation_1-logloss:0.25974\n",
            "[98]\tvalidation_0-logloss:0.02866\tvalidation_1-logloss:0.25937\n",
            "[99]\tvalidation_0-logloss:0.02829\tvalidation_1-logloss:0.25893\n",
            "[100]\tvalidation_0-logloss:0.02789\tvalidation_1-logloss:0.25928\n",
            "[101]\tvalidation_0-logloss:0.02751\tvalidation_1-logloss:0.25955\n",
            "[102]\tvalidation_0-logloss:0.02714\tvalidation_1-logloss:0.25901\n",
            "[103]\tvalidation_0-logloss:0.02668\tvalidation_1-logloss:0.25991\n",
            "오차 행렬\n",
            "[[34  3]\n",
            " [ 3 74]]\n",
            "정확도: 0.9474, 정밀도:0.9610, 재현율: 0.9610,F1: 0.9610,AUC:0.9933\n"
          ]
        }
      ],
      "source": [
        "# early_stopping_rounds를 10으로 설정하고 재학습\n",
        "xgb_wrapper.fit(X_tr,y_tr,early_stopping_rounds=10,eval_metric=\"logloss\",eval_set=evals,verbose=True)\n",
        "\n",
        "ws10_preds=xgb_wrapper.predict(X_test)\n",
        "ws10_pred_proba=xgb_wrapper.predict_proba(X_test)[:,1]\n",
        "get_clf_eval(y_test,ws10_preds,ws10_pred_proba)"
      ]
    },
    {
      "cell_type": "code",
      "execution_count": null,
      "metadata": {
        "colab": {
          "base_uri": "https://localhost:8080/",
          "height": 704
        },
        "id": "2P7_FYcrX2ry",
        "outputId": "d84e4089-5729-4ce7-d19c-93230dc605cf"
      },
      "outputs": [
        {
          "output_type": "execute_result",
          "data": {
            "text/plain": [
              "<Axes: title={'center': 'Feature importance'}, xlabel='F score', ylabel='Features'>"
            ]
          },
          "metadata": {},
          "execution_count": 23
        },
        {
          "output_type": "display_data",
          "data": {
            "text/plain": [
              "<Figure size 1000x1200 with 1 Axes>"
            ],
            "image/png": "[encoded data removed]"
          },
          "metadata": {}
        }
      ],
      "source": [
        "from xgboost import plot_importance\n",
        "import matplotlib.pyplot as plt\n",
        "%matplotlib inline\n",
        "\n",
        "fig,ax=plt.subplots(figsize=(10,12))\n",
        "# 사이킷런 래퍼 클래스를 입력해도 무방\n",
        "plot_importance(xgb_wrapper,ax=ax)"
      ]
    },
    {
      "cell_type": "markdown",
      "source": [
        "#4.7"
      ],
      "metadata": {
        "id": "9lGZnUbLP6Xm"
      }
    },
    {
      "cell_type": "code",
      "execution_count": null,
      "metadata": {
        "id": "xvUSWv7AdBmh"
      },
      "outputs": [],
      "source": [
        "# pip install lightgbm==3.3.2"
      ]
    },
    {
      "cell_type": "code",
      "execution_count": null,
      "metadata": {
        "id": "QOaP_mF7e93w"
      },
      "outputs": [],
      "source": [
        "import lightgbm\n",
        "from lightgbm import LGBMClassifier"
      ]
    },
    {
      "cell_type": "code",
      "execution_count": null,
      "metadata": {
        "colab": {
          "base_uri": "https://localhost:8080/"
        },
        "id": "bcgEuUmFfBkI",
        "outputId": "9d7523a9-af4e-48d6-89ec-093d4ac7f84e"
      },
      "outputs": [
        {
          "output_type": "stream",
          "name": "stdout",
          "text": [
            "[1]\ttraining's binary_logloss: 0.625671\tvalid_1's binary_logloss: 0.628248\n",
            "[2]\ttraining's binary_logloss: 0.588173\tvalid_1's binary_logloss: 0.601106\n",
            "[3]\ttraining's binary_logloss: 0.554518\tvalid_1's binary_logloss: 0.577587\n",
            "[4]\ttraining's binary_logloss: 0.523972\tvalid_1's binary_logloss: 0.556324\n",
            "[5]\ttraining's binary_logloss: 0.49615\tvalid_1's binary_logloss: 0.537407\n",
            "[6]\ttraining's binary_logloss: 0.470108\tvalid_1's binary_logloss: 0.519401\n",
            "[7]\ttraining's binary_logloss: 0.446647\tvalid_1's binary_logloss: 0.502637\n",
            "[8]\ttraining's binary_logloss: 0.425055\tvalid_1's binary_logloss: 0.488311\n",
            "[9]\ttraining's binary_logloss: 0.405125\tvalid_1's binary_logloss: 0.474664\n",
            "[10]\ttraining's binary_logloss: 0.386526\tvalid_1's binary_logloss: 0.461267\n",
            "[11]\ttraining's binary_logloss: 0.367027\tvalid_1's binary_logloss: 0.444274\n",
            "[12]\ttraining's binary_logloss: 0.350713\tvalid_1's binary_logloss: 0.432755\n",
            "[13]\ttraining's binary_logloss: 0.334601\tvalid_1's binary_logloss: 0.421371\n",
            "[14]\ttraining's binary_logloss: 0.319854\tvalid_1's binary_logloss: 0.411418\n",
            "[15]\ttraining's binary_logloss: 0.306374\tvalid_1's binary_logloss: 0.402989\n",
            "[16]\ttraining's binary_logloss: 0.293116\tvalid_1's binary_logloss: 0.393973\n",
            "[17]\ttraining's binary_logloss: 0.280812\tvalid_1's binary_logloss: 0.384801\n",
            "[18]\ttraining's binary_logloss: 0.268352\tvalid_1's binary_logloss: 0.376191\n",
            "[19]\ttraining's binary_logloss: 0.256942\tvalid_1's binary_logloss: 0.368378\n",
            "[20]\ttraining's binary_logloss: 0.246443\tvalid_1's binary_logloss: 0.362062\n",
            "[21]\ttraining's binary_logloss: 0.236874\tvalid_1's binary_logloss: 0.355162\n",
            "[22]\ttraining's binary_logloss: 0.227501\tvalid_1's binary_logloss: 0.348933\n",
            "[23]\ttraining's binary_logloss: 0.218988\tvalid_1's binary_logloss: 0.342819\n",
            "[24]\ttraining's binary_logloss: 0.210621\tvalid_1's binary_logloss: 0.337386\n",
            "[25]\ttraining's binary_logloss: 0.202076\tvalid_1's binary_logloss: 0.331523\n",
            "[26]\ttraining's binary_logloss: 0.194199\tvalid_1's binary_logloss: 0.326349\n",
            "[27]\ttraining's binary_logloss: 0.187107\tvalid_1's binary_logloss: 0.322785\n",
            "[28]\ttraining's binary_logloss: 0.180535\tvalid_1's binary_logloss: 0.317877\n",
            "[29]\ttraining's binary_logloss: 0.173834\tvalid_1's binary_logloss: 0.313928\n",
            "[30]\ttraining's binary_logloss: 0.167198\tvalid_1's binary_logloss: 0.310105\n",
            "[31]\ttraining's binary_logloss: 0.161229\tvalid_1's binary_logloss: 0.307107\n",
            "[32]\ttraining's binary_logloss: 0.155494\tvalid_1's binary_logloss: 0.303837\n",
            "[33]\ttraining's binary_logloss: 0.149125\tvalid_1's binary_logloss: 0.300315\n",
            "[34]\ttraining's binary_logloss: 0.144045\tvalid_1's binary_logloss: 0.297816\n",
            "[35]\ttraining's binary_logloss: 0.139341\tvalid_1's binary_logloss: 0.295387\n",
            "[36]\ttraining's binary_logloss: 0.134625\tvalid_1's binary_logloss: 0.293063\n",
            "[37]\ttraining's binary_logloss: 0.129167\tvalid_1's binary_logloss: 0.289127\n",
            "[38]\ttraining's binary_logloss: 0.12472\tvalid_1's binary_logloss: 0.288697\n",
            "[39]\ttraining's binary_logloss: 0.11974\tvalid_1's binary_logloss: 0.28576\n",
            "[40]\ttraining's binary_logloss: 0.115054\tvalid_1's binary_logloss: 0.282853\n",
            "[41]\ttraining's binary_logloss: 0.110662\tvalid_1's binary_logloss: 0.279441\n",
            "[42]\ttraining's binary_logloss: 0.106358\tvalid_1's binary_logloss: 0.28113\n",
            "[43]\ttraining's binary_logloss: 0.102324\tvalid_1's binary_logloss: 0.279139\n",
            "[44]\ttraining's binary_logloss: 0.0985699\tvalid_1's binary_logloss: 0.276465\n",
            "[45]\ttraining's binary_logloss: 0.094858\tvalid_1's binary_logloss: 0.275946\n",
            "[46]\ttraining's binary_logloss: 0.0912486\tvalid_1's binary_logloss: 0.272819\n",
            "[47]\ttraining's binary_logloss: 0.0883115\tvalid_1's binary_logloss: 0.272306\n",
            "[48]\ttraining's binary_logloss: 0.0849963\tvalid_1's binary_logloss: 0.270452\n",
            "[49]\ttraining's binary_logloss: 0.0821742\tvalid_1's binary_logloss: 0.268671\n",
            "[50]\ttraining's binary_logloss: 0.0789991\tvalid_1's binary_logloss: 0.267587\n",
            "[51]\ttraining's binary_logloss: 0.0761072\tvalid_1's binary_logloss: 0.26626\n",
            "[52]\ttraining's binary_logloss: 0.0732567\tvalid_1's binary_logloss: 0.265542\n",
            "[53]\ttraining's binary_logloss: 0.0706388\tvalid_1's binary_logloss: 0.264547\n",
            "[54]\ttraining's binary_logloss: 0.0683911\tvalid_1's binary_logloss: 0.26502\n",
            "[55]\ttraining's binary_logloss: 0.0659347\tvalid_1's binary_logloss: 0.264388\n",
            "[56]\ttraining's binary_logloss: 0.0636873\tvalid_1's binary_logloss: 0.263128\n",
            "[57]\ttraining's binary_logloss: 0.0613354\tvalid_1's binary_logloss: 0.26231\n",
            "[58]\ttraining's binary_logloss: 0.0591944\tvalid_1's binary_logloss: 0.262011\n",
            "[59]\ttraining's binary_logloss: 0.057033\tvalid_1's binary_logloss: 0.261454\n",
            "[60]\ttraining's binary_logloss: 0.0550801\tvalid_1's binary_logloss: 0.260746\n",
            "[61]\ttraining's binary_logloss: 0.0532381\tvalid_1's binary_logloss: 0.260236\n",
            "[62]\ttraining's binary_logloss: 0.0514074\tvalid_1's binary_logloss: 0.261586\n",
            "[63]\ttraining's binary_logloss: 0.0494837\tvalid_1's binary_logloss: 0.261797\n",
            "[64]\ttraining's binary_logloss: 0.0477826\tvalid_1's binary_logloss: 0.262533\n",
            "[65]\ttraining's binary_logloss: 0.0460364\tvalid_1's binary_logloss: 0.263305\n",
            "[66]\ttraining's binary_logloss: 0.0444552\tvalid_1's binary_logloss: 0.264072\n",
            "[67]\ttraining's binary_logloss: 0.0427638\tvalid_1's binary_logloss: 0.266223\n",
            "[68]\ttraining's binary_logloss: 0.0412449\tvalid_1's binary_logloss: 0.266817\n",
            "[69]\ttraining's binary_logloss: 0.0398589\tvalid_1's binary_logloss: 0.267819\n",
            "[70]\ttraining's binary_logloss: 0.0383095\tvalid_1's binary_logloss: 0.267484\n",
            "[71]\ttraining's binary_logloss: 0.0368803\tvalid_1's binary_logloss: 0.270233\n",
            "[72]\ttraining's binary_logloss: 0.0355637\tvalid_1's binary_logloss: 0.268442\n",
            "[73]\ttraining's binary_logloss: 0.0341747\tvalid_1's binary_logloss: 0.26895\n",
            "[74]\ttraining's binary_logloss: 0.0328302\tvalid_1's binary_logloss: 0.266958\n",
            "[75]\ttraining's binary_logloss: 0.0317853\tvalid_1's binary_logloss: 0.268091\n",
            "[76]\ttraining's binary_logloss: 0.0305626\tvalid_1's binary_logloss: 0.266419\n",
            "[77]\ttraining's binary_logloss: 0.0295001\tvalid_1's binary_logloss: 0.268588\n",
            "[78]\ttraining's binary_logloss: 0.0284699\tvalid_1's binary_logloss: 0.270964\n",
            "[79]\ttraining's binary_logloss: 0.0273953\tvalid_1's binary_logloss: 0.270293\n",
            "[80]\ttraining's binary_logloss: 0.0264668\tvalid_1's binary_logloss: 0.270523\n",
            "[81]\ttraining's binary_logloss: 0.0254636\tvalid_1's binary_logloss: 0.270683\n",
            "[82]\ttraining's binary_logloss: 0.0245911\tvalid_1's binary_logloss: 0.273187\n",
            "[83]\ttraining's binary_logloss: 0.0236486\tvalid_1's binary_logloss: 0.275994\n",
            "[84]\ttraining's binary_logloss: 0.0228047\tvalid_1's binary_logloss: 0.274053\n",
            "[85]\ttraining's binary_logloss: 0.0221693\tvalid_1's binary_logloss: 0.273211\n",
            "[86]\ttraining's binary_logloss: 0.0213043\tvalid_1's binary_logloss: 0.272626\n",
            "[87]\ttraining's binary_logloss: 0.0203934\tvalid_1's binary_logloss: 0.27534\n",
            "[88]\ttraining's binary_logloss: 0.0195552\tvalid_1's binary_logloss: 0.276228\n",
            "[89]\ttraining's binary_logloss: 0.0188623\tvalid_1's binary_logloss: 0.27525\n",
            "[90]\ttraining's binary_logloss: 0.0183664\tvalid_1's binary_logloss: 0.276485\n",
            "[91]\ttraining's binary_logloss: 0.0176788\tvalid_1's binary_logloss: 0.277052\n",
            "[92]\ttraining's binary_logloss: 0.0170059\tvalid_1's binary_logloss: 0.277686\n",
            "[93]\ttraining's binary_logloss: 0.0164317\tvalid_1's binary_logloss: 0.275332\n",
            "[94]\ttraining's binary_logloss: 0.015878\tvalid_1's binary_logloss: 0.276236\n",
            "[95]\ttraining's binary_logloss: 0.0152959\tvalid_1's binary_logloss: 0.274538\n",
            "[96]\ttraining's binary_logloss: 0.0147216\tvalid_1's binary_logloss: 0.275244\n",
            "[97]\ttraining's binary_logloss: 0.0141758\tvalid_1's binary_logloss: 0.275829\n",
            "[98]\ttraining's binary_logloss: 0.0136551\tvalid_1's binary_logloss: 0.276654\n",
            "[99]\ttraining's binary_logloss: 0.0131585\tvalid_1's binary_logloss: 0.277859\n",
            "[100]\ttraining's binary_logloss: 0.0126961\tvalid_1's binary_logloss: 0.279265\n",
            "[101]\ttraining's binary_logloss: 0.0122421\tvalid_1's binary_logloss: 0.276695\n",
            "[102]\ttraining's binary_logloss: 0.0118067\tvalid_1's binary_logloss: 0.278488\n",
            "[103]\ttraining's binary_logloss: 0.0113994\tvalid_1's binary_logloss: 0.278932\n",
            "[104]\ttraining's binary_logloss: 0.0109799\tvalid_1's binary_logloss: 0.280997\n",
            "[105]\ttraining's binary_logloss: 0.0105953\tvalid_1's binary_logloss: 0.281454\n",
            "[106]\ttraining's binary_logloss: 0.0102381\tvalid_1's binary_logloss: 0.282058\n",
            "[107]\ttraining's binary_logloss: 0.00986714\tvalid_1's binary_logloss: 0.279275\n",
            "[108]\ttraining's binary_logloss: 0.00950998\tvalid_1's binary_logloss: 0.281427\n",
            "[109]\ttraining's binary_logloss: 0.00915965\tvalid_1's binary_logloss: 0.280752\n",
            "[110]\ttraining's binary_logloss: 0.00882581\tvalid_1's binary_logloss: 0.282152\n",
            "[111]\ttraining's binary_logloss: 0.00850714\tvalid_1's binary_logloss: 0.280894\n"
          ]
        }
      ],
      "source": [
        "# LightGBM의 파이썬 패키지인 lightgbm에서 LGBMClassifier 임포트\n",
        "from lightgbm import LGBMClassifier\n",
        "\n",
        "import pandas as pd\n",
        "import numpy as np\n",
        "from sklearn.datasets import load_breast_cancer\n",
        "from sklearn.model_selection import train_test_split\n",
        "\n",
        "dataset=load_breast_cancer()\n",
        "\n",
        "cancer_df=pd.DataFrame(data=dataset.data,columns=dataset.feature_names)\n",
        "cancer_df['target']=dataset.target\n",
        "X_features=cancer_df.iloc[:,:-1]\n",
        "y_label=cancer_df.iloc[:,-1]\n",
        "\n",
        "# 전체 데이터 중 80%는 학습용 데이터, 20%는 테스트용 데이터 추출\n",
        "X_train,X_test,y_train,y_test=train_test_split(X_features,y_label,test_size=0.2,random_state=156)\n",
        "\n",
        "# 위에서 만든 X_train, y_train을 다시 쪼개서 90%는 학습과 10%는 검증용 데이터로 분리\n",
        "X_tr,X_val,y_tr,y_val=train_test_split(X_train,y_train,test_size=0.1,random_state=156)\n",
        "\n",
        "# 앞서 XGBoost와 동일하게 n_estimators는 400 설정\n",
        "lgbm_wrapper=LGBMClassifier(n_estimators=400,learning_rate=0.05)\n",
        "\n",
        "# LightGBM도 XGBoost와 동일하게 조기 중단 수행 가능\n",
        "evals=[(X_tr,y_tr),(X_val,y_val)]\n",
        "lgbm_wrapper.fit(X_tr,y_tr,early_stopping_rounds=50,eval_metric=\"logloss\", eval_set=evals,verbose=True)\n",
        "\n",
        "preds=lgbm_wrapper.predict(X_test)\n",
        "pred_proba=lgbm_wrapper.predict_proba(X_test)[:,1]"
      ]
    },
    {
      "cell_type": "code",
      "execution_count": null,
      "metadata": {
        "colab": {
          "base_uri": "https://localhost:8080/"
        },
        "id": "Yb1krLau3F-c",
        "outputId": "5892ed6b-1147-4ce1-b25a-d8dd1640775d"
      },
      "outputs": [
        {
          "output_type": "stream",
          "name": "stdout",
          "text": [
            "오차 행렬\n",
            "[[34  3]\n",
            " [ 2 75]]\n",
            "정확도: 0.9561, 정밀도:0.9615, 재현율: 0.9740,F1: 0.9677,AUC:0.9877\n"
          ]
        }
      ],
      "source": [
        "get_clf_eval(y_test,preds,pred_proba)"
      ]
    },
    {
      "cell_type": "code",
      "execution_count": null,
      "metadata": {
        "colab": {
          "base_uri": "https://localhost:8080/",
          "height": 689
        },
        "id": "Nt7QRNnK79a7",
        "outputId": "06b6002d-3d61-44cf-83d5-77f056735d9e"
      },
      "outputs": [
        {
          "output_type": "execute_result",
          "data": {
            "text/plain": [
              "<Axes: title={'center': 'Feature importance'}, xlabel='Feature importance', ylabel='Features'>"
            ]
          },
          "metadata": {},
          "execution_count": 28
        },
        {
          "output_type": "display_data",
          "data": {
            "text/plain": [
              "<Figure size 1000x1200 with 1 Axes>"
            ],
            "image/png": "[encoded data removed]"
          },
          "metadata": {}
        }
      ],
      "source": [
        "# plot_importance()를 이용하여 feature 중요도 시각화\n",
        "from lightgbm import plot_importance\n",
        "import matplotlib.pyplot as plt\n",
        "%matplotlib inline\n",
        "\n",
        "fig,ax=plt.subplots(figsize=(10,12))\n",
        "plot_importance(lgbm_wrapper,ax=ax)"
      ]
    },
    {
      "cell_type": "markdown",
      "source": [
        "#4.8"
      ],
      "metadata": {
        "id": "Fk29tPfFQBGW"
      }
    },
    {
      "cell_type": "code",
      "execution_count": null,
      "metadata": {
        "id": "YvWKJmSZ8OzJ"
      },
      "outputs": [],
      "source": [
        "params={\n",
        "    'max_depth':[10,20,30,40,50],'num_leaves':[35,45,55,65], 'colsample_bytree':[0.5,0.6,0.7,0.8,0.9],'subsample':[0.5,0.6,0.7,0.8,0.9],'min_child_weight':[10,20,30,40],'reg_alpha':[0.01,0.05,0.1]\n",
        "        }"
      ]
    },
    {
      "cell_type": "code",
      "execution_count": null,
      "metadata": {
        "id": "tC3LQ8Ks9IRE"
      },
      "outputs": [],
      "source": [
        "# pip install hyperopt"
      ]
    },
    {
      "cell_type": "code",
      "execution_count": null,
      "metadata": {
        "id": "W3p_5jFiBRtO"
      },
      "outputs": [],
      "source": [
        "from hyperopt import hp\n",
        "\n",
        "# -10 ~ 10까지 1간격을 가지는 입력 변수 x와 -15 ~ 15까지 1간격으로 입력 변수 y 설정\n",
        "search_space={'x':hp.quniform('x',-10,10,1), 'y':hp.quniform('y',-1,15,1)}"
      ]
    },
    {
      "cell_type": "code",
      "execution_count": null,
      "metadata": {
        "id": "EhwmCfuwBypI"
      },
      "outputs": [],
      "source": [
        "from hyperopt import STATUS_OK\n",
        "\n",
        "# 목적 함수를 생성. 변숫값과 변수 검색 공간을 가지는 딕셔너리를 인자로 받고, 특정 값을 반환\n",
        "def objective_func(search_space):\n",
        "  x=search_space['x']\n",
        "  y=search_space['y']\n",
        "  retval=x**2-20*y\n",
        "\n",
        "  return retval"
      ]
    },
    {
      "cell_type": "code",
      "execution_count": null,
      "metadata": {
        "colab": {
          "base_uri": "https://localhost:8080/"
        },
        "id": "Hem_pleUDOLD",
        "outputId": "00aeea4d-9d91-4fe4-ad64-99c8289fa2fd"
      },
      "outputs": [
        {
          "output_type": "stream",
          "name": "stdout",
          "text": [
            "100%|██████████| 5/5 [00:00<00:00, 681.27trial/s, best loss: -264.0]\n",
            "best: {'x': -4.0, 'y': 14.0}\n"
          ]
        }
      ],
      "source": [
        "from hyperopt import fmin, tpe, Trials\n",
        "# 입력 결괏값을 저장한 Trials 객체값 생성\n",
        "trial_val=Trials()\n",
        "\n",
        "# 목적 함수의 최솟값을 반환하는 최적 입력 변숫값을 5번의 입력값 시도로 찾아냄\n",
        "best_01=fmin(fn=objective_func,space=search_space,algo=tpe.suggest,max_evals=5,trials=trial_val,rstate=np.random.default_rng(seed=0))\n",
        "print('best:',best_01)"
      ]
    },
    {
      "cell_type": "code",
      "execution_count": null,
      "metadata": {
        "colab": {
          "base_uri": "https://localhost:8080/"
        },
        "id": "wMmzqydhJ7-7",
        "outputId": "57f1ccde-990d-4520-90a1-1984f40eac42"
      },
      "outputs": [
        {
          "output_type": "stream",
          "name": "stdout",
          "text": [
            "100%|██████████| 20/20 [00:00<00:00, 579.47trial/s, best loss: -296.0]\n",
            "best: {'x': 2.0, 'y': 15.0}\n"
          ]
        }
      ],
      "source": [
        "trial_val=Trials()\n",
        "\n",
        "# max_evals를 20회로 늘려서 재테스트\n",
        "best_02=fmin(fn=objective_func,space=search_space,algo=tpe.suggest, max_evals=20, trials=trial_val,rstate=np.random.default_rng(seed=0))\n",
        "print('best:',best_02)"
      ]
    },
    {
      "cell_type": "code",
      "execution_count": null,
      "metadata": {
        "colab": {
          "base_uri": "https://localhost:8080/"
        },
        "id": "cmvqOv6LKO8N",
        "outputId": "e47567dd-54db-4e19-b5ba-8e5588866788"
      },
      "outputs": [
        {
          "output_type": "stream",
          "name": "stdout",
          "text": [
            "[{'loss': -164.0, 'status': 'ok'}, {'loss': -224.0, 'status': 'ok'}, {'loss': -104.0, 'status': 'ok'}, {'loss': -264.0, 'status': 'ok'}, {'loss': -79.0, 'status': 'ok'}, {'loss': -296.0, 'status': 'ok'}, {'loss': -120.0, 'status': 'ok'}, {'loss': 41.0, 'status': 'ok'}, {'loss': -76.0, 'status': 'ok'}, {'loss': -80.0, 'status': 'ok'}, {'loss': -120.0, 'status': 'ok'}, {'loss': -159.0, 'status': 'ok'}, {'loss': -99.0, 'status': 'ok'}, {'loss': -224.0, 'status': 'ok'}, {'loss': -99.0, 'status': 'ok'}, {'loss': -176.0, 'status': 'ok'}, {'loss': 4.0, 'status': 'ok'}, {'loss': -44.0, 'status': 'ok'}, {'loss': -211.0, 'status': 'ok'}, {'loss': -140.0, 'status': 'ok'}]\n"
          ]
        }
      ],
      "source": [
        "# fmin()에 인자로 들어가는 Trials 객체의 result 속성에 파이썬 리스트로 목적 함수 반환값들이 저장됨\n",
        "# 리스트 내부의 개별 원소는 {'loss':함수 반환값, 'status':반환 상태값}와 같은 딕셔너리임\n",
        "print(trial_val.results)"
      ]
    },
    {
      "cell_type": "code",
      "execution_count": null,
      "metadata": {
        "colab": {
          "base_uri": "https://localhost:8080/"
        },
        "id": "PpPi4GIvLNAa",
        "outputId": "e2ba9396-6d42-40f5-aeb6-3818ae9e51e6"
      },
      "outputs": [
        {
          "output_type": "stream",
          "name": "stdout",
          "text": [
            "{'x': [-6.0, -4.0, 4.0, -4.0, 9.0, 2.0, 10.0, -9.0, -8.0, -0.0, -0.0, 1.0, 9.0, 6.0, 9.0, 2.0, -2.0, -4.0, 7.0, -0.0], 'y': [10.0, 12.0, 6.0, 14.0, 8.0, 15.0, 11.0, 2.0, 7.0, 4.0, 6.0, 8.0, 9.0, 13.0, 9.0, 9.0, -0.0, 3.0, 13.0, 7.0]}\n"
          ]
        }
      ],
      "source": [
        "# Trials 객체의 vals 속성에 딕셔너리 형태로 저장됨\n",
        "print(trial_val.vals)"
      ]
    },
    {
      "cell_type": "code",
      "execution_count": null,
      "metadata": {
        "colab": {
          "base_uri": "https://localhost:8080/",
          "height": 669
        },
        "id": "FpzTsvj4LZzI",
        "outputId": "e297153a-25eb-4f22-f533-f44fb3b05bb4"
      },
      "outputs": [
        {
          "output_type": "execute_result",
          "data": {
            "text/plain": [
              "       x     y  losses\n",
              "0   -6.0  10.0  -164.0\n",
              "1   -4.0  12.0  -224.0\n",
              "2    4.0   6.0  -104.0\n",
              "3   -4.0  14.0  -264.0\n",
              "4    9.0   8.0   -79.0\n",
              "5    2.0  15.0  -296.0\n",
              "6   10.0  11.0  -120.0\n",
              "7   -9.0   2.0    41.0\n",
              "8   -8.0   7.0   -76.0\n",
              "9   -0.0   4.0   -80.0\n",
              "10  -0.0   6.0  -120.0\n",
              "11   1.0   8.0  -159.0\n",
              "12   9.0   9.0   -99.0\n",
              "13   6.0  13.0  -224.0\n",
              "14   9.0   9.0   -99.0\n",
              "15   2.0   9.0  -176.0\n",
              "16  -2.0  -0.0     4.0\n",
              "17  -4.0   3.0   -44.0\n",
              "18   7.0  13.0  -211.0\n",
              "19  -0.0   7.0  -140.0"
            ],
            "text/html": [
              "\n",
              "  <div id=\"df-3bca3171-ef2d-4e85-bbb9-b668c330fe0c\" class=\"colab-df-container\">\n",
              "    <div>\n",
              "<style scoped>\n",
              "    .dataframe tbody tr th:only-of-type {\n",
              "        vertical-align: middle;\n",
              "    }\n",
              "\n",
              "    .dataframe tbody tr th {\n",
              "        vertical-align: top;\n",
              "    }\n",
              "\n",
              "    .dataframe thead th {\n",
              "        text-align: right;\n",
              "    }\n",
              "</style>\n",
              "<table border=\"1\" class=\"dataframe\">\n",
              "  <thead>\n",
              "    <tr style=\"text-align: right;\">\n",
              "      <th></th>\n",
              "      <th>x</th>\n",
              "      <th>y</th>\n",
              "      <th>losses</th>\n",
              "    </tr>\n",
              "  </thead>\n",
              "  <tbody>\n",
              "    <tr>\n",
              "      <th>0</th>\n",
              "      <td>-6.0</td>\n",
              "      <td>10.0</td>\n",
              "      <td>-164.0</td>\n",
              "    </tr>\n",
              "    <tr>\n",
              "      <th>1</th>\n",
              "      <td>-4.0</td>\n",
              "      <td>12.0</td>\n",
              "      <td>-224.0</td>\n",
              "    </tr>\n",
              "    <tr>\n",
              "      <th>2</th>\n",
              "      <td>4.0</td>\n",
              "      <td>6.0</td>\n",
              "      <td>-104.0</td>\n",
              "    </tr>\n",
              "    <tr>\n",
              "      <th>3</th>\n",
              "      <td>-4.0</td>\n",
              "      <td>14.0</td>\n",
              "      <td>-264.0</td>\n",
              "    </tr>\n",
              "    <tr>\n",
              "      <th>4</th>\n",
              "      <td>9.0</td>\n",
              "      <td>8.0</td>\n",
              "      <td>-79.0</td>\n",
              "    </tr>\n",
              "    <tr>\n",
              "      <th>5</th>\n",
              "      <td>2.0</td>\n",
              "      <td>15.0</td>\n",
              "      <td>-296.0</td>\n",
              "    </tr>\n",
              "    <tr>\n",
              "      <th>6</th>\n",
              "      <td>10.0</td>\n",
              "      <td>11.0</td>\n",
              "      <td>-120.0</td>\n",
              "    </tr>\n",
              "    <tr>\n",
              "      <th>7</th>\n",
              "      <td>-9.0</td>\n",
              "      <td>2.0</td>\n",
              "      <td>41.0</td>\n",
              "    </tr>\n",
              "    <tr>\n",
              "      <th>8</th>\n",
              "      <td>-8.0</td>\n",
              "      <td>7.0</td>\n",
              "      <td>-76.0</td>\n",
              "    </tr>\n",
              "    <tr>\n",
              "      <th>9</th>\n",
              "      <td>-0.0</td>\n",
              "      <td>4.0</td>\n",
              "      <td>-80.0</td>\n",
              "    </tr>\n",
              "    <tr>\n",
              "      <th>10</th>\n",
              "      <td>-0.0</td>\n",
              "      <td>6.0</td>\n",
              "      <td>-120.0</td>\n",
              "    </tr>\n",
              "    <tr>\n",
              "      <th>11</th>\n",
              "      <td>1.0</td>\n",
              "      <td>8.0</td>\n",
              "      <td>-159.0</td>\n",
              "    </tr>\n",
              "    <tr>\n",
              "      <th>12</th>\n",
              "      <td>9.0</td>\n",
              "      <td>9.0</td>\n",
              "      <td>-99.0</td>\n",
              "    </tr>\n",
              "    <tr>\n",
              "      <th>13</th>\n",
              "      <td>6.0</td>\n",
              "      <td>13.0</td>\n",
              "      <td>-224.0</td>\n",
              "    </tr>\n",
              "    <tr>\n",
              "      <th>14</th>\n",
              "      <td>9.0</td>\n",
              "      <td>9.0</td>\n",
              "      <td>-99.0</td>\n",
              "    </tr>\n",
              "    <tr>\n",
              "      <th>15</th>\n",
              "      <td>2.0</td>\n",
              "      <td>9.0</td>\n",
              "      <td>-176.0</td>\n",
              "    </tr>\n",
              "    <tr>\n",
              "      <th>16</th>\n",
              "      <td>-2.0</td>\n",
              "      <td>-0.0</td>\n",
              "      <td>4.0</td>\n",
              "    </tr>\n",
              "    <tr>\n",
              "      <th>17</th>\n",
              "      <td>-4.0</td>\n",
              "      <td>3.0</td>\n",
              "      <td>-44.0</td>\n",
              "    </tr>\n",
              "    <tr>\n",
              "      <th>18</th>\n",
              "      <td>7.0</td>\n",
              "      <td>13.0</td>\n",
              "      <td>-211.0</td>\n",
              "    </tr>\n",
              "    <tr>\n",
              "      <th>19</th>\n",
              "      <td>-0.0</td>\n",
              "      <td>7.0</td>\n",
              "      <td>-140.0</td>\n",
              "    </tr>\n",
              "  </tbody>\n",
              "</table>\n",
              "</div>\n",
              "    <div class=\"colab-df-buttons\">\n",
              "\n",
              "  <div class=\"colab-df-container\">\n",
              "    <button class=\"colab-df-convert\" onclick=\"convertToInteractive('df-3bca3171-ef2d-4e85-bbb9-b668c330fe0c')\"\n",
              "            title=\"Convert this dataframe to an interactive table.\"\n",
              "            style=\"display:none;\">\n",
              "\n",
              "  <svg xmlns=\"http://www.w3.org/2000/svg\" height=\"24px\" viewBox=\"0 -960 960 960\">\n",
              "    <path d=\"M120-120v-720h720v720H120Zm60-500h600v-160H180v160Zm220 220h160v-160H400v160Zm0 220h160v-160H400v160ZM180-400h160v-160H180v160Zm440 0h160v-160H620v160ZM180-180h160v-160H180v160Zm440 0h160v-160H620v160Z\"/>\n",
              "  </svg>\n",
              "    </button>\n",
              "\n",
              "  <style>\n",
              "    .colab-df-container {\n",
              "      display:flex;\n",
              "      gap: 12px;\n",
              "    }\n",
              "\n",
              "    .colab-df-convert {\n",
              "      background-color: #E8F0FE;\n",
              "      border: none;\n",
              "      border-radius: 50%;\n",
              "      cursor: pointer;\n",
              "      display: none;\n",
              "      fill: #1967D2;\n",
              "      height: 32px;\n",
              "      padding: 0 0 0 0;\n",
              "      width: 32px;\n",
              "    }\n",
              "\n",
              "    .colab-df-convert:hover {\n",
              "      background-color: #E2EBFA;\n",
              "      box-shadow: 0px 1px 2px rgba(60, 64, 67, 0.3), 0px 1px 3px 1px rgba(60, 64, 67, 0.15);\n",
              "      fill: #174EA6;\n",
              "    }\n",
              "\n",
              "    .colab-df-buttons div {\n",
              "      margin-bottom: 4px;\n",
              "    }\n",
              "\n",
              "    [theme=dark] .colab-df-convert {\n",
              "      background-color: #3B4455;\n",
              "      fill: #D2E3FC;\n",
              "    }\n",
              "\n",
              "    [theme=dark] .colab-df-convert:hover {\n",
              "      background-color: #434B5C;\n",
              "      box-shadow: 0px 1px 3px 1px rgba(0, 0, 0, 0.15);\n",
              "      filter: drop-shadow(0px 1px 2px rgba(0, 0, 0, 0.3));\n",
              "      fill: #FFFFFF;\n",
              "    }\n",
              "  </style>\n",
              "\n",
              "    <script>\n",
              "      const buttonEl =\n",
              "        document.querySelector('#df-3bca3171-ef2d-4e85-bbb9-b668c330fe0c button.colab-df-convert');\n",
              "      buttonEl.style.display =\n",
              "        google.colab.kernel.accessAllowed ? 'block' : 'none';\n",
              "\n",
              "      async function convertToInteractive(key) {\n",
              "        const element = document.querySelector('#df-3bca3171-ef2d-4e85-bbb9-b668c330fe0c');\n",
              "        const dataTable =\n",
              "          await google.colab.kernel.invokeFunction('convertToInteractive',\n",
              "                                                    [key], {});\n",
              "        if (!dataTable) return;\n",
              "\n",
              "        const docLinkHtml = 'Like what you see? Visit the ' +\n",
              "          '<a target=\"_blank\" href=https://colab.research.google.com/notebooks/data_table.ipynb>data table notebook</a>'\n",
              "          + ' to learn more about interactive tables.';\n",
              "        element.innerHTML = '';\n",
              "        dataTable['output_type'] = 'display_data';\n",
              "        await google.colab.output.renderOutput(dataTable, element);\n",
              "        const docLink = document.createElement('div');\n",
              "        docLink.innerHTML = docLinkHtml;\n",
              "        element.appendChild(docLink);\n",
              "      }\n",
              "    </script>\n",
              "  </div>\n",
              "\n",
              "\n",
              "<div id=\"df-0475bc3c-4ae3-445f-91c8-fac81dc0eaaf\">\n",
              "  <button class=\"colab-df-quickchart\" onclick=\"quickchart('df-0475bc3c-4ae3-445f-91c8-fac81dc0eaaf')\"\n",
              "            title=\"Suggest charts\"\n",
              "            style=\"display:none;\">\n",
              "\n",
              "<svg xmlns=\"http://www.w3.org/2000/svg\" height=\"24px\"viewBox=\"0 0 24 24\"\n",
              "     width=\"24px\">\n",
              "    <g>\n",
              "        <path d=\"M19 3H5c-1.1 0-2 .9-2 2v14c0 1.1.9 2 2 2h14c1.1 0 2-.9 2-2V5c0-1.1-.9-2-2-2zM9 17H7v-7h2v7zm4 0h-2V7h2v10zm4 0h-2v-4h2v4z\"/>\n",
              "    </g>\n",
              "</svg>\n",
              "  </button>\n",
              "\n",
              "<style>\n",
              "  .colab-df-quickchart {\n",
              "      --bg-color: #E8F0FE;\n",
              "      --fill-color: #1967D2;\n",
              "      --hover-bg-color: #E2EBFA;\n",
              "      --hover-fill-color: #174EA6;\n",
              "      --disabled-fill-color: #AAA;\n",
              "      --disabled-bg-color: #DDD;\n",
              "  }\n",
              "\n",
              "  [theme=dark] .colab-df-quickchart {\n",
              "      --bg-color: #3B4455;\n",
              "      --fill-color: #D2E3FC;\n",
              "      --hover-bg-color: #434B5C;\n",
              "      --hover-fill-color: #FFFFFF;\n",
              "      --disabled-bg-color: #3B4455;\n",
              "      --disabled-fill-color: #666;\n",
              "  }\n",
              "\n",
              "  .colab-df-quickchart {\n",
              "    background-color: var(--bg-color);\n",
              "    border: none;\n",
              "    border-radius: 50%;\n",
              "    cursor: pointer;\n",
              "    display: none;\n",
              "    fill: var(--fill-color);\n",
              "    height: 32px;\n",
              "    padding: 0;\n",
              "    width: 32px;\n",
              "  }\n",
              "\n",
              "  .colab-df-quickchart:hover {\n",
              "    background-color: var(--hover-bg-color);\n",
              "    box-shadow: 0 1px 2px rgba(60, 64, 67, 0.3), 0 1px 3px 1px rgba(60, 64, 67, 0.15);\n",
              "    fill: var(--button-hover-fill-color);\n",
              "  }\n",
              "\n",
              "  .colab-df-quickchart-complete:disabled,\n",
              "  .colab-df-quickchart-complete:disabled:hover {\n",
              "    background-color: var(--disabled-bg-color);\n",
              "    fill: var(--disabled-fill-color);\n",
              "    box-shadow: none;\n",
              "  }\n",
              "\n",
              "  .colab-df-spinner {\n",
              "    border: 2px solid var(--fill-color);\n",
              "    border-color: transparent;\n",
              "    border-bottom-color: var(--fill-color);\n",
              "    animation:\n",
              "      spin 1s steps(1) infinite;\n",
              "  }\n",
              "\n",
              "  @keyframes spin {\n",
              "    0% {\n",
              "      border-color: transparent;\n",
              "      border-bottom-color: var(--fill-color);\n",
              "      border-left-color: var(--fill-color);\n",
              "    }\n",
              "    20% {\n",
              "      border-color: transparent;\n",
              "      border-left-color: var(--fill-color);\n",
              "      border-top-color: var(--fill-color);\n",
              "    }\n",
              "    30% {\n",
              "      border-color: transparent;\n",
              "      border-left-color: var(--fill-color);\n",
              "      border-top-color: var(--fill-color);\n",
              "      border-right-color: var(--fill-color);\n",
              "    }\n",
              "    40% {\n",
              "      border-color: transparent;\n",
              "      border-right-color: var(--fill-color);\n",
              "      border-top-color: var(--fill-color);\n",
              "    }\n",
              "    60% {\n",
              "      border-color: transparent;\n",
              "      border-right-color: var(--fill-color);\n",
              "    }\n",
              "    80% {\n",
              "      border-color: transparent;\n",
              "      border-right-color: var(--fill-color);\n",
              "      border-bottom-color: var(--fill-color);\n",
              "    }\n",
              "    90% {\n",
              "      border-color: transparent;\n",
              "      border-bottom-color: var(--fill-color);\n",
              "    }\n",
              "  }\n",
              "</style>\n",
              "\n",
              "  <script>\n",
              "    async function quickchart(key) {\n",
              "      const quickchartButtonEl =\n",
              "        document.querySelector('#' + key + ' button');\n",
              "      quickchartButtonEl.disabled = true;  // To prevent multiple clicks.\n",
              "      quickchartButtonEl.classList.add('colab-df-spinner');\n",
              "      try {\n",
              "        const charts = await google.colab.kernel.invokeFunction(\n",
              "            'suggestCharts', [key], {});\n",
              "      } catch (error) {\n",
              "        console.error('Error during call to suggestCharts:', error);\n",
              "      }\n",
              "      quickchartButtonEl.classList.remove('colab-df-spinner');\n",
              "      quickchartButtonEl.classList.add('colab-df-quickchart-complete');\n",
              "    }\n",
              "    (() => {\n",
              "      let quickchartButtonEl =\n",
              "        document.querySelector('#df-0475bc3c-4ae3-445f-91c8-fac81dc0eaaf button');\n",
              "      quickchartButtonEl.style.display =\n",
              "        google.colab.kernel.accessAllowed ? 'block' : 'none';\n",
              "    })();\n",
              "  </script>\n",
              "</div>\n",
              "\n",
              "  <div id=\"id_5ab8c354-367c-4b81-8a24-34d6fb6c69b8\">\n",
              "    <style>\n",
              "      .colab-df-generate {\n",
              "        background-color: #E8F0FE;\n",
              "        border: none;\n",
              "        border-radius: 50%;\n",
              "        cursor: pointer;\n",
              "        display: none;\n",
              "        fill: #1967D2;\n",
              "        height: 32px;\n",
              "        padding: 0 0 0 0;\n",
              "        width: 32px;\n",
              "      }\n",
              "\n",
              "      .colab-df-generate:hover {\n",
              "        background-color: #E2EBFA;\n",
              "        box-shadow: 0px 1px 2px rgba(60, 64, 67, 0.3), 0px 1px 3px 1px rgba(60, 64, 67, 0.15);\n",
              "        fill: #174EA6;\n",
              "      }\n",
              "\n",
              "      [theme=dark] .colab-df-generate {\n",
              "        background-color: #3B4455;\n",
              "        fill: #D2E3FC;\n",
              "      }\n",
              "\n",
              "      [theme=dark] .colab-df-generate:hover {\n",
              "        background-color: #434B5C;\n",
              "        box-shadow: 0px 1px 3px 1px rgba(0, 0, 0, 0.15);\n",
              "        filter: drop-shadow(0px 1px 2px rgba(0, 0, 0, 0.3));\n",
              "        fill: #FFFFFF;\n",
              "      }\n",
              "    </style>\n",
              "    <button class=\"colab-df-generate\" onclick=\"generateWithVariable('result_df')\"\n",
              "            title=\"Generate code using this dataframe.\"\n",
              "            style=\"display:none;\">\n",
              "\n",
              "  <svg xmlns=\"http://www.w3.org/2000/svg\" height=\"24px\"viewBox=\"0 0 24 24\"\n",
              "       width=\"24px\">\n",
              "    <path d=\"M7,19H8.4L18.45,9,17,7.55,7,17.6ZM5,21V16.75L18.45,3.32a2,2,0,0,1,2.83,0l1.4,1.43a1.91,1.91,0,0,1,.58,1.4,1.91,1.91,0,0,1-.58,1.4L9.25,21ZM18.45,9,17,7.55Zm-12,3A5.31,5.31,0,0,0,4.9,8.1,5.31,5.31,0,0,0,1,6.5,5.31,5.31,0,0,0,4.9,4.9,5.31,5.31,0,0,0,6.5,1,5.31,5.31,0,0,0,8.1,4.9,5.31,5.31,0,0,0,12,6.5,5.46,5.46,0,0,0,6.5,12Z\"/>\n",
              "  </svg>\n",
              "    </button>\n",
              "    <script>\n",
              "      (() => {\n",
              "      const buttonEl =\n",
              "        document.querySelector('#id_5ab8c354-367c-4b81-8a24-34d6fb6c69b8 button.colab-df-generate');\n",
              "      buttonEl.style.display =\n",
              "        google.colab.kernel.accessAllowed ? 'block' : 'none';\n",
              "\n",
              "      buttonEl.onclick = () => {\n",
              "        google.colab.notebook.generateWithVariable('result_df');\n",
              "      }\n",
              "      })();\n",
              "    </script>\n",
              "  </div>\n",
              "\n",
              "    </div>\n",
              "  </div>\n"
            ],
            "application/vnd.google.colaboratory.intrinsic+json": {
              "type": "dataframe",
              "variable_name": "result_df",
              "summary": "{\n  \"name\": \"result_df\",\n  \"rows\": 20,\n  \"fields\": [\n    {\n      \"column\": \"x\",\n      \"properties\": {\n        \"dtype\": \"number\",\n        \"std\": 5.90182844103151,\n        \"min\": -9.0,\n        \"max\": 10.0,\n        \"num_unique_values\": 13,\n        \"samples\": [\n          -2.0,\n          1.0,\n          -6.0\n        ],\n        \"semantic_type\": \"\",\n        \"description\": \"\"\n      }\n    },\n    {\n      \"column\": \"y\",\n      \"properties\": {\n        \"dtype\": \"number\",\n        \"std\": 4.07947365025905,\n        \"min\": -0.0,\n        \"max\": 15.0,\n        \"num_unique_values\": 14,\n        \"samples\": [\n          4.0,\n          13.0,\n          10.0\n        ],\n        \"semantic_type\": \"\",\n        \"description\": \"\"\n      }\n    },\n    {\n      \"column\": \"losses\",\n      \"properties\": {\n        \"dtype\": \"number\",\n        \"std\": 85.62715998043956,\n        \"min\": -296.0,\n        \"max\": 41.0,\n        \"num_unique_values\": 17,\n        \"samples\": [\n          -164.0,\n          -224.0,\n          -296.0\n        ],\n        \"semantic_type\": \"\",\n        \"description\": \"\"\n      }\n    }\n  ]\n}"
            }
          },
          "metadata": {},
          "execution_count": 37
        }
      ],
      "source": [
        "import pandas as pd\n",
        "\n",
        "# results에서 loss 키값에 해당하는 밸류들을 추출하여 list로 생성\n",
        "losses=[loss_dict['loss'] for loss_dict in trial_val.results]\n",
        "\n",
        "# DataFrame으로 생성\n",
        "result_df=pd.DataFrame({'x': trial_val.vals['x'],'y': trial_val.vals['y'],'losses':losses})\n",
        "result_df"
      ]
    },
    {
      "cell_type": "code",
      "execution_count": null,
      "metadata": {
        "id": "hrVeCu2qLwHf"
      },
      "outputs": [],
      "source": [
        "# 전체 데이터 중 80%는 학습용 데이터, 20%는 테스트용 데이터 추출\n",
        "X_train,X_test,y_train,y_test=train_test_split(X_features,y_label,test_size=0.2,random_state=156)\n",
        "\n",
        "# 앞에서 추출한 학습 데이터를 다시 학습과 검증 데이터로 분리\n",
        "X_tr,X_val,y_tr,y_val=train_test_split(X_train,y_train,test_size=0.1,random_state=156)"
      ]
    },
    {
      "cell_type": "code",
      "execution_count": null,
      "metadata": {
        "id": "ebyNgQpCNf7k"
      },
      "outputs": [],
      "source": [
        "from hyperopt import hp\n",
        "\n",
        "# max_depth는 5에서 20까지 1간격으로 min_child_weight는 1에서 2까지 1간격으로\n",
        "# colsample_bytree는 0.5에서 1사이, learning_rate는 0.01에서 0.2 사이 정규 분포된 값으로 검색\n",
        "xgb_search_space={'max_depth':hp.quniform('max_depth',5,20,1),'min_child_weight':hp.quniform('min_child_weight',1,2,1),'learning_rate':hp.uniform('learning_rate',0.01,0.2),'colsample_bytree':hp.uniform('colsample_bytree',0.5,1)}"
      ]
    },
    {
      "cell_type": "code",
      "execution_count": 60,
      "metadata": {
        "id": "EcezTQMJOSCC"
      },
      "outputs": [],
      "source": [
        "from sklearn.model_selection import cross_val_score\n",
        "from xgboost import XGBClassifier\n",
        "from hyperopt import STATUS_OK\n",
        "\n",
        "# fmin()에서 입력된 search_space 값으로 입력된 모든 값은 실수형\n",
        "# XGBClassifier의 정수형 하이퍼 파라미터는 정수형 변환을 해줘야함\n",
        "# 정확도는 높을수록 더 좋은 수치임. -1*정확도를 곱하여 큰 정확도 값일수록 최소가 되도록 변환\n",
        "\n",
        "def objective_func(search_space):\n",
        "  # 수행 시간 절약을 위해 nestimators는 100으로 축소\n",
        "  xgb_clf=XGBClassifier(n_estimators=100,max_depth=int(search_space['max_depth']),min_child_weight=int(search_space['min_child_weight']),learning_rate=search_space['learning_rate'],colsample_bytree=search_space['colsample_bytree'],eval_metric='logloss')\n",
        "  accuracy=cross_val_score(xgb_clf,X_train,y_train,scoring='accuracy',cv=3)\n",
        "  # accuracy는 cv=3 개수만큼 roc-auc 결과를 리스트로 가짐. 이를 평균해서 반환하되 -1을 곱함\n",
        "  return {'loss':-1 * np.mean(accuracy),'status':STATUS_OK}\n"
      ]
    },
    {
      "cell_type": "code",
      "source": [
        "# !pip uninstall -y scikit-learn\n",
        "# !pip install --no-cache-dir scikit-learn==1.5.2"
      ],
      "metadata": {
        "id": "X2jCi3kkKs-T"
      },
      "execution_count": null,
      "outputs": []
    },
    {
      "cell_type": "code",
      "source": [
        "import xgboost\n",
        "import sklearn\n",
        "import hyperopt\n",
        "print(f\"xgboost: {xgboost.__version__}\")\n",
        "print(f\"scikit-learn: {sklearn.__version__}\")\n",
        "print(f\"hyperopt: {hyperopt.__version__}\")"
      ],
      "metadata": {
        "colab": {
          "base_uri": "https://localhost:8080/"
        },
        "id": "-zkOCuqghllf",
        "outputId": "fa12a893-5b0c-495b-9591-ba5ddf033aaa"
      },
      "execution_count": null,
      "outputs": [
        {
          "output_type": "stream",
          "name": "stdout",
          "text": [
            "xgboost: 1.5.0\n",
            "scikit-learn: 1.5.2\n",
            "hyperopt: 0.2.7\n"
          ]
        }
      ]
    },
    {
      "cell_type": "code",
      "execution_count": 62,
      "metadata": {
        "colab": {
          "base_uri": "https://localhost:8080/"
        },
        "id": "_V9kJQpwWNHc",
        "outputId": "a8f903b0-e202-41ba-a309-bfec3a290e47"
      },
      "outputs": [
        {
          "output_type": "stream",
          "name": "stdout",
          "text": [
            "100%|██████████| 50/50 [01:23<00:00,  1.66s/trial, best loss: -0.9670616939700244]\n",
            "best: {'colsample_bytree': 0.9599446282177103, 'learning_rate': 0.15480405522751015, 'max_depth': 6.0, 'min_child_weight': 2.0}\n"
          ]
        }
      ],
      "source": [
        "from hyperopt import fmin, tpe, Trials\n",
        "\n",
        "trial_val = Trials()\n",
        "#fmin() 함수 호출. max_evals 지정된 횟수만큼 반복 후 목적함수의 최솟값을 가지는 최적 입력값 추출\n",
        "best = fmin(fn=objective_func,\n",
        "            space=xgb_search_space,\n",
        "            algo=tpe.suggest,\n",
        "            max_evals=50,\n",
        "            trials=trial_val, rstate=np.random.default_rng(seed=9))\n",
        "print('best:', best)"
      ]
    },
    {
      "cell_type": "code",
      "source": [
        "print('colsample_bytree:{0},learning_rate={1},max_depth:{2},min_child_weight:{3}'.format(round(best['colsample_bytree'],5),round(best['learning_rate'],5),int(best['max_depth']),int(best['min_child_weight'])))"
      ],
      "metadata": {
        "colab": {
          "base_uri": "https://localhost:8080/"
        },
        "id": "kL-EYPi_QaAG",
        "outputId": "0fd93593-ae93-4cb4-b9b1-b2e7093b3eb7"
      },
      "execution_count": 63,
      "outputs": [
        {
          "output_type": "stream",
          "name": "stdout",
          "text": [
            "colsample_bytree:0.95994,learning_rate=0.1548,max_depth:6,min_child_weight:2\n"
          ]
        }
      ]
    },
    {
      "cell_type": "code",
      "execution_count": 65,
      "metadata": {
        "id": "OKras5aVWn9V",
        "colab": {
          "base_uri": "https://localhost:8080/"
        },
        "outputId": "5be3af6c-bbad-4732-aa7e-4233442cc62b"
      },
      "outputs": [
        {
          "output_type": "stream",
          "name": "stdout",
          "text": [
            "[0]\tvalidation_0-logloss:0.56834\tvalidation_1-logloss:0.60660\n",
            "[1]\tvalidation_0-logloss:0.47552\tvalidation_1-logloss:0.54538\n",
            "[2]\tvalidation_0-logloss:0.40208\tvalidation_1-logloss:0.48735\n",
            "[3]\tvalidation_0-logloss:0.34468\tvalidation_1-logloss:0.45698\n",
            "[4]\tvalidation_0-logloss:0.29775\tvalidation_1-logloss:0.41730\n",
            "[5]\tvalidation_0-logloss:0.26004\tvalidation_1-logloss:0.39167\n",
            "[6]\tvalidation_0-logloss:0.22681\tvalidation_1-logloss:0.36682\n",
            "[7]\tvalidation_0-logloss:0.20096\tvalidation_1-logloss:0.34593\n",
            "[8]\tvalidation_0-logloss:0.17763\tvalidation_1-logloss:0.33030\n",
            "[9]\tvalidation_0-logloss:0.15762\tvalidation_1-logloss:0.31918\n",
            "[10]\tvalidation_0-logloss:0.14233\tvalidation_1-logloss:0.30772\n",
            "[11]\tvalidation_0-logloss:0.12769\tvalidation_1-logloss:0.30104\n",
            "[12]\tvalidation_0-logloss:0.11566\tvalidation_1-logloss:0.29621\n",
            "[13]\tvalidation_0-logloss:0.10479\tvalidation_1-logloss:0.29157\n",
            "[14]\tvalidation_0-logloss:0.09640\tvalidation_1-logloss:0.28495\n",
            "[15]\tvalidation_0-logloss:0.08707\tvalidation_1-logloss:0.28055\n",
            "[16]\tvalidation_0-logloss:0.08067\tvalidation_1-logloss:0.27775\n",
            "[17]\tvalidation_0-logloss:0.07468\tvalidation_1-logloss:0.27470\n",
            "[18]\tvalidation_0-logloss:0.06971\tvalidation_1-logloss:0.27426\n",
            "[19]\tvalidation_0-logloss:0.06376\tvalidation_1-logloss:0.27298\n",
            "[20]\tvalidation_0-logloss:0.05900\tvalidation_1-logloss:0.27030\n",
            "[21]\tvalidation_0-logloss:0.05483\tvalidation_1-logloss:0.26467\n",
            "[22]\tvalidation_0-logloss:0.05115\tvalidation_1-logloss:0.26722\n",
            "[23]\tvalidation_0-logloss:0.04855\tvalidation_1-logloss:0.26117\n",
            "[24]\tvalidation_0-logloss:0.04630\tvalidation_1-logloss:0.26024\n",
            "[25]\tvalidation_0-logloss:0.04365\tvalidation_1-logloss:0.26456\n",
            "[26]\tvalidation_0-logloss:0.04105\tvalidation_1-logloss:0.26599\n",
            "[27]\tvalidation_0-logloss:0.03936\tvalidation_1-logloss:0.26629\n",
            "[28]\tvalidation_0-logloss:0.03716\tvalidation_1-logloss:0.27067\n",
            "[29]\tvalidation_0-logloss:0.03521\tvalidation_1-logloss:0.26714\n",
            "[30]\tvalidation_0-logloss:0.03347\tvalidation_1-logloss:0.26820\n",
            "[31]\tvalidation_0-logloss:0.03219\tvalidation_1-logloss:0.26912\n",
            "[32]\tvalidation_0-logloss:0.03092\tvalidation_1-logloss:0.26841\n",
            "[33]\tvalidation_0-logloss:0.02956\tvalidation_1-logloss:0.27270\n",
            "[34]\tvalidation_0-logloss:0.02873\tvalidation_1-logloss:0.27204\n",
            "[35]\tvalidation_0-logloss:0.02796\tvalidation_1-logloss:0.27389\n",
            "[36]\tvalidation_0-logloss:0.02732\tvalidation_1-logloss:0.27464\n",
            "[37]\tvalidation_0-logloss:0.02668\tvalidation_1-logloss:0.27186\n",
            "[38]\tvalidation_0-logloss:0.02604\tvalidation_1-logloss:0.27278\n",
            "[39]\tvalidation_0-logloss:0.02552\tvalidation_1-logloss:0.27527\n",
            "[40]\tvalidation_0-logloss:0.02481\tvalidation_1-logloss:0.27140\n",
            "[41]\tvalidation_0-logloss:0.02426\tvalidation_1-logloss:0.27243\n",
            "[42]\tvalidation_0-logloss:0.02377\tvalidation_1-logloss:0.27126\n",
            "[43]\tvalidation_0-logloss:0.02352\tvalidation_1-logloss:0.26914\n",
            "[44]\tvalidation_0-logloss:0.02304\tvalidation_1-logloss:0.27011\n",
            "[45]\tvalidation_0-logloss:0.02281\tvalidation_1-logloss:0.27312\n",
            "[46]\tvalidation_0-logloss:0.02226\tvalidation_1-logloss:0.27251\n",
            "[47]\tvalidation_0-logloss:0.02182\tvalidation_1-logloss:0.27348\n",
            "[48]\tvalidation_0-logloss:0.02165\tvalidation_1-logloss:0.27169\n",
            "[49]\tvalidation_0-logloss:0.02147\tvalidation_1-logloss:0.27391\n",
            "[50]\tvalidation_0-logloss:0.02129\tvalidation_1-logloss:0.27328\n",
            "[51]\tvalidation_0-logloss:0.02086\tvalidation_1-logloss:0.27040\n",
            "[52]\tvalidation_0-logloss:0.02071\tvalidation_1-logloss:0.26869\n",
            "[53]\tvalidation_0-logloss:0.02055\tvalidation_1-logloss:0.27083\n",
            "[54]\tvalidation_0-logloss:0.02040\tvalidation_1-logloss:0.27105\n",
            "[55]\tvalidation_0-logloss:0.02026\tvalidation_1-logloss:0.27354\n",
            "[56]\tvalidation_0-logloss:0.02013\tvalidation_1-logloss:0.27299\n",
            "[57]\tvalidation_0-logloss:0.02000\tvalidation_1-logloss:0.27293\n",
            "[58]\tvalidation_0-logloss:0.01986\tvalidation_1-logloss:0.27131\n",
            "[59]\tvalidation_0-logloss:0.01972\tvalidation_1-logloss:0.27341\n",
            "[60]\tvalidation_0-logloss:0.01960\tvalidation_1-logloss:0.27364\n",
            "[61]\tvalidation_0-logloss:0.01948\tvalidation_1-logloss:0.27206\n",
            "[62]\tvalidation_0-logloss:0.01935\tvalidation_1-logloss:0.27347\n",
            "[63]\tvalidation_0-logloss:0.01923\tvalidation_1-logloss:0.27544\n",
            "[64]\tvalidation_0-logloss:0.01912\tvalidation_1-logloss:0.27390\n",
            "[65]\tvalidation_0-logloss:0.01900\tvalidation_1-logloss:0.27140\n",
            "[66]\tvalidation_0-logloss:0.01889\tvalidation_1-logloss:0.27092\n",
            "[67]\tvalidation_0-logloss:0.01878\tvalidation_1-logloss:0.27285\n",
            "[68]\tvalidation_0-logloss:0.01868\tvalidation_1-logloss:0.27140\n",
            "[69]\tvalidation_0-logloss:0.01857\tvalidation_1-logloss:0.27161\n",
            "[70]\tvalidation_0-logloss:0.01847\tvalidation_1-logloss:0.27348\n",
            "[71]\tvalidation_0-logloss:0.01837\tvalidation_1-logloss:0.27204\n",
            "[72]\tvalidation_0-logloss:0.01827\tvalidation_1-logloss:0.27280\n",
            "[73]\tvalidation_0-logloss:0.01817\tvalidation_1-logloss:0.27014\n",
            "[74]\tvalidation_0-logloss:0.01807\tvalidation_1-logloss:0.27143\n",
            "오차 행렬\n",
            "[[34  3]\n",
            " [ 2 75]]\n",
            "정확도: 0.9561, 정밀도:0.9615, 재현율: 0.9740,F1: 0.9677,AUC:0.9895\n"
          ]
        }
      ],
      "source": [
        "xgb_wrapper=XGBClassifier(n_estimators=400,learning_rate=round(best['learning_rate'],5),max_depth=int(best['max_depth']),min_child_weight=int(best['min_child_weight']), colsample_bytree=round(best['colsample_bytree'],5))\n",
        "evals=[(X_tr,y_tr),(X_val,y_val)]\n",
        "xgb_wrapper.fit(X_tr,y_tr,early_stopping_rounds=50,eval_metric='logloss', eval_set=evals, verbose=True)\n",
        "\n",
        "preds=xgb_wrapper.predict(X_test)\n",
        "pred_proba=xgb_wrapper.predict_proba(X_test)[:,1]\n",
        "\n",
        "get_clf_eval(y_test,preds,pred_proba)"
      ]
    },
    {
      "cell_type": "markdown",
      "source": [
        "#4.10"
      ],
      "metadata": {
        "id": "dIa3fFwKQzDv"
      }
    },
    {
      "cell_type": "code",
      "source": [
        "# !pip install imbalanced-learn"
      ],
      "metadata": {
        "id": "VzHKImTNiJCi"
      },
      "execution_count": 66,
      "outputs": []
    },
    {
      "cell_type": "code",
      "source": [
        "import pandas as pd\n",
        "import numpy as np\n",
        "import matplotlib.pyplot as plt\n",
        "import warnings\n",
        "warnings.filterwarnings(\"ignore\")\n",
        "%matplotlib inline\n",
        "\n",
        "card_df=pd.read_csv('/content/drive/MyDrive/EURON/test/creditcard.csv')\n",
        "card_df.head(3)"
      ],
      "metadata": {
        "colab": {
          "base_uri": "https://localhost:8080/",
          "height": 191
        },
        "id": "qrehayaFSGCd",
        "outputId": "1f8b4beb-3e19-44d6-aaa6-6a2c7558a593"
      },
      "execution_count": 67,
      "outputs": [
        {
          "output_type": "execute_result",
          "data": {
            "text/plain": [
              "   Time        V1        V2        V3        V4        V5        V6        V7  \\\n",
              "0   0.0 -1.359807 -0.072781  2.536347  1.378155 -0.338321  0.462388  0.239599   \n",
              "1   0.0  1.191857  0.266151  0.166480  0.448154  0.060018 -0.082361 -0.078803   \n",
              "2   1.0 -1.358354 -1.340163  1.773209  0.379780 -0.503198  1.800499  0.791461   \n",
              "\n",
              "         V8        V9  ...       V21       V22       V23       V24       V25  \\\n",
              "0  0.098698  0.363787  ... -0.018307  0.277838 -0.110474  0.066928  0.128539   \n",
              "1  0.085102 -0.255425  ... -0.225775 -0.638672  0.101288 -0.339846  0.167170   \n",
              "2  0.247676 -1.514654  ...  0.247998  0.771679  0.909412 -0.689281 -0.327642   \n",
              "\n",
              "        V26       V27       V28  Amount  Class  \n",
              "0 -0.189115  0.133558 -0.021053  149.62      0  \n",
              "1  0.125895 -0.008983  0.014724    2.69      0  \n",
              "2 -0.139097 -0.055353 -0.059752  378.66      0  \n",
              "\n",
              "[3 rows x 31 columns]"
            ],
            "text/html": [
              "\n",
              "  <div id=\"df-0f924c9e-b7fe-4d1c-8b17-53d427df59fb\" class=\"colab-df-container\">\n",
              "    <div>\n",
              "<style scoped>\n",
              "    .dataframe tbody tr th:only-of-type {\n",
              "        vertical-align: middle;\n",
              "    }\n",
              "\n",
              "    .dataframe tbody tr th {\n",
              "        vertical-align: top;\n",
              "    }\n",
              "\n",
              "    .dataframe thead th {\n",
              "        text-align: right;\n",
              "    }\n",
              "</style>\n",
              "<table border=\"1\" class=\"dataframe\">\n",
              "  <thead>\n",
              "    <tr style=\"text-align: right;\">\n",
              "      <th></th>\n",
              "      <th>Time</th>\n",
              "      <th>V1</th>\n",
              "      <th>V2</th>\n",
              "      <th>V3</th>\n",
              "      <th>V4</th>\n",
              "      <th>V5</th>\n",
              "      <th>V6</th>\n",
              "      <th>V7</th>\n",
              "      <th>V8</th>\n",
              "      <th>V9</th>\n",
              "      <th>...</th>\n",
              "      <th>V21</th>\n",
              "      <th>V22</th>\n",
              "      <th>V23</th>\n",
              "      <th>V24</th>\n",
              "      <th>V25</th>\n",
              "      <th>V26</th>\n",
              "      <th>V27</th>\n",
              "      <th>V28</th>\n",
              "      <th>Amount</th>\n",
              "      <th>Class</th>\n",
              "    </tr>\n",
              "  </thead>\n",
              "  <tbody>\n",
              "    <tr>\n",
              "      <th>0</th>\n",
              "      <td>0.0</td>\n",
              "      <td>-1.359807</td>\n",
              "      <td>-0.072781</td>\n",
              "      <td>2.536347</td>\n",
              "      <td>1.378155</td>\n",
              "      <td>-0.338321</td>\n",
              "      <td>0.462388</td>\n",
              "      <td>0.239599</td>\n",
              "      <td>0.098698</td>\n",
              "      <td>0.363787</td>\n",
              "      <td>...</td>\n",
              "      <td>-0.018307</td>\n",
              "      <td>0.277838</td>\n",
              "      <td>-0.110474</td>\n",
              "      <td>0.066928</td>\n",
              "      <td>0.128539</td>\n",
              "      <td>-0.189115</td>\n",
              "      <td>0.133558</td>\n",
              "      <td>-0.021053</td>\n",
              "      <td>149.62</td>\n",
              "      <td>0</td>\n",
              "    </tr>\n",
              "    <tr>\n",
              "      <th>1</th>\n",
              "      <td>0.0</td>\n",
              "      <td>1.191857</td>\n",
              "      <td>0.266151</td>\n",
              "      <td>0.166480</td>\n",
              "      <td>0.448154</td>\n",
              "      <td>0.060018</td>\n",
              "      <td>-0.082361</td>\n",
              "      <td>-0.078803</td>\n",
              "      <td>0.085102</td>\n",
              "      <td>-0.255425</td>\n",
              "      <td>...</td>\n",
              "      <td>-0.225775</td>\n",
              "      <td>-0.638672</td>\n",
              "      <td>0.101288</td>\n",
              "      <td>-0.339846</td>\n",
              "      <td>0.167170</td>\n",
              "      <td>0.125895</td>\n",
              "      <td>-0.008983</td>\n",
              "      <td>0.014724</td>\n",
              "      <td>2.69</td>\n",
              "      <td>0</td>\n",
              "    </tr>\n",
              "    <tr>\n",
              "      <th>2</th>\n",
              "      <td>1.0</td>\n",
              "      <td>-1.358354</td>\n",
              "      <td>-1.340163</td>\n",
              "      <td>1.773209</td>\n",
              "      <td>0.379780</td>\n",
              "      <td>-0.503198</td>\n",
              "      <td>1.800499</td>\n",
              "      <td>0.791461</td>\n",
              "      <td>0.247676</td>\n",
              "      <td>-1.514654</td>\n",
              "      <td>...</td>\n",
              "      <td>0.247998</td>\n",
              "      <td>0.771679</td>\n",
              "      <td>0.909412</td>\n",
              "      <td>-0.689281</td>\n",
              "      <td>-0.327642</td>\n",
              "      <td>-0.139097</td>\n",
              "      <td>-0.055353</td>\n",
              "      <td>-0.059752</td>\n",
              "      <td>378.66</td>\n",
              "      <td>0</td>\n",
              "    </tr>\n",
              "  </tbody>\n",
              "</table>\n",
              "<p>3 rows × 31 columns</p>\n",
              "</div>\n",
              "    <div class=\"colab-df-buttons\">\n",
              "\n",
              "  <div class=\"colab-df-container\">\n",
              "    <button class=\"colab-df-convert\" onclick=\"convertToInteractive('df-0f924c9e-b7fe-4d1c-8b17-53d427df59fb')\"\n",
              "            title=\"Convert this dataframe to an interactive table.\"\n",
              "            style=\"display:none;\">\n",
              "\n",
              "  <svg xmlns=\"http://www.w3.org/2000/svg\" height=\"24px\" viewBox=\"0 -960 960 960\">\n",
              "    <path d=\"M120-120v-720h720v720H120Zm60-500h600v-160H180v160Zm220 220h160v-160H400v160Zm0 220h160v-160H400v160ZM180-400h160v-160H180v160Zm440 0h160v-160H620v160ZM180-180h160v-160H180v160Zm440 0h160v-160H620v160Z\"/>\n",
              "  </svg>\n",
              "    </button>\n",
              "\n",
              "  <style>\n",
              "    .colab-df-container {\n",
              "      display:flex;\n",
              "      gap: 12px;\n",
              "    }\n",
              "\n",
              "    .colab-df-convert {\n",
              "      background-color: #E8F0FE;\n",
              "      border: none;\n",
              "      border-radius: 50%;\n",
              "      cursor: pointer;\n",
              "      display: none;\n",
              "      fill: #1967D2;\n",
              "      height: 32px;\n",
              "      padding: 0 0 0 0;\n",
              "      width: 32px;\n",
              "    }\n",
              "\n",
              "    .colab-df-convert:hover {\n",
              "      background-color: #E2EBFA;\n",
              "      box-shadow: 0px 1px 2px rgba(60, 64, 67, 0.3), 0px 1px 3px 1px rgba(60, 64, 67, 0.15);\n",
              "      fill: #174EA6;\n",
              "    }\n",
              "\n",
              "    .colab-df-buttons div {\n",
              "      margin-bottom: 4px;\n",
              "    }\n",
              "\n",
              "    [theme=dark] .colab-df-convert {\n",
              "      background-color: #3B4455;\n",
              "      fill: #D2E3FC;\n",
              "    }\n",
              "\n",
              "    [theme=dark] .colab-df-convert:hover {\n",
              "      background-color: #434B5C;\n",
              "      box-shadow: 0px 1px 3px 1px rgba(0, 0, 0, 0.15);\n",
              "      filter: drop-shadow(0px 1px 2px rgba(0, 0, 0, 0.3));\n",
              "      fill: #FFFFFF;\n",
              "    }\n",
              "  </style>\n",
              "\n",
              "    <script>\n",
              "      const buttonEl =\n",
              "        document.querySelector('#df-0f924c9e-b7fe-4d1c-8b17-53d427df59fb button.colab-df-convert');\n",
              "      buttonEl.style.display =\n",
              "        google.colab.kernel.accessAllowed ? 'block' : 'none';\n",
              "\n",
              "      async function convertToInteractive(key) {\n",
              "        const element = document.querySelector('#df-0f924c9e-b7fe-4d1c-8b17-53d427df59fb');\n",
              "        const dataTable =\n",
              "          await google.colab.kernel.invokeFunction('convertToInteractive',\n",
              "                                                    [key], {});\n",
              "        if (!dataTable) return;\n",
              "\n",
              "        const docLinkHtml = 'Like what you see? Visit the ' +\n",
              "          '<a target=\"_blank\" href=https://colab.research.google.com/notebooks/data_table.ipynb>data table notebook</a>'\n",
              "          + ' to learn more about interactive tables.';\n",
              "        element.innerHTML = '';\n",
              "        dataTable['output_type'] = 'display_data';\n",
              "        await google.colab.output.renderOutput(dataTable, element);\n",
              "        const docLink = document.createElement('div');\n",
              "        docLink.innerHTML = docLinkHtml;\n",
              "        element.appendChild(docLink);\n",
              "      }\n",
              "    </script>\n",
              "  </div>\n",
              "\n",
              "\n",
              "<div id=\"df-52693862-fa87-4629-ba5d-e6f015b8b794\">\n",
              "  <button class=\"colab-df-quickchart\" onclick=\"quickchart('df-52693862-fa87-4629-ba5d-e6f015b8b794')\"\n",
              "            title=\"Suggest charts\"\n",
              "            style=\"display:none;\">\n",
              "\n",
              "<svg xmlns=\"http://www.w3.org/2000/svg\" height=\"24px\"viewBox=\"0 0 24 24\"\n",
              "     width=\"24px\">\n",
              "    <g>\n",
              "        <path d=\"M19 3H5c-1.1 0-2 .9-2 2v14c0 1.1.9 2 2 2h14c1.1 0 2-.9 2-2V5c0-1.1-.9-2-2-2zM9 17H7v-7h2v7zm4 0h-2V7h2v10zm4 0h-2v-4h2v4z\"/>\n",
              "    </g>\n",
              "</svg>\n",
              "  </button>\n",
              "\n",
              "<style>\n",
              "  .colab-df-quickchart {\n",
              "      --bg-color: #E8F0FE;\n",
              "      --fill-color: #1967D2;\n",
              "      --hover-bg-color: #E2EBFA;\n",
              "      --hover-fill-color: #174EA6;\n",
              "      --disabled-fill-color: #AAA;\n",
              "      --disabled-bg-color: #DDD;\n",
              "  }\n",
              "\n",
              "  [theme=dark] .colab-df-quickchart {\n",
              "      --bg-color: #3B4455;\n",
              "      --fill-color: #D2E3FC;\n",
              "      --hover-bg-color: #434B5C;\n",
              "      --hover-fill-color: #FFFFFF;\n",
              "      --disabled-bg-color: #3B4455;\n",
              "      --disabled-fill-color: #666;\n",
              "  }\n",
              "\n",
              "  .colab-df-quickchart {\n",
              "    background-color: var(--bg-color);\n",
              "    border: none;\n",
              "    border-radius: 50%;\n",
              "    cursor: pointer;\n",
              "    display: none;\n",
              "    fill: var(--fill-color);\n",
              "    height: 32px;\n",
              "    padding: 0;\n",
              "    width: 32px;\n",
              "  }\n",
              "\n",
              "  .colab-df-quickchart:hover {\n",
              "    background-color: var(--hover-bg-color);\n",
              "    box-shadow: 0 1px 2px rgba(60, 64, 67, 0.3), 0 1px 3px 1px rgba(60, 64, 67, 0.15);\n",
              "    fill: var(--button-hover-fill-color);\n",
              "  }\n",
              "\n",
              "  .colab-df-quickchart-complete:disabled,\n",
              "  .colab-df-quickchart-complete:disabled:hover {\n",
              "    background-color: var(--disabled-bg-color);\n",
              "    fill: var(--disabled-fill-color);\n",
              "    box-shadow: none;\n",
              "  }\n",
              "\n",
              "  .colab-df-spinner {\n",
              "    border: 2px solid var(--fill-color);\n",
              "    border-color: transparent;\n",
              "    border-bottom-color: var(--fill-color);\n",
              "    animation:\n",
              "      spin 1s steps(1) infinite;\n",
              "  }\n",
              "\n",
              "  @keyframes spin {\n",
              "    0% {\n",
              "      border-color: transparent;\n",
              "      border-bottom-color: var(--fill-color);\n",
              "      border-left-color: var(--fill-color);\n",
              "    }\n",
              "    20% {\n",
              "      border-color: transparent;\n",
              "      border-left-color: var(--fill-color);\n",
              "      border-top-color: var(--fill-color);\n",
              "    }\n",
              "    30% {\n",
              "      border-color: transparent;\n",
              "      border-left-color: var(--fill-color);\n",
              "      border-top-color: var(--fill-color);\n",
              "      border-right-color: var(--fill-color);\n",
              "    }\n",
              "    40% {\n",
              "      border-color: transparent;\n",
              "      border-right-color: var(--fill-color);\n",
              "      border-top-color: var(--fill-color);\n",
              "    }\n",
              "    60% {\n",
              "      border-color: transparent;\n",
              "      border-right-color: var(--fill-color);\n",
              "    }\n",
              "    80% {\n",
              "      border-color: transparent;\n",
              "      border-right-color: var(--fill-color);\n",
              "      border-bottom-color: var(--fill-color);\n",
              "    }\n",
              "    90% {\n",
              "      border-color: transparent;\n",
              "      border-bottom-color: var(--fill-color);\n",
              "    }\n",
              "  }\n",
              "</style>\n",
              "\n",
              "  <script>\n",
              "    async function quickchart(key) {\n",
              "      const quickchartButtonEl =\n",
              "        document.querySelector('#' + key + ' button');\n",
              "      quickchartButtonEl.disabled = true;  // To prevent multiple clicks.\n",
              "      quickchartButtonEl.classList.add('colab-df-spinner');\n",
              "      try {\n",
              "        const charts = await google.colab.kernel.invokeFunction(\n",
              "            'suggestCharts', [key], {});\n",
              "      } catch (error) {\n",
              "        console.error('Error during call to suggestCharts:', error);\n",
              "      }\n",
              "      quickchartButtonEl.classList.remove('colab-df-spinner');\n",
              "      quickchartButtonEl.classList.add('colab-df-quickchart-complete');\n",
              "    }\n",
              "    (() => {\n",
              "      let quickchartButtonEl =\n",
              "        document.querySelector('#df-52693862-fa87-4629-ba5d-e6f015b8b794 button');\n",
              "      quickchartButtonEl.style.display =\n",
              "        google.colab.kernel.accessAllowed ? 'block' : 'none';\n",
              "    })();\n",
              "  </script>\n",
              "</div>\n",
              "\n",
              "    </div>\n",
              "  </div>\n"
            ],
            "application/vnd.google.colaboratory.intrinsic+json": {
              "type": "dataframe",
              "variable_name": "card_df"
            }
          },
          "metadata": {},
          "execution_count": 67
        }
      ]
    },
    {
      "cell_type": "code",
      "source": [
        "from sklearn.model_selection import train_test_split\n",
        "\n",
        "# 인자로 입력받은 DataFrame을 복사한 뒤 Time 칼럼만 삭제하고 복사된 DataFrame 반환\n",
        "def get_preprocessed_df(df=None):\n",
        "  df_copy=df.copy()\n",
        "  df_copy.drop('Time',axis=1,inplace=True)\n",
        "  return df_copy"
      ],
      "metadata": {
        "id": "_qIPHbxcnM-I"
      },
      "execution_count": 68,
      "outputs": []
    },
    {
      "cell_type": "code",
      "source": [
        "# 사전 데이터 가공 후 학습과 테스트 데이터 세트를 반환하는 함수\n",
        "def get_train_test_dataset(df=None):\n",
        "  # 인자로 입력된 DataFrame의 사전 데이터 가공이 완료된 복사 DataFrame 반환\n",
        "  df_copy=get_preprocessed_df(df)\n",
        "  # DataFrame의 맨 마지막 칼럼이 레이블, 나머지는 피처들\n",
        "  X_features=df_copy.iloc[:,:-1]\n",
        "  y_target=df_copy.iloc[:,-1]\n",
        "  # train_test_split()으로 학습과 테스트 데이터 분할, stratify=y_target으로 Stratified 기반 분할\n",
        "  X_train,X_test,y_train,y_test=train_test_split(X_features,y_target,test_size=0.3,random_state=0,stratify=y_target)\n",
        "  # 학습과 테스트 데이터 세트 반환\n",
        "  return X_train, X_test, y_train, y_test\n",
        "\n",
        "X_train,X_test,y_train,y_test=get_train_test_dataset(card_df)"
      ],
      "metadata": {
        "id": "q410GomzryEB"
      },
      "execution_count": 69,
      "outputs": []
    },
    {
      "cell_type": "code",
      "source": [
        "print('학습 데이터 레이블 값 비율')\n",
        "print(y_train.value_counts()/y_train.shape[0]*100)\n",
        "print('테스트 데이터 레이블 값 비율')\n",
        "print(y_test.value_counts()/y_test.shape[0]*100)"
      ],
      "metadata": {
        "id": "-nR4UUuasfjH",
        "colab": {
          "base_uri": "https://localhost:8080/"
        },
        "outputId": "2d9ae06f-e131-466b-d134-fd354a9e0cb4"
      },
      "execution_count": 70,
      "outputs": [
        {
          "output_type": "stream",
          "name": "stdout",
          "text": [
            "학습 데이터 레이블 값 비율\n",
            "0    99.827451\n",
            "1     0.172549\n",
            "Name: Class, dtype: float64\n",
            "테스트 데이터 레이블 값 비율\n",
            "0    99.826785\n",
            "1     0.173215\n",
            "Name: Class, dtype: float64\n"
          ]
        }
      ]
    },
    {
      "cell_type": "code",
      "source": [
        "from sklearn.linear_model import LogisticRegression\n",
        "\n",
        "lr_clf=LogisticRegression(max_iter=1000)\n",
        "lr_clf.fit(X_train,y_train)\n",
        "lr_pred=lr_clf.predict(X_test)\n",
        "lr_pred_proba=lr_clf.predict_proba(X_test)[:,1]\n",
        "\n",
        "get_clf_eval(y_test,lr_pred,lr_pred_proba)"
      ],
      "metadata": {
        "id": "k-pCg68WtfVE",
        "colab": {
          "base_uri": "https://localhost:8080/"
        },
        "outputId": "8a72199c-cdf4-4b28-fcbc-38132c27c4ff"
      },
      "execution_count": 71,
      "outputs": [
        {
          "output_type": "stream",
          "name": "stdout",
          "text": [
            "오차 행렬\n",
            "[[85280    15]\n",
            " [   56    92]]\n",
            "정확도: 0.9992, 정밀도:0.8598, 재현율: 0.6216,F1: 0.7216,AUC:0.9738\n"
          ]
        }
      ]
    },
    {
      "cell_type": "code",
      "source": [
        "# 인자로 사이킷런의 Estimator 객체와 학습/테스트 데이터 세트를 입력받아서 학습/예측/평가 수행\n",
        "def get_model_train_eval(model,ftr_train=None,ftr_test=None,tgt_train=None,tgt_test=None):\n",
        "  model.fit(ftr_train,tgt_train)\n",
        "  pred=model.predict(ftr_test)\n",
        "  pred_proba=model.predict_proba(ftr_test)[:,1]\n",
        "  get_clf_eval(tgt_test,pred,pred_proba)"
      ],
      "metadata": {
        "id": "yWZlWsK1tyfQ"
      },
      "execution_count": 72,
      "outputs": []
    },
    {
      "cell_type": "code",
      "source": [
        "from lightgbm import LGBMClassifier\n",
        "\n",
        "lgbm_clf=LGBMClassifier(n_estimators=1000,num_leaves=64,n_jobs=-1,boost_from_average=False)\n",
        "get_model_train_eval(lgbm_clf,ftr_train=X_train,ftr_test=X_test,tgt_train=y_train,tgt_test=y_test)"
      ],
      "metadata": {
        "id": "6dwbGK3ntuiX",
        "colab": {
          "base_uri": "https://localhost:8080/"
        },
        "outputId": "4dc4085f-92d9-4dcc-e96c-a5b7509955e6"
      },
      "execution_count": 73,
      "outputs": [
        {
          "output_type": "stream",
          "name": "stdout",
          "text": [
            "오차 행렬\n",
            "[[85290     5]\n",
            " [   36   112]]\n",
            "정확도: 0.9995, 정밀도:0.9573, 재현율: 0.7568,F1: 0.8453,AUC:0.9790\n"
          ]
        }
      ]
    },
    {
      "cell_type": "code",
      "source": [
        "import seaborn as sns\n",
        "\n",
        "plt.figure(figsize=(8,4))\n",
        "plt.xticks(range(0,30000,1000),rotation=60)\n",
        "sns.histplot(card_df['Amount'],bins=100,kde=True)\n",
        "plt.show()"
      ],
      "metadata": {
        "id": "1Bp389yjuWvm",
        "colab": {
          "base_uri": "https://localhost:8080/",
          "height": 419
        },
        "outputId": "4e9da6f4-47ed-4734-b045-5e3c1b96fa4d"
      },
      "execution_count": 74,
      "outputs": [
        {
          "output_type": "display_data",
          "data": {
            "text/plain": [
              "<Figure size 800x400 with 1 Axes>"
            ],
            "image/png": "[encoded data removed]"
          },
          "metadata": {}
        }
      ]
    },
    {
      "cell_type": "code",
      "source": [
        "from sklearn.preprocessing import StandardScaler\n",
        "# 사이킷런의 StandardScaler를 이용해 정규 분포 형태로 Amount 피처값 변환하는 로직으로 수정\n",
        "def get_preprocessed_df(df=None):\n",
        "  df_copy=df.copy()\n",
        "  scaler=StandardScaler()\n",
        "  amount_n=scaler.fit_transform(df_copy['Amount'].values.reshape(-1,1))\n",
        "  # 변환된 Amount를 Amount_scaled로 피처명 변경후 DataFrame맨 앞 칼럼으로 입력\n",
        "  df_copy.insert(0,'Amount_Scaled',amount_n)\n",
        "  # 기존 Time, Amount 피처 삭제\n",
        "  df_copy.drop(['Time','Amount'],axis=1,inplace=True)\n",
        "  return df_copy"
      ],
      "metadata": {
        "id": "LtgOHhxJuuDh"
      },
      "execution_count": 75,
      "outputs": []
    },
    {
      "cell_type": "code",
      "source": [
        "# Amount를 정규 분포 형태로 변환 후 로지스틱 회귀 및 LightGBM 수행\n",
        "X_train,X_test,y_train,y_test=get_train_test_dataset(card_df)\n",
        "\n",
        "print('### 로지스틱 회귀 예측 성능 ###')\n",
        "lr_clf=LogisticRegression(max_iter=1000)\n",
        "get_model_train_eval(lr_clf,ftr_train=X_train,ftr_test=X_test,tgt_train=y_train,tgt_test=y_test)\n",
        "\n",
        "print('### LightGBM 예측 성능 ###')\n",
        "lgbm_clf=LGBMClassifier(n_estimators=1000,num_leaves=64,n_jobs=-1,boost_from_average=False)\n",
        "get_model_train_eval(lgbm_clf,ftr_train=X_train,ftr_test=X_test,tgt_train=y_train,tgt_test=y_test)"
      ],
      "metadata": {
        "id": "wKIcF_rsupk7",
        "colab": {
          "base_uri": "https://localhost:8080/"
        },
        "outputId": "e5db8ff2-9e5a-4517-e15a-abc5192b4a4b"
      },
      "execution_count": 76,
      "outputs": [
        {
          "output_type": "stream",
          "name": "stdout",
          "text": [
            "### 로지스틱 회귀 예측 성능 ###\n",
            "오차 행렬\n",
            "[[85281    14]\n",
            " [   55    93]]\n",
            "정확도: 0.9992, 정밀도:0.8692, 재현율: 0.6284,F1: 0.7294,AUC:0.9706\n",
            "### LightGBM 예측 성능 ###\n",
            "오차 행렬\n",
            "[[85290     5]\n",
            " [   37   111]]\n",
            "정확도: 0.9995, 정밀도:0.9569, 재현율: 0.7500,F1: 0.8409,AUC:0.9779\n"
          ]
        }
      ]
    },
    {
      "cell_type": "code",
      "source": [
        "def get_preprocessed_df(df=None):\n",
        "  df_copy=df.copy()\n",
        "  # 넘파이의 log1p()를 이용해 amount를 로그 변환\n",
        "  amount_n=np.log1p(df_copy['Amount'])\n",
        "  df_copy.insert(0,'Amount_Scaled',amount_n)\n",
        "  df_copy.drop(['Time','Amount'],axis=1,inplace=True)\n",
        "  return df_copy"
      ],
      "metadata": {
        "id": "QSeL1BMBzV7k"
      },
      "execution_count": 77,
      "outputs": []
    },
    {
      "cell_type": "code",
      "source": [
        "X_train,X_test,y_train,y_test=get_train_test_dataset(card_df)\n",
        "\n",
        "print('### 로지스틱 회귀 예측 성능 ###')\n",
        "get_model_train_eval(lr_clf,ftr_train=X_train,ftr_test=X_test,tgt_train=y_train, tgt_test=y_test)\n",
        "\n",
        "print('### LightGBM 예측 성능 ###')\n",
        "get_model_train_eval(lgbm_clf,ftr_train=X_train,ftr_test=X_test,tgt_train=y_train,tgt_test=y_test)"
      ],
      "metadata": {
        "id": "Oeb1MwU5uDQE",
        "colab": {
          "base_uri": "https://localhost:8080/"
        },
        "outputId": "4c27c8dd-a3aa-4584-c2bc-7240ec1cc34a"
      },
      "execution_count": 78,
      "outputs": [
        {
          "output_type": "stream",
          "name": "stdout",
          "text": [
            "### 로지스틱 회귀 예측 성능 ###\n",
            "오차 행렬\n",
            "[[85282    13]\n",
            " [   59    89]]\n",
            "정확도: 0.9992, 정밀도:0.8725, 재현율: 0.6014,F1: 0.7120,AUC:0.9734\n",
            "### LightGBM 예측 성능 ###\n",
            "오차 행렬\n",
            "[[85290     5]\n",
            " [   35   113]]\n",
            "정확도: 0.9995, 정밀도:0.9576, 재현율: 0.7635,F1: 0.8496,AUC:0.9796\n"
          ]
        }
      ]
    },
    {
      "cell_type": "code",
      "source": [
        "import seaborn as sns\n",
        "\n",
        "plt.figure(figsize=(9,9))\n",
        "corr=card_df.corr()\n",
        "sns.heatmap(corr,cmap='RdBu')"
      ],
      "metadata": {
        "id": "L5DU8oJpuZuv",
        "colab": {
          "base_uri": "https://localhost:8080/",
          "height": 784
        },
        "outputId": "3ec4d008-4755-4983-fb32-815d0d3ece2a"
      },
      "execution_count": 79,
      "outputs": [
        {
          "output_type": "execute_result",
          "data": {
            "text/plain": [
              "<Axes: >"
            ]
          },
          "metadata": {},
          "execution_count": 79
        },
        {
          "output_type": "display_data",
          "data": {
            "text/plain": [
              "<Figure size 900x900 with 2 Axes>"
            ],
            "image/png": "[encoded data removed]"
          },
          "metadata": {}
        }
      ]
    },
    {
      "cell_type": "code",
      "source": [
        "import numpy as np\n",
        "\n",
        "def get_outlier(df=None, column=None, weight=1.5):\n",
        "  # fraud에 해당하는 column 데이터만 추출, 1/4 분위와 3/4 분위 지점을 np.percentile로 구함\n",
        "  fraud=df[df['Class']==1][column]\n",
        "  quantile_25=np.percentile(fraud.values,25)\n",
        "  quantile_75=np.percentile(fraud.values,75)\n",
        "\n",
        "  # IQR을 구하고 IQR에 1.5를 곱해 최댓값과 최솟값 지점 구함\n",
        "  iqr=quantile_75 - quantile_25\n",
        "  iqr_weight=iqr*weight\n",
        "  lowest_val=quantile_25-iqr_weight\n",
        "  highest_val=quantile_75+iqr_weight\n",
        "  # 최댓값보다 크거나, 최솟값보다 작은 값을 이상치 데이터로 설정하고 DataFrame index 반환\n",
        "  outlier_index=fraud[(fraud < lowest_val)| (fraud > highest_val)].index\n",
        "  return outlier_index"
      ],
      "metadata": {
        "id": "LcaW_NDSwrnz"
      },
      "execution_count": 80,
      "outputs": []
    },
    {
      "cell_type": "code",
      "source": [
        "outlier_index=get_outlier(df=card_df,column='V14',weight=1.5)\n",
        "print('이상치 데이터 인덱스:',outlier_index)"
      ],
      "metadata": {
        "id": "8ktdl2tUxE59",
        "colab": {
          "base_uri": "https://localhost:8080/"
        },
        "outputId": "6a8cb23d-1eb0-4a37-e09c-0350cf0c0eed"
      },
      "execution_count": 81,
      "outputs": [
        {
          "output_type": "stream",
          "name": "stdout",
          "text": [
            "이상치 데이터 인덱스: Int64Index([8296, 8615, 9035, 9252], dtype='int64')\n"
          ]
        }
      ]
    },
    {
      "cell_type": "code",
      "source": [
        "# get_processed_df()를 로그 변환 후 V14 피처의 이상치 데이터를 삭제하는 로직으로 변경\n",
        "def get_preprocessed_df(df=None):\n",
        "  df_copy=df.copy()\n",
        "  amount_n=np.log1p(df_copy['Amount'])\n",
        "  df_copy.insert(0,'Amount_Scaled',amount_n)\n",
        "  df_copy.drop(['Time','Amount'],axis=1,inplace=True)\n",
        "  # 이상치 데이터 삭제하는 로직 추가\n",
        "  outlier_index=get_outlier(df=df_copy, column='V14', weight=1.5)\n",
        "  df_copy.drop(outlier_index,axis=0,inplace=True)\n",
        "  return df_copy\n",
        "\n",
        "X_train, X_test, y_train, y_test=get_train_test_dataset(card_df)\n",
        "print('### 로지스틱 회귀 예측 성능 ###')\n",
        "get_model_train_eval(lr_clf, ftr_train=X_train,ftr_test=X_test,tgt_train=y_train,tgt_test=y_test)\n",
        "print('### LightGBM 예측 성능 ###')\n",
        "get_model_train_eval(lgbm_clf,ftr_train=X_train,ftr_test=X_test,tgt_train=y_train,tgt_test=y_test)"
      ],
      "metadata": {
        "id": "JG7RR3MKxo5m",
        "colab": {
          "base_uri": "https://localhost:8080/"
        },
        "outputId": "2244a5d8-e289-4805-8f82-4ae89ae6e454"
      },
      "execution_count": 82,
      "outputs": [
        {
          "output_type": "stream",
          "name": "stdout",
          "text": [
            "### 로지스틱 회귀 예측 성능 ###\n",
            "오차 행렬\n",
            "[[85280    15]\n",
            " [   48    98]]\n",
            "정확도: 0.9993, 정밀도:0.8673, 재현율: 0.6712,F1: 0.7568,AUC:0.9725\n",
            "### LightGBM 예측 성능 ###\n",
            "오차 행렬\n",
            "[[85290     5]\n",
            " [   25   121]]\n",
            "정확도: 0.9996, 정밀도:0.9603, 재현율: 0.8288,F1: 0.8897,AUC:0.9780\n"
          ]
        }
      ]
    },
    {
      "cell_type": "code",
      "source": [
        "from imblearn.over_sampling import SMOTE\n",
        "\n",
        "smote=SMOTE(random_state=0)\n",
        "X_train_over,y_train_over=smote.fit_resample(X_train,y_train)\n",
        "print('SMOTE 적용 전 학습용 피처/레이블 데이터 세트:',X_train.shape,y_train.shape)\n",
        "print('SMOTE 적용 후 학습용 피처/레이블 데이터 세트:',X_train_over.shape,y_train_over.shape)\n",
        "print('SMOTE 적용 후 레이블 값 분포: \\n',pd.Series(y_train_over).value_counts())"
      ],
      "metadata": {
        "id": "4MUpSp2rycKk",
        "colab": {
          "base_uri": "https://localhost:8080/"
        },
        "outputId": "02982412-631f-47c0-ce4f-2bb04ed8bbdc"
      },
      "execution_count": 83,
      "outputs": [
        {
          "output_type": "stream",
          "name": "stdout",
          "text": [
            "SMOTE 적용 전 학습용 피처/레이블 데이터 세트: (199362, 29) (199362,)\n",
            "SMOTE 적용 후 학습용 피처/레이블 데이터 세트: (398040, 29) (398040,)\n",
            "SMOTE 적용 후 레이블 값 분포: \n",
            " 0    199020\n",
            "1    199020\n",
            "Name: Class, dtype: int64\n"
          ]
        }
      ]
    },
    {
      "cell_type": "code",
      "source": [
        "lr_clf=LogisticRegression(max_iter=1000)\n",
        "# ftr_train과 tgt_train 인자값이 SMOTE 증식된 X_train_over와 y_train_over로 변경됨에 유의\n",
        "get_model_train_eval(lr_clf,ftr_train=X_train_over,ftr_test=X_test,tgt_train=y_train_over,tgt_test=y_test)"
      ],
      "metadata": {
        "id": "5MO33adby5gW",
        "colab": {
          "base_uri": "https://localhost:8080/"
        },
        "outputId": "39ac8746-cbf7-48a7-9059-c2c52b8034ae"
      },
      "execution_count": 84,
      "outputs": [
        {
          "output_type": "stream",
          "name": "stdout",
          "text": [
            "오차 행렬\n",
            "[[82933  2362]\n",
            " [   11   135]]\n",
            "정확도: 0.9722, 정밀도:0.0541, 재현율: 0.9247,F1: 0.1022,AUC:0.9736\n"
          ]
        }
      ]
    },
    {
      "cell_type": "code",
      "source": [
        "import matplotlib.pyplot as plt\n",
        "import matplotlib.ticker as ticker\n",
        "from sklearn.metrics import precision_recall_curve\n",
        "\n",
        "%matplotlib inline\n",
        "\n",
        "def precision_recall_curve_plot(y_test,pred_proba_c1):\n",
        "  # threshold ndarray와 이 threshold에 따른 정밀도, 재현율 ndarray 추출\n",
        "  precisions, recalls, thresholds=precision_recall_curve(y_test,pred_proba_c1)\n",
        "\n",
        "  # X축을 threshold값으로, Y축은 정밀도, 재현율 값으로 각각 Plot 수행. 정밀도는 점선으로 표시\n",
        "  plt.figure(figsize=(8,6))\n",
        "  threshold_boundary=thresholds.shape[0]\n",
        "  plt.plot(thresholds,precisions[0:threshold_boundary],linestyle='--',label='precision')\n",
        "  plt.plot(thresholds,recalls[0:threshold_boundary],label='recall')\n",
        "\n",
        "  # threshold 값 X축의 Scale을 0.1 단위로 변경\n",
        "  start,end=plt.xlim()\n",
        "  plt.xticks(np.round(np.arange(start,end,0.1),2))\n",
        "\n",
        "  # x축, y축 label과 legend, 그리고 grid 설정\n",
        "  plt.xlabel('Threshold value'); plt.ylabel('Precision and Recall value')\n",
        "  plt.legend(); plt.grid()\n",
        "  plt.show()"
      ],
      "metadata": {
        "id": "nc4hhcxfHO2G"
      },
      "execution_count": 87,
      "outputs": []
    },
    {
      "cell_type": "code",
      "source": [
        "precision_recall_curve_plot(y_test,lr_clf.predict_proba(X_test)[:,1])"
      ],
      "metadata": {
        "id": "AYv9SZWjzPu8",
        "colab": {
          "base_uri": "https://localhost:8080/",
          "height": 542
        },
        "outputId": "fc44c81b-b5fa-42f8-ace1-15e956f2c907"
      },
      "execution_count": 88,
      "outputs": [
        {
          "output_type": "display_data",
          "data": {
            "text/plain": [
              "<Figure size 800x600 with 1 Axes>"
            ],
            "image/png": "[encoded data removed]"
          },
          "metadata": {}
        }
      ]
    },
    {
      "cell_type": "code",
      "source": [
        "lgbm_cf=LGBMClassifier(n_estimators=1000,num_leaves=64,n_jobs=-1, boost_from_average=False)\n",
        "get_model_train_eval(lgbm_clf,ftr_train=X_train_over,ftr_test=X_test,tgt_train=y_train_over,tgt_test=y_test)"
      ],
      "metadata": {
        "id": "sJb7SBAqzTRg",
        "colab": {
          "base_uri": "https://localhost:8080/"
        },
        "outputId": "a93b42aa-af30-4676-fd1f-10dc715eb38d"
      },
      "execution_count": 89,
      "outputs": [
        {
          "output_type": "stream",
          "name": "stdout",
          "text": [
            "오차 행렬\n",
            "[[85283    12]\n",
            " [   22   124]]\n",
            "정확도: 0.9996, 정밀도:0.9118, 재현율: 0.8493,F1: 0.8794,AUC:0.9814\n"
          ]
        }
      ]
    },
    {
      "cell_type": "markdown",
      "source": [
        "#4.11"
      ],
      "metadata": {
        "id": "b4p3TX7Z4gWF"
      }
    },
    {
      "cell_type": "code",
      "source": [
        "import numpy as np\n",
        "\n",
        "from sklearn.neighbors import KNeighborsClassifier\n",
        "from sklearn.ensemble import RandomForestClassifier\n",
        "from sklearn.ensemble import AdaBoostClassifier\n",
        "from sklearn.tree import DecisionTreeClassifier\n",
        "from sklearn.linear_model import LogisticRegression\n",
        "\n",
        "from sklearn.datasets import load_breast_cancer\n",
        "from sklearn.model_selection import train_test_split\n",
        "from sklearn.metrics import accuracy_score\n",
        "\n",
        "cancer_data=load_breast_cancer()\n",
        "\n",
        "X_data=cancer_data.data\n",
        "y_label=cancer_data.target\n",
        "\n",
        "X_train,X_test,y_train,y_test=train_test_split(X_data,y_label,test_size=0.2,random_state=0)\n"
      ],
      "metadata": {
        "id": "_ZM-n4zszga8"
      },
      "execution_count": 90,
      "outputs": []
    },
    {
      "cell_type": "code",
      "source": [
        "# 개별 ML 모델 생성\n",
        "knn_clf=KNeighborsClassifier(n_neighbors=4)\n",
        "rf_clf=RandomForestClassifier(n_estimators=100,random_state=0)\n",
        "dt_clf=DecisionTreeClassifier()\n",
        "ada_clf=AdaBoostClassifier(n_estimators=100)\n",
        "\n",
        "# 스태킹으로 만들어진 데이터 세트를 학습, 예측할 최종 모델\n",
        "lr_final=LogisticRegression()"
      ],
      "metadata": {
        "id": "oRBmNpvl6dsj"
      },
      "execution_count": 91,
      "outputs": []
    },
    {
      "cell_type": "code",
      "source": [
        "# 개별 모델들을 학습\n",
        "knn_clf.fit(X_train,y_train)\n",
        "rf_clf.fit(X_train,y_train)\n",
        "dt_clf.fit(X_train,y_train)\n",
        "ada_clf.fit(X_train,y_train)"
      ],
      "metadata": {
        "id": "TjjAr16m60m7",
        "colab": {
          "base_uri": "https://localhost:8080/",
          "height": 80
        },
        "outputId": "c7597e26-f95c-4dcc-834e-d7c09dfdaf2f"
      },
      "execution_count": 92,
      "outputs": [
        {
          "output_type": "execute_result",
          "data": {
            "text/plain": [
              "AdaBoostClassifier(n_estimators=100)"
            ],
            "text/html": [
              "<style>#sk-container-id-1 {\n",
              "  /* Definition of color scheme common for light and dark mode */\n",
              "  --sklearn-color-text: black;\n",
              "  --sklearn-color-line: gray;\n",
              "  /* Definition of color scheme for unfitted estimators */\n",
              "  --sklearn-color-unfitted-level-0: #fff5e6;\n",
              "  --sklearn-color-unfitted-level-1: #f6e4d2;\n",
              "  --sklearn-color-unfitted-level-2: #ffe0b3;\n",
              "  --sklearn-color-unfitted-level-3: chocolate;\n",
              "  /* Definition of color scheme for fitted estimators */\n",
              "  --sklearn-color-fitted-level-0: #f0f8ff;\n",
              "  --sklearn-color-fitted-level-1: #d4ebff;\n",
              "  --sklearn-color-fitted-level-2: #b3dbfd;\n",
              "  --sklearn-color-fitted-level-3: cornflowerblue;\n",
              "\n",
              "  /* Specific color for light theme */\n",
              "  --sklearn-color-text-on-default-background: var(--sg-text-color, var(--theme-code-foreground, var(--jp-content-font-color1, black)));\n",
              "  --sklearn-color-background: var(--sg-background-color, var(--theme-background, var(--jp-layout-color0, white)));\n",
              "  --sklearn-color-border-box: var(--sg-text-color, var(--theme-code-foreground, var(--jp-content-font-color1, black)));\n",
              "  --sklearn-color-icon: #696969;\n",
              "\n",
              "  @media (prefers-color-scheme: dark) {\n",
              "    /* Redefinition of color scheme for dark theme */\n",
              "    --sklearn-color-text-on-default-background: var(--sg-text-color, var(--theme-code-foreground, var(--jp-content-font-color1, white)));\n",
              "    --sklearn-color-background: var(--sg-background-color, var(--theme-background, var(--jp-layout-color0, #111)));\n",
              "    --sklearn-color-border-box: var(--sg-text-color, var(--theme-code-foreground, var(--jp-content-font-color1, white)));\n",
              "    --sklearn-color-icon: #878787;\n",
              "  }\n",
              "}\n",
              "\n",
              "#sk-container-id-1 {\n",
              "  color: var(--sklearn-color-text);\n",
              "}\n",
              "\n",
              "#sk-container-id-1 pre {\n",
              "  padding: 0;\n",
              "}\n",
              "\n",
              "#sk-container-id-1 input.sk-hidden--visually {\n",
              "  border: 0;\n",
              "  clip: rect(1px 1px 1px 1px);\n",
              "  clip: rect(1px, 1px, 1px, 1px);\n",
              "  height: 1px;\n",
              "  margin: -1px;\n",
              "  overflow: hidden;\n",
              "  padding: 0;\n",
              "  position: absolute;\n",
              "  width: 1px;\n",
              "}\n",
              "\n",
              "#sk-container-id-1 div.sk-dashed-wrapped {\n",
              "  border: 1px dashed var(--sklearn-color-line);\n",
              "  margin: 0 0.4em 0.5em 0.4em;\n",
              "  box-sizing: border-box;\n",
              "  padding-bottom: 0.4em;\n",
              "  background-color: var(--sklearn-color-background);\n",
              "}\n",
              "\n",
              "#sk-container-id-1 div.sk-container {\n",
              "  /* jupyter's `normalize.less` sets `[hidden] { display: none; }`\n",
              "     but bootstrap.min.css set `[hidden] { display: none !important; }`\n",
              "     so we also need the `!important` here to be able to override the\n",
              "     default hidden behavior on the sphinx rendered scikit-learn.org.\n",
              "     See: https://github.com/scikit-learn/scikit-learn/issues/21755 */\n",
              "  display: inline-block !important;\n",
              "  position: relative;\n",
              "}\n",
              "\n",
              "#sk-container-id-1 div.sk-text-repr-fallback {\n",
              "  display: none;\n",
              "}\n",
              "\n",
              "div.sk-parallel-item,\n",
              "div.sk-serial,\n",
              "div.sk-item {\n",
              "  /* draw centered vertical line to link estimators */\n",
              "  background-image: linear-gradient(var(--sklearn-color-text-on-default-background), var(--sklearn-color-text-on-default-background));\n",
              "  background-size: 2px 100%;\n",
              "  background-repeat: no-repeat;\n",
              "  background-position: center center;\n",
              "}\n",
              "\n",
              "/* Parallel-specific style estimator block */\n",
              "\n",
              "#sk-container-id-1 div.sk-parallel-item::after {\n",
              "  content: \"\";\n",
              "  width: 100%;\n",
              "  border-bottom: 2px solid var(--sklearn-color-text-on-default-background);\n",
              "  flex-grow: 1;\n",
              "}\n",
              "\n",
              "#sk-container-id-1 div.sk-parallel {\n",
              "  display: flex;\n",
              "  align-items: stretch;\n",
              "  justify-content: center;\n",
              "  background-color: var(--sklearn-color-background);\n",
              "  position: relative;\n",
              "}\n",
              "\n",
              "#sk-container-id-1 div.sk-parallel-item {\n",
              "  display: flex;\n",
              "  flex-direction: column;\n",
              "}\n",
              "\n",
              "#sk-container-id-1 div.sk-parallel-item:first-child::after {\n",
              "  align-self: flex-end;\n",
              "  width: 50%;\n",
              "}\n",
              "\n",
              "#sk-container-id-1 div.sk-parallel-item:last-child::after {\n",
              "  align-self: flex-start;\n",
              "  width: 50%;\n",
              "}\n",
              "\n",
              "#sk-container-id-1 div.sk-parallel-item:only-child::after {\n",
              "  width: 0;\n",
              "}\n",
              "\n",
              "/* Serial-specific style estimator block */\n",
              "\n",
              "#sk-container-id-1 div.sk-serial {\n",
              "  display: flex;\n",
              "  flex-direction: column;\n",
              "  align-items: center;\n",
              "  background-color: var(--sklearn-color-background);\n",
              "  padding-right: 1em;\n",
              "  padding-left: 1em;\n",
              "}\n",
              "\n",
              "\n",
              "/* Toggleable style: style used for estimator/Pipeline/ColumnTransformer box that is\n",
              "clickable and can be expanded/collapsed.\n",
              "- Pipeline and ColumnTransformer use this feature and define the default style\n",
              "- Estimators will overwrite some part of the style using the `sk-estimator` class\n",
              "*/\n",
              "\n",
              "/* Pipeline and ColumnTransformer style (default) */\n",
              "\n",
              "#sk-container-id-1 div.sk-toggleable {\n",
              "  /* Default theme specific background. It is overwritten whether we have a\n",
              "  specific estimator or a Pipeline/ColumnTransformer */\n",
              "  background-color: var(--sklearn-color-background);\n",
              "}\n",
              "\n",
              "/* Toggleable label */\n",
              "#sk-container-id-1 label.sk-toggleable__label {\n",
              "  cursor: pointer;\n",
              "  display: block;\n",
              "  width: 100%;\n",
              "  margin-bottom: 0;\n",
              "  padding: 0.5em;\n",
              "  box-sizing: border-box;\n",
              "  text-align: center;\n",
              "}\n",
              "\n",
              "#sk-container-id-1 label.sk-toggleable__label-arrow:before {\n",
              "  /* Arrow on the left of the label */\n",
              "  content: \"▸\";\n",
              "  float: left;\n",
              "  margin-right: 0.25em;\n",
              "  color: var(--sklearn-color-icon);\n",
              "}\n",
              "\n",
              "#sk-container-id-1 label.sk-toggleable__label-arrow:hover:before {\n",
              "  color: var(--sklearn-color-text);\n",
              "}\n",
              "\n",
              "/* Toggleable content - dropdown */\n",
              "\n",
              "#sk-container-id-1 div.sk-toggleable__content {\n",
              "  max-height: 0;\n",
              "  max-width: 0;\n",
              "  overflow: hidden;\n",
              "  text-align: left;\n",
              "  /* unfitted */\n",
              "  background-color: var(--sklearn-color-unfitted-level-0);\n",
              "}\n",
              "\n",
              "#sk-container-id-1 div.sk-toggleable__content.fitted {\n",
              "  /* fitted */\n",
              "  background-color: var(--sklearn-color-fitted-level-0);\n",
              "}\n",
              "\n",
              "#sk-container-id-1 div.sk-toggleable__content pre {\n",
              "  margin: 0.2em;\n",
              "  border-radius: 0.25em;\n",
              "  color: var(--sklearn-color-text);\n",
              "  /* unfitted */\n",
              "  background-color: var(--sklearn-color-unfitted-level-0);\n",
              "}\n",
              "\n",
              "#sk-container-id-1 div.sk-toggleable__content.fitted pre {\n",
              "  /* unfitted */\n",
              "  background-color: var(--sklearn-color-fitted-level-0);\n",
              "}\n",
              "\n",
              "#sk-container-id-1 input.sk-toggleable__control:checked~div.sk-toggleable__content {\n",
              "  /* Expand drop-down */\n",
              "  max-height: 200px;\n",
              "  max-width: 100%;\n",
              "  overflow: auto;\n",
              "}\n",
              "\n",
              "#sk-container-id-1 input.sk-toggleable__control:checked~label.sk-toggleable__label-arrow:before {\n",
              "  content: \"▾\";\n",
              "}\n",
              "\n",
              "/* Pipeline/ColumnTransformer-specific style */\n",
              "\n",
              "#sk-container-id-1 div.sk-label input.sk-toggleable__control:checked~label.sk-toggleable__label {\n",
              "  color: var(--sklearn-color-text);\n",
              "  background-color: var(--sklearn-color-unfitted-level-2);\n",
              "}\n",
              "\n",
              "#sk-container-id-1 div.sk-label.fitted input.sk-toggleable__control:checked~label.sk-toggleable__label {\n",
              "  background-color: var(--sklearn-color-fitted-level-2);\n",
              "}\n",
              "\n",
              "/* Estimator-specific style */\n",
              "\n",
              "/* Colorize estimator box */\n",
              "#sk-container-id-1 div.sk-estimator input.sk-toggleable__control:checked~label.sk-toggleable__label {\n",
              "  /* unfitted */\n",
              "  background-color: var(--sklearn-color-unfitted-level-2);\n",
              "}\n",
              "\n",
              "#sk-container-id-1 div.sk-estimator.fitted input.sk-toggleable__control:checked~label.sk-toggleable__label {\n",
              "  /* fitted */\n",
              "  background-color: var(--sklearn-color-fitted-level-2);\n",
              "}\n",
              "\n",
              "#sk-container-id-1 div.sk-label label.sk-toggleable__label,\n",
              "#sk-container-id-1 div.sk-label label {\n",
              "  /* The background is the default theme color */\n",
              "  color: var(--sklearn-color-text-on-default-background);\n",
              "}\n",
              "\n",
              "/* On hover, darken the color of the background */\n",
              "#sk-container-id-1 div.sk-label:hover label.sk-toggleable__label {\n",
              "  color: var(--sklearn-color-text);\n",
              "  background-color: var(--sklearn-color-unfitted-level-2);\n",
              "}\n",
              "\n",
              "/* Label box, darken color on hover, fitted */\n",
              "#sk-container-id-1 div.sk-label.fitted:hover label.sk-toggleable__label.fitted {\n",
              "  color: var(--sklearn-color-text);\n",
              "  background-color: var(--sklearn-color-fitted-level-2);\n",
              "}\n",
              "\n",
              "/* Estimator label */\n",
              "\n",
              "#sk-container-id-1 div.sk-label label {\n",
              "  font-family: monospace;\n",
              "  font-weight: bold;\n",
              "  display: inline-block;\n",
              "  line-height: 1.2em;\n",
              "}\n",
              "\n",
              "#sk-container-id-1 div.sk-label-container {\n",
              "  text-align: center;\n",
              "}\n",
              "\n",
              "/* Estimator-specific */\n",
              "#sk-container-id-1 div.sk-estimator {\n",
              "  font-family: monospace;\n",
              "  border: 1px dotted var(--sklearn-color-border-box);\n",
              "  border-radius: 0.25em;\n",
              "  box-sizing: border-box;\n",
              "  margin-bottom: 0.5em;\n",
              "  /* unfitted */\n",
              "  background-color: var(--sklearn-color-unfitted-level-0);\n",
              "}\n",
              "\n",
              "#sk-container-id-1 div.sk-estimator.fitted {\n",
              "  /* fitted */\n",
              "  background-color: var(--sklearn-color-fitted-level-0);\n",
              "}\n",
              "\n",
              "/* on hover */\n",
              "#sk-container-id-1 div.sk-estimator:hover {\n",
              "  /* unfitted */\n",
              "  background-color: var(--sklearn-color-unfitted-level-2);\n",
              "}\n",
              "\n",
              "#sk-container-id-1 div.sk-estimator.fitted:hover {\n",
              "  /* fitted */\n",
              "  background-color: var(--sklearn-color-fitted-level-2);\n",
              "}\n",
              "\n",
              "/* Specification for estimator info (e.g. \"i\" and \"?\") */\n",
              "\n",
              "/* Common style for \"i\" and \"?\" */\n",
              "\n",
              ".sk-estimator-doc-link,\n",
              "a:link.sk-estimator-doc-link,\n",
              "a:visited.sk-estimator-doc-link {\n",
              "  float: right;\n",
              "  font-size: smaller;\n",
              "  line-height: 1em;\n",
              "  font-family: monospace;\n",
              "  background-color: var(--sklearn-color-background);\n",
              "  border-radius: 1em;\n",
              "  height: 1em;\n",
              "  width: 1em;\n",
              "  text-decoration: none !important;\n",
              "  margin-left: 1ex;\n",
              "  /* unfitted */\n",
              "  border: var(--sklearn-color-unfitted-level-1) 1pt solid;\n",
              "  color: var(--sklearn-color-unfitted-level-1);\n",
              "}\n",
              "\n",
              ".sk-estimator-doc-link.fitted,\n",
              "a:link.sk-estimator-doc-link.fitted,\n",
              "a:visited.sk-estimator-doc-link.fitted {\n",
              "  /* fitted */\n",
              "  border: var(--sklearn-color-fitted-level-1) 1pt solid;\n",
              "  color: var(--sklearn-color-fitted-level-1);\n",
              "}\n",
              "\n",
              "/* On hover */\n",
              "div.sk-estimator:hover .sk-estimator-doc-link:hover,\n",
              ".sk-estimator-doc-link:hover,\n",
              "div.sk-label-container:hover .sk-estimator-doc-link:hover,\n",
              ".sk-estimator-doc-link:hover {\n",
              "  /* unfitted */\n",
              "  background-color: var(--sklearn-color-unfitted-level-3);\n",
              "  color: var(--sklearn-color-background);\n",
              "  text-decoration: none;\n",
              "}\n",
              "\n",
              "div.sk-estimator.fitted:hover .sk-estimator-doc-link.fitted:hover,\n",
              ".sk-estimator-doc-link.fitted:hover,\n",
              "div.sk-label-container:hover .sk-estimator-doc-link.fitted:hover,\n",
              ".sk-estimator-doc-link.fitted:hover {\n",
              "  /* fitted */\n",
              "  background-color: var(--sklearn-color-fitted-level-3);\n",
              "  color: var(--sklearn-color-background);\n",
              "  text-decoration: none;\n",
              "}\n",
              "\n",
              "/* Span, style for the box shown on hovering the info icon */\n",
              ".sk-estimator-doc-link span {\n",
              "  display: none;\n",
              "  z-index: 9999;\n",
              "  position: relative;\n",
              "  font-weight: normal;\n",
              "  right: .2ex;\n",
              "  padding: .5ex;\n",
              "  margin: .5ex;\n",
              "  width: min-content;\n",
              "  min-width: 20ex;\n",
              "  max-width: 50ex;\n",
              "  color: var(--sklearn-color-text);\n",
              "  box-shadow: 2pt 2pt 4pt #999;\n",
              "  /* unfitted */\n",
              "  background: var(--sklearn-color-unfitted-level-0);\n",
              "  border: .5pt solid var(--sklearn-color-unfitted-level-3);\n",
              "}\n",
              "\n",
              ".sk-estimator-doc-link.fitted span {\n",
              "  /* fitted */\n",
              "  background: var(--sklearn-color-fitted-level-0);\n",
              "  border: var(--sklearn-color-fitted-level-3);\n",
              "}\n",
              "\n",
              ".sk-estimator-doc-link:hover span {\n",
              "  display: block;\n",
              "}\n",
              "\n",
              "/* \"?\"-specific style due to the `<a>` HTML tag */\n",
              "\n",
              "#sk-container-id-1 a.estimator_doc_link {\n",
              "  float: right;\n",
              "  font-size: 1rem;\n",
              "  line-height: 1em;\n",
              "  font-family: monospace;\n",
              "  background-color: var(--sklearn-color-background);\n",
              "  border-radius: 1rem;\n",
              "  height: 1rem;\n",
              "  width: 1rem;\n",
              "  text-decoration: none;\n",
              "  /* unfitted */\n",
              "  color: var(--sklearn-color-unfitted-level-1);\n",
              "  border: var(--sklearn-color-unfitted-level-1) 1pt solid;\n",
              "}\n",
              "\n",
              "#sk-container-id-1 a.estimator_doc_link.fitted {\n",
              "  /* fitted */\n",
              "  border: var(--sklearn-color-fitted-level-1) 1pt solid;\n",
              "  color: var(--sklearn-color-fitted-level-1);\n",
              "}\n",
              "\n",
              "/* On hover */\n",
              "#sk-container-id-1 a.estimator_doc_link:hover {\n",
              "  /* unfitted */\n",
              "  background-color: var(--sklearn-color-unfitted-level-3);\n",
              "  color: var(--sklearn-color-background);\n",
              "  text-decoration: none;\n",
              "}\n",
              "\n",
              "#sk-container-id-1 a.estimator_doc_link.fitted:hover {\n",
              "  /* fitted */\n",
              "  background-color: var(--sklearn-color-fitted-level-3);\n",
              "}\n",
              "</style><div id=\"sk-container-id-1\" class=\"sk-top-container\"><div class=\"sk-text-repr-fallback\"><pre>AdaBoostClassifier(n_estimators=100)</pre><b>In a Jupyter environment, please rerun this cell to show the HTML representation or trust the notebook. <br />On GitHub, the HTML representation is unable to render, please try loading this page with nbviewer.org.</b></div><div class=\"sk-container\" hidden><div class=\"sk-item\"><div class=\"sk-estimator fitted sk-toggleable\"><input class=\"sk-toggleable__control sk-hidden--visually\" id=\"sk-estimator-id-1\" type=\"checkbox\" checked><label for=\"sk-estimator-id-1\" class=\"sk-toggleable__label fitted sk-toggleable__label-arrow fitted\">&nbsp;&nbsp;AdaBoostClassifier<a class=\"sk-estimator-doc-link fitted\" rel=\"noreferrer\" target=\"_blank\" href=\"https://scikit-learn.org/1.5/modules/generated/sklearn.ensemble.AdaBoostClassifier.html\">?<span>Documentation for AdaBoostClassifier</span></a><span class=\"sk-estimator-doc-link fitted\">i<span>Fitted</span></span></label><div class=\"sk-toggleable__content fitted\"><pre>AdaBoostClassifier(n_estimators=100)</pre></div> </div></div></div></div>"
            ]
          },
          "metadata": {},
          "execution_count": 92
        }
      ]
    },
    {
      "cell_type": "code",
      "source": [
        "# 학습된 개별 모델들이 각자 반환하는 예측 데이터 세트를 생성하고 개별 모델의 정확도 측정\n",
        "knn_pred=knn_clf.predict(X_test)\n",
        "rf_pred=rf_clf.predict(X_test)\n",
        "dt_pred=dt_clf.predict(X_test)\n",
        "ada_pred=ada_clf.predict(X_test)\n",
        "print('KNN 정확도: {0:.4f}'.format(accuracy_score(y_test,knn_pred)))\n",
        "print('랜덤 포레스트 정확도: {0:.4f}'.format(accuracy_score(y_test,rf_pred)))\n",
        "print('결정트리 정확도: {0:.4f}'.format(accuracy_score(y_test,dt_pred)))\n",
        "print('에이다부스트 정확도: {0:.4f}'.format(accuracy_score(y_test,ada_pred)))"
      ],
      "metadata": {
        "id": "NvPGgEBo6613",
        "colab": {
          "base_uri": "https://localhost:8080/"
        },
        "outputId": "11609fdb-4ecf-4aa2-d6c9-745c19ee9008"
      },
      "execution_count": 93,
      "outputs": [
        {
          "output_type": "stream",
          "name": "stdout",
          "text": [
            "KNN 정확도: 0.9211\n",
            "랜덤 포레스트 정확도: 0.9649\n",
            "결정트리 정확도: 0.9035\n",
            "에이다부스트 정확도: 0.9561\n"
          ]
        }
      ]
    },
    {
      "cell_type": "code",
      "source": [
        "pred=np.array([knn_pred,rf_pred,dt_pred,ada_pred])\n",
        "print(pred.shape)\n",
        "\n",
        "# transpose를 이용해 행과 열의 위치 교환. 칼럼 레벨로 각 알고리즘의 예측 결과를 피처로 만듦\n",
        "pred=np.transpose(pred)\n",
        "print(pred.shape)"
      ],
      "metadata": {
        "id": "h-T9PDZh7Uh5",
        "colab": {
          "base_uri": "https://localhost:8080/"
        },
        "outputId": "e3e3db96-9809-484a-9b3e-e7527400ac60"
      },
      "execution_count": 94,
      "outputs": [
        {
          "output_type": "stream",
          "name": "stdout",
          "text": [
            "(4, 114)\n",
            "(114, 4)\n"
          ]
        }
      ]
    },
    {
      "cell_type": "code",
      "source": [
        "lr_final.fit(pred,y_test)\n",
        "final=lr_final.predict(pred)\n",
        "\n",
        "print('최종 메타 모델의 예측 정확도: {0:.4f}'.format(accuracy_score(y_test,final)))"
      ],
      "metadata": {
        "id": "8m28ajjb7hXA",
        "colab": {
          "base_uri": "https://localhost:8080/"
        },
        "outputId": "b400904e-9029-4951-c080-4872619ade54"
      },
      "execution_count": 95,
      "outputs": [
        {
          "output_type": "stream",
          "name": "stdout",
          "text": [
            "최종 메타 모델의 예측 정확도: 0.9737\n"
          ]
        }
      ]
    },
    {
      "cell_type": "code",
      "source": [
        "from sklearn.model_selection import KFold\n",
        "from sklearn.metrics import mean_absolute_error\n",
        "\n",
        "# 개별 기반 모델에서 최종 메타 모델이 사용할 학습 및 테스트용 데이터를 생성하기 위한 함수\n",
        "def get_stacking_base_datasets(model,X_train_n,y_train_n,X_test_n,n_folds):\n",
        "  # 지정된 n_folds값으로 KFold 생성\n",
        "  kf=KFold(n_splits=n_folds,shuffle=False)\n",
        "  # 추후에 메타 모델이 사용할 학습 데이터의 반환을 위한 넘파이 배열 초기화\n",
        "  train_fold_pred=np.zeros((X_train_n.shape[0],1))\n",
        "  test_pred=np.zeros((X_test_n.shape[0],n_folds))\n",
        "  print(model.__class__.__name__, 'model 시작')\n",
        "\n",
        "  for folder_counter, (train_index,valid_index) in enumerate(kf.split(X_train_n)):\n",
        "    # 입력된 학습 데이터에서 기반 모델이 학습/예측할 폴드 데이터 세트 추출\n",
        "    print('\\t 폴드 세트:', folder_counter,'시작')\n",
        "    X_tr=X_train_n[train_index]\n",
        "    y_tr=y_train_n[train_index]\n",
        "    X_te=X_train_n[valid_index]\n",
        "\n",
        "    # 폴드 세트 내부에서 다시 만들어진 학습 데이터로 기반 모델의 학습 수행\n",
        "    model.fit(X_tr,y_tr)\n",
        "    # 폴드 세트 내부에서 다시 만들어진 검증 데이터로 기반 모델 예측 후 데이터 저장\n",
        "    train_fold_pred[valid_index,:]=model.predict(X_te).reshape(-1,1)\n",
        "    # 입력된 원본 테스트 데이터를 폴드 세트내 학습된 기반 모델에서 예측 후 데이터 저장\n",
        "    test_pred[:,folder_counter]=model.predict(X_test_n)\n",
        "\n",
        "    # 폴드 세트 내에서 원본 테스트 데이터를 예측한 데이터를 평균하여 테스트 데이터로 생성\n",
        "    test_pred_mean=np.mean(test_pred,axis=1).reshape(-1,1)\n",
        "\n",
        "    # train_fold_pred는 최종 메타 모델이 사용하는 학습 데이터, test_pred_mean은 테스트 데이터\n",
        "    return train_fold_pred, test_pred_mean\n"
      ],
      "metadata": {
        "id": "wSTn3S0gBvn5"
      },
      "execution_count": 102,
      "outputs": []
    },
    {
      "cell_type": "code",
      "source": [
        "knn_train,knn_test=get_stacking_base_datasets(knn_clf,X_train,y_train,X_test,7)\n",
        "rf_train,rf_test=get_stacking_base_datasets(rf_clf,X_train,y_train,X_test,7)\n",
        "dt_train,dt_test=get_stacking_base_datasets(dt_clf,X_train,y_train,X_test,7)\n",
        "ada_train,ada_test=get_stacking_base_datasets(ada_clf,X_train,y_train,X_test,7)"
      ],
      "metadata": {
        "id": "JMaRQT8nDRvi",
        "colab": {
          "base_uri": "https://localhost:8080/"
        },
        "outputId": "59d395a0-3038-4ae9-90e4-dee3ec332d31"
      },
      "execution_count": 103,
      "outputs": [
        {
          "output_type": "stream",
          "name": "stdout",
          "text": [
            "KNeighborsClassifier model 시작\n",
            "\t 폴드 세트: 0 시작\n",
            "RandomForestClassifier model 시작\n",
            "\t 폴드 세트: 0 시작\n",
            "DecisionTreeClassifier model 시작\n",
            "\t 폴드 세트: 0 시작\n",
            "AdaBoostClassifier model 시작\n",
            "\t 폴드 세트: 0 시작\n"
          ]
        }
      ]
    },
    {
      "cell_type": "code",
      "source": [
        "Stack_final_X_train=np.concatenate((knn_train,rf_train,dt_train,ada_train),axis=1)\n",
        "Stack_final_X_test=np.concatenate((knn_test,rf_test,dt_test,ada_test),axis=1)\n",
        "print('원본 학습 피처 데이터 Shape:',X_train.shape,'원본 테스트 피처 Shape:',X_test.shape)\n",
        "print('스태킹 학습 피처 데이터 Shape:',Stack_final_X_train.shape,'스태킹 테스트 피처 데이터 Shape:',Stack_final_X_test.shape)"
      ],
      "metadata": {
        "id": "wjOgfDDqDluo",
        "colab": {
          "base_uri": "https://localhost:8080/"
        },
        "outputId": "906c1dae-5e2c-456b-8ecb-af9b1f8fb8f5"
      },
      "execution_count": 104,
      "outputs": [
        {
          "output_type": "stream",
          "name": "stdout",
          "text": [
            "원본 학습 피처 데이터 Shape: (455, 30) 원본 테스트 피처 Shape: (114, 30)\n",
            "스태킹 학습 피처 데이터 Shape: (455, 4) 스태킹 테스트 피처 데이터 Shape: (114, 4)\n"
          ]
        }
      ]
    },
    {
      "cell_type": "code",
      "source": [
        "lr_final.fit(Stack_final_X_train,y_train)\n",
        "stack_final=lr_final.predict(Stack_final_X_test)\n",
        "\n",
        "print('최종 메타 모델의 예측 정확도: {0:4f}'.format(accuracy_score(y_test,stack_final)))"
      ],
      "metadata": {
        "colab": {
          "base_uri": "https://localhost:8080/"
        },
        "id": "8EDmaTWRSgui",
        "outputId": "a648b712-4aca-4bde-f3c3-fd01275580b0"
      },
      "execution_count": 105,
      "outputs": [
        {
          "output_type": "stream",
          "name": "stdout",
          "text": [
            "최종 메타 모델의 예측 정확도: 0.587719\n"
          ]
        }
      ]
    }
  ],
  "metadata": {
    "colab": {
      "provenance": []
    },
    "kernelspec": {
      "display_name": "Python 3",
      "name": "python3"
    },
    "language_info": {
      "name": "python"
    }
  },
  "nbformat": 4,
  "nbformat_minor": 0
}