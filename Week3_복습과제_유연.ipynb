{
  "cells": [
    {
      "cell_type": "markdown",
      "metadata": {
        "id": "PS9qmpvxnUs3"
      },
      "source": [
        "# **1.분류 & 결정 트리**"
      ]
    },
    {
      "cell_type": "markdown",
      "metadata": {
        "id": "pcuFZxxVnUs7"
      },
      "source": [
        "## 문제 1: 다른 데이터셋 (Digits) 활용\n",
        "- `sklearn.datasets.load_digits()`을 사용하여 `Digits` 데이터셋을 불러오세요.\n",
        "- `DecisionTreeClassifier` 모델을 학습한 후 테스트 데이터에 대해 예측하고, 정확도를 출력하세요"
      ]
    },
    {
      "cell_type": "code",
      "execution_count": 1,
      "metadata": {
        "colab": {
          "base_uri": "https://localhost:8080/"
        },
        "id": "jawM3Rg3nUs7",
        "outputId": "aaa719aa-70c6-4c58-b585-e85b8aa7269a"
      },
      "outputs": [
        {
          "output_type": "stream",
          "name": "stdout",
          "text": [
            "0.8222222222222222\n"
          ]
        }
      ],
      "source": [
        "from sklearn.datasets import load_digits\n",
        "from sklearn.model_selection import train_test_split\n",
        "from sklearn.tree import DecisionTreeClassifier\n",
        "from sklearn.metrics import accuracy_score\n",
        "\n",
        "# 문제 1: 데이터셋 (Digits) 활용\n",
        "# 답안\n",
        "\n",
        "\n",
        "dt_clf=DecisionTreeClassifier(random_state=156)\n",
        "\n",
        "digits_data=load_digits()\n",
        "X_train,X_test,y_train,y_test=train_test_split(digits_data.data,digits_data.target,test_size=0.2,random_state=11)\n",
        "\n",
        "dt_clf.fit(X_train,y_train)\n",
        "\n",
        "y_pred=dt_clf.predict(X_test)\n",
        "accuracy=accuracy_score(y_test,y_pred)\n",
        "\n",
        "print(accuracy)"
      ]
    },
    {
      "cell_type": "markdown",
      "metadata": {
        "id": "zeOWC431nUs9"
      },
      "source": [
        "## 문제 2: 결정 트리의 max_depth 설정하기\n",
        "- `DecisionTreeClassifier(max_depth=3)`로 모델을 학습하세요.\n",
        "- `max_depth=3`을 설정했을 때와 설정하지 않았을 때의 성능을 비교하세요."
      ]
    },
    {
      "cell_type": "code",
      "execution_count": 2,
      "metadata": {
        "colab": {
          "base_uri": "https://localhost:8080/"
        },
        "id": "KOQHIyZ4nUs9",
        "outputId": "fffd832d-93fb-4882-a6d6-98bbb723ceed"
      },
      "outputs": [
        {
          "output_type": "stream",
          "name": "stdout",
          "text": [
            "0.41944444444444445\n"
          ]
        }
      ],
      "source": [
        "# 문제 2: 결정 트리의 max_depth 설정하기\n",
        "# 답안\n",
        "\n",
        "dt_clf2=DecisionTreeClassifier(random_state=156,max_depth=3)\n",
        "\n",
        "dt_clf2.fit(X_train,y_train)\n",
        "\n",
        "y_pred=dt_clf2.predict(X_test)\n",
        "accuracy2=accuracy_score(y_test,y_pred)\n",
        "\n",
        "print(accuracy2)\n",
        "\n",
        "\n",
        "# max_depth를 3으로 설정하니까 성능이 더 낮아졌다."
      ]
    },
    {
      "cell_type": "markdown",
      "metadata": {
        "id": "FFmzm0C7nUs9"
      },
      "source": [
        "## 문제 3: 피처 중요도 출력\n",
        "- 학습된 결정 트리 모델에서 각 피처의 중요도를 출력하세요."
      ]
    },
    {
      "cell_type": "code",
      "execution_count": 7,
      "metadata": {
        "colab": {
          "base_uri": "https://localhost:8080/"
        },
        "collapsed": true,
        "id": "CrVnZWQenUs-",
        "outputId": "548a20ef-e51a-4610-970a-62580f7c678c"
      },
      "outputs": [
        {
          "output_type": "stream",
          "name": "stdout",
          "text": [
            "pixel_0_0 : 0.000\n",
            "pixel_0_1 : 0.000\n",
            "pixel_0_2 : 0.010\n",
            "pixel_0_3 : 0.007\n",
            "pixel_0_4 : 0.010\n",
            "pixel_0_5 : 0.062\n",
            "pixel_0_6 : 0.003\n",
            "pixel_0_7 : 0.000\n",
            "pixel_1_0 : 0.002\n",
            "pixel_1_1 : 0.024\n",
            "pixel_1_2 : 0.011\n",
            "pixel_1_3 : 0.000\n",
            "pixel_1_4 : 0.018\n",
            "pixel_1_5 : 0.002\n",
            "pixel_1_6 : 0.000\n",
            "pixel_1_7 : 0.000\n",
            "pixel_2_0 : 0.000\n",
            "pixel_2_1 : 0.000\n",
            "pixel_2_2 : 0.009\n",
            "pixel_2_3 : 0.010\n",
            "pixel_2_4 : 0.040\n",
            "pixel_2_5 : 0.101\n",
            "pixel_2_6 : 0.006\n",
            "pixel_2_7 : 0.002\n",
            "pixel_3_0 : 0.000\n",
            "pixel_3_1 : 0.001\n",
            "pixel_3_2 : 0.071\n",
            "pixel_3_3 : 0.053\n",
            "pixel_3_4 : 0.017\n",
            "pixel_3_5 : 0.000\n",
            "pixel_3_6 : 0.004\n",
            "pixel_3_7 : 0.000\n",
            "pixel_4_0 : 0.000\n",
            "pixel_4_1 : 0.058\n",
            "pixel_4_2 : 0.004\n",
            "pixel_4_3 : 0.000\n",
            "pixel_4_4 : 0.075\n",
            "pixel_4_5 : 0.018\n",
            "pixel_4_6 : 0.024\n",
            "pixel_4_7 : 0.000\n",
            "pixel_5_0 : 0.000\n",
            "pixel_5_1 : 0.007\n",
            "pixel_5_2 : 0.130\n",
            "pixel_5_3 : 0.049\n",
            "pixel_5_4 : 0.022\n",
            "pixel_5_5 : 0.008\n",
            "pixel_5_6 : 0.001\n",
            "pixel_5_7 : 0.000\n",
            "pixel_6_0 : 0.000\n",
            "pixel_6_1 : 0.001\n",
            "pixel_6_2 : 0.009\n",
            "pixel_6_3 : 0.005\n",
            "pixel_6_4 : 0.005\n",
            "pixel_6_5 : 0.009\n",
            "pixel_6_6 : 0.027\n",
            "pixel_6_7 : 0.002\n",
            "pixel_7_0 : 0.000\n",
            "pixel_7_1 : 0.000\n",
            "pixel_7_2 : 0.003\n",
            "pixel_7_3 : 0.003\n",
            "pixel_7_4 : 0.070\n",
            "pixel_7_5 : 0.005\n",
            "pixel_7_6 : 0.005\n",
            "pixel_7_7 : 0.001\n"
          ]
        }
      ],
      "source": [
        "# 문제 3: 피처 중요도 출력\n",
        "\n",
        "for name, value in zip(digits_data.feature_names,dt_clf.feature_importances_):\n",
        "  print('{0} : {1:.3f}'.format(name,value))"
      ]
    },
    {
      "cell_type": "markdown",
      "metadata": {
        "id": "7Q7zoLPfnUs-"
      },
      "source": [
        "## 문제 4: train_test_split 비율 변경\n",
        "- `train_test_split`을 사용하여 학습 데이터와 테스트 데이터를 **70:30** 비율로 나누세요.\n",
        "- 기존의 80:20 비율과 비교하여 정확도를 출력하세요."
      ]
    },
    {
      "cell_type": "code",
      "execution_count": 8,
      "metadata": {
        "colab": {
          "base_uri": "https://localhost:8080/"
        },
        "id": "slpOyddlnUs-",
        "outputId": "6611825e-dcd4-4211-b605-4b614c5b93ea"
      },
      "outputs": [
        {
          "output_type": "stream",
          "name": "stdout",
          "text": [
            "0.8574074074074074\n"
          ]
        }
      ],
      "source": [
        "# 문제 4: train_test_split 비율 변경\n",
        "\n",
        "\n",
        "X2_train,X2_test,y2_train,y2_test=train_test_split(digits_data.data,digits_data.target,test_size=0.3,random_state=11)\n",
        "\n",
        "dt_clf.fit(X2_train,y2_train)\n",
        "\n",
        "y2_pred=dt_clf.predict(X2_test)\n",
        "accuracy3=accuracy_score(y2_test,y2_pred)\n",
        "\n",
        "print(accuracy3)\n",
        "\n",
        "# 8:2로 분할할 때보다 성능이 0.3 올랐다."
      ]
    },
    {
      "cell_type": "markdown",
      "metadata": {
        "vscode": {
          "languageId": "plaintext"
        },
        "id": "Lx9UdvsWnUs-"
      },
      "source": [
        "## 문제 5: GridSearchCV를 활용한 최적 하이퍼파라미터 찾기\n",
        "- `GridSearchCV`를 사용하여 `max_depth`와 `min_samples_split`에 대한 최적의 하이퍼파라미터를 찾으세요.\n",
        "- 최적의 하이퍼파라미터와 최고 정확도를 출력하세요."
      ]
    },
    {
      "cell_type": "code",
      "execution_count": 12,
      "metadata": {
        "colab": {
          "base_uri": "https://localhost:8080/"
        },
        "id": "u2icU7zRnUs_",
        "outputId": "adee2701-baf7-469b-870d-0ab4667160d9"
      },
      "outputs": [
        {
          "output_type": "stream",
          "name": "stdout",
          "text": [
            "Fitting 5 folds for each of 25 candidates, totalling 125 fits\n",
            "최고 정확도: 0.8518\n",
            "최적 하이퍼 파라미터: {'max_depth': 15, 'min_samples_split': 5}\n"
          ]
        }
      ],
      "source": [
        "# 문제 5: GridSearchCV를 활용한 최적 하이퍼파라미터 찾기\n",
        "from sklearn.model_selection import GridSearchCV\n",
        "\n",
        "params={'max_depth':[6,9,12,15,18], 'min_samples_split': [3,5,10,15,20]}\n",
        "\n",
        "grid_cv=GridSearchCV(dt_clf,param_grid=params, scoring='accuracy',cv=5,verbose=1)\n",
        "grid_cv.fit(X_train,y_train)\n",
        "print('최고 정확도: {0:.4f}'.format(grid_cv.best_score_))\n",
        "print('최적 하이퍼 파라미터:',grid_cv.best_params_)"
      ]
    },
    {
      "cell_type": "markdown",
      "metadata": {
        "id": "uYgdfcxOnUs_"
      },
      "source": [
        "# **2. 앙상블**"
      ]
    },
    {
      "cell_type": "markdown",
      "metadata": {
        "id": "0QI7K4cmnUs_"
      },
      "source": [
        "## **1) wine 데이터셋 로드 및 훈련/테스트 분리**\n",
        "wine 데이터를 불러온 후, 훈련 세트와 테스트 세트로 나눠주세요.\n",
        "*   test_size = 0.25\n",
        "*   random_state = 11"
      ]
    },
    {
      "cell_type": "code",
      "execution_count": 14,
      "metadata": {
        "id": "6ScprAa3nUs_"
      },
      "outputs": [],
      "source": [
        "from sklearn.datasets import load_wine\n",
        "from sklearn.model_selection import train_test_split\n",
        "\n",
        "# 데이터 로드 및 분리\n",
        "## 답안 ##\n",
        "\n",
        "wine_data=load_wine()\n",
        "X_train,X_test,y_train,y_test=train_test_split(wine_data.data,wine_data.target,test_size=0.25,random_state=11)"
      ]
    },
    {
      "cell_type": "markdown",
      "metadata": {
        "id": "AfkP7YuAnUs_"
      },
      "source": [
        "## **2) SVC, RandomForest, GradientBoosting 모델 학습 및 정확도 평가**\n",
        "다음 모델을 사용해 개별 학습/예측/정확도 평가를 진행하세요.\n",
        "*   서포트 벡터 머신: probability=True\n",
        "*   랜덤 포레스트: n_estimators=100, random_state=11\n",
        "*   GradientBoostingClassifier: random_state=11\n",
        "\n",
        "\n"
      ]
    },
    {
      "cell_type": "code",
      "execution_count": 15,
      "metadata": {
        "colab": {
          "base_uri": "https://localhost:8080/"
        },
        "id": "xzUjsOqGnUtA",
        "outputId": "0d63b5d0-eff2-4956-ad7b-a63cc5d89003"
      },
      "outputs": [
        {
          "output_type": "stream",
          "name": "stdout",
          "text": [
            "SVC 정확도:0.8000\n",
            "RandomForestClassifier 정확도:0.9778\n",
            "GradientBoostingClassifier 정확도:0.9556\n"
          ]
        }
      ],
      "source": [
        "from sklearn.svm import SVC\n",
        "from sklearn.ensemble import RandomForestClassifier, GradientBoostingClassifier\n",
        "from sklearn.metrics import accuracy_score\n",
        "\n",
        "# 모델 정의\n",
        "## 답안 ##\n",
        "\n",
        "svc_clf=SVC(probability=True)\n",
        "rf_clf=RandomForestClassifier(n_estimators=100, random_state=11)\n",
        "gb_clf=GradientBoostingClassifier(random_state=11)\n",
        "\n",
        "classifiers=[svc_clf,rf_clf,gb_clf]\n",
        "for classifier in classifiers:\n",
        "  classifier.fit(X_train,y_train)\n",
        "  pred=classifier.predict(X_test)\n",
        "  class_name=classifier.__class__.__name__\n",
        "  print('{0} 정확도:{1:.4f}'.format(class_name,accuracy_score(y_test,pred)))\n"
      ]
    },
    {
      "cell_type": "markdown",
      "metadata": {
        "id": "btqZOS2mnUtA"
      },
      "source": [
        "## **3) 하드 보팅 분류기 생성 및 평가**\n",
        "위에서 만든 모델 3개를 기반으로 하드 보팅 방식의 분류기를 만들고, 학습 및 테스트 정확도를 출력하세요."
      ]
    },
    {
      "cell_type": "code",
      "execution_count": 17,
      "metadata": {
        "colab": {
          "base_uri": "https://localhost:8080/"
        },
        "id": "MqyfXrcMnUtA",
        "outputId": "6b97e8ad-8778-4cdc-d07f-4480d86acb97"
      },
      "outputs": [
        {
          "output_type": "stream",
          "name": "stdout",
          "text": [
            "하드 보팅 분류기 정확도: 0.9556\n"
          ]
        }
      ],
      "source": [
        "from sklearn.ensemble import VotingClassifier\n",
        "\n",
        "# 하드 보팅\n",
        "## 답안 ##\n",
        "\n",
        "vo_h_clf=VotingClassifier(estimators=[('SV', svc_clf),('RF',rf_clf),('GB',gb_clf)],voting='hard')\n",
        "\n",
        "vo_h_clf.fit(X_train,y_train)\n",
        "pred_h=vo_h_clf.predict(X_test)\n",
        "print('하드 보팅 분류기 정확도: {0:.4f}'.format(accuracy_score(y_test,pred_h)))"
      ]
    },
    {
      "cell_type": "markdown",
      "metadata": {
        "id": "sMgMc_whnUtA"
      },
      "source": [
        "## **4) 소프트 보팅 분류기 생성 및 평가**\n",
        "같은 모델 3개로 소프트 보팅 방식의 분류기를 만들어서 학습/평가하세요."
      ]
    },
    {
      "cell_type": "code",
      "execution_count": 19,
      "metadata": {
        "colab": {
          "base_uri": "https://localhost:8080/"
        },
        "id": "u-4fIZECnUtB",
        "outputId": "f0b648e2-de83-405f-bb3e-83076f46d136"
      },
      "outputs": [
        {
          "output_type": "stream",
          "name": "stdout",
          "text": [
            "소프트 보팅 분류기 정확도: 0.9556\n"
          ]
        }
      ],
      "source": [
        "# 소프트 보팅\n",
        "## 답안 ##\n",
        "\n",
        "vo_s_clf=VotingClassifier(estimators=[('SV', svc_clf),('RF',rf_clf),('GB',gb_clf)],voting='soft')\n",
        "\n",
        "vo_s_clf.fit(X_train,y_train)\n",
        "pred_s=vo_s_clf.predict(X_test)\n",
        "print('소프트 보팅 분류기 정확도: {0:.4f}'.format(accuracy_score(y_test,pred_s)))"
      ]
    },
    {
      "cell_type": "markdown",
      "metadata": {
        "id": "dbsIULUbnUtB"
      },
      "source": [
        "## **5) OOB 평가**\n",
        "다음 조건에 맞춰 BaggingClassifier를 사용하여 OOB 평가를 수행하세요.\n",
        "\n",
        "*   Base 모델: GradientBoostingClassifier()\n",
        "*   n_estimators = 50\n",
        "*   bootstrap=True\n",
        "\n",
        "OOB 점수를 출력하세요."
      ]
    },
    {
      "cell_type": "code",
      "execution_count": 23,
      "metadata": {
        "colab": {
          "base_uri": "https://localhost:8080/"
        },
        "id": "cKmPyPeEnUtB",
        "outputId": "6deee84f-f596-4142-96f3-0bbe16706a7f"
      },
      "outputs": [
        {
          "output_type": "execute_result",
          "data": {
            "text/plain": [
              "0.9624060150375939"
            ]
          },
          "metadata": {},
          "execution_count": 23
        }
      ],
      "source": [
        "from sklearn.ensemble import BaggingClassifier\n",
        "\n",
        "## 답안 ##\n",
        "bag_clf=BaggingClassifier(GradientBoostingClassifier(),n_estimators=50,bootstrap=True,oob_score=True)\n",
        "\n",
        "bag_clf.fit(X_train,y_train)\n",
        "bag_clf.oob_score_"
      ]
    },
    {
      "cell_type": "markdown",
      "metadata": {
        "id": "FPXBR-FjnUtB"
      },
      "source": [
        "# **3. 랜덤 포레스트(Random Forest)**"
      ]
    },
    {
      "cell_type": "markdown",
      "metadata": {
        "id": "L9s9GLuSnUtB"
      },
      "source": [
        "**1) 사이킷런의 load_wine 데이터셋을 RandomForestClassifier을 이용해 예측하시오.**"
      ]
    },
    {
      "cell_type": "code",
      "execution_count": 25,
      "metadata": {
        "colab": {
          "base_uri": "https://localhost:8080/"
        },
        "id": "iSMSYp6enUtB",
        "outputId": "598c5ca9-5687-4dc0-b5ac-4adf4f489d35"
      },
      "outputs": [
        {
          "output_type": "stream",
          "name": "stdout",
          "text": [
            "랜덤 포레스트 정확도: 1.0000\n"
          ]
        }
      ],
      "source": [
        "# 필요한 라이브러리 임포트\n",
        "import numpy as np\n",
        "import pandas as pd\n",
        "from sklearn.datasets import load_wine\n",
        "from sklearn.model_selection import train_test_split\n",
        "from sklearn.ensemble import RandomForestClassifier\n",
        "from sklearn.metrics import accuracy_score\n",
        "\n",
        "# 데이터셋 로드\n",
        "wine = load_wine()\n",
        "X = wine.data\n",
        "y = wine.target\n",
        "\n",
        "# 데이터셋을 학습 세트와 테스트 세트로 분리(test_size=0.2, random_state=42)\n",
        "X_train, X_test, y_train, y_test = train_test_split(wine.data,wine.target,test_size=0.2,random_state=42)\n",
        "\n",
        "# 랜덤 포레스트 모델 생성 및 훈련\n",
        "model = RandomForestClassifier(n_estimators=100, random_state=42)\n",
        "model.fit(X_train,y_train)\n",
        "\n",
        "# 테스트 세트로 예측\n",
        "y_pred = model.predict(X_test)\n",
        "\n",
        "# 정확도 평가\n",
        "accuracy = accuracy_score(y_test,y_pred)\n",
        "print('랜덤 포레스트 정확도: {0:.4f}'.format(accuracy))"
      ]
    },
    {
      "cell_type": "markdown",
      "metadata": {
        "id": "DaKyuXTLnUtC"
      },
      "source": [
        "**2) load_wine 데이터셋을 이용해 GradientBoostingClassifier 모델을 학습하고, GridSearchCV를 활용해 최적의 하이퍼 파라미터를 찾으시오.**\n",
        "\n",
        "✅ 조건\n",
        "1. 데이터셋: load_wine() 사용\n",
        "2. 훈련 데이터(80%) / 테스트 데이터(20%)로 분리\n",
        "3. 하이퍼파라미터 튜닝(GridSearchCV 사용)\n",
        "4. learning_rate: [0.01, 0.1, 0.2]\n",
        "   n_estimators: [100, 200, 300]\n",
        "   max_depth: [3, 5, 7]\n",
        "5. 최적의 하이퍼파라미터를 찾은 후 모델 학습 & 평가\n",
        "6. 테스트 데이터에서 정확도를 출력\n",
        "\n",
        "✅ 참고사항\n",
        "\n",
        "실행 시간이 오래 소요될 수 있습니다!"
      ]
    },
    {
      "cell_type": "code",
      "execution_count": 27,
      "metadata": {
        "colab": {
          "base_uri": "https://localhost:8080/"
        },
        "id": "lbgNZ43PnUtC",
        "outputId": "fdca9fde-a5f9-42fa-b579-616038a8a06d"
      },
      "outputs": [
        {
          "output_type": "stream",
          "name": "stdout",
          "text": [
            "최적 하이퍼파라미터:\n",
            " {'learning_rate': 0.2, 'max_depth': 3, 'n_estimators': 100}\n",
            "예측 정확도: 0.9444\n"
          ]
        }
      ],
      "source": [
        "# 필요한 라이브러리 임포트\n",
        "from sklearn.datasets import load_wine\n",
        "from sklearn.model_selection import train_test_split, GridSearchCV\n",
        "from sklearn.ensemble import GradientBoostingClassifier\n",
        "from sklearn.metrics import accuracy_score\n",
        "\n",
        "# 데이터셋 로드\n",
        "wine = load_wine()\n",
        "X = wine.data\n",
        "y = wine.target\n",
        "\n",
        "# 훈련 세트와 테스트 세트로 분리(test_size=0.2, random_state=42)\n",
        "X_train, X_test, y_train, y_test = train_test_split(wine.data,wine.target,test_size=0.2,random_state=42)\n",
        "\n",
        "# 하이퍼파라미터 그리드 설정\n",
        "params = {\n",
        "    'learning_rate': [0.01,0.1,0.2],'n_estimators':[100,200,300],'max_depth':[3,5,7]\n",
        "}\n",
        "\n",
        "# GradientBoostingClassifier 객체 생성 후 GridSearchCV 수행\n",
        "gb_clf = GradientBoostingClassifier(random_state=42)\n",
        "grid_cv = GridSearchCV(gb_clf, param_grid=params, cv=5, n_jobs=-1)\n",
        "\n",
        "# 모델 학습\n",
        "grid_cv.fit(X_train, y_train)\n",
        "\n",
        "# 최적 하이퍼파라미터 출력\n",
        "print('최적 하이퍼파라미터:\\n', grid_cv.best_params_)\n",
        "\n",
        "# 최적 모델로 테스트 데이터 예측\n",
        "best_gb_clf=grid_cv.best_estimator_\n",
        "y_pred = best_gb_clf.predict(X_test)\n",
        "\n",
        "# 정확도 출력\n",
        "accuracy = accuracy_score(y_test,y_pred)\n",
        "print('예측 정확도: {0:.4f}'.format(accuracy))\n"
      ]
    },
    {
      "cell_type": "markdown",
      "metadata": {
        "id": "iCacapfTnUtC"
      },
      "source": [
        "## **서포트 벡터 머신(SVM)**"
      ]
    },
    {
      "cell_type": "markdown",
      "metadata": {
        "id": "GStvkjS0nUtC"
      },
      "source": [
        "**1) 가우시안 RBF 커널을 사용하여 gamma 값이 1이고, 하이퍼파라미터 C의 값이 0.001인 SVM 분류기를 만드시오.**\n"
      ]
    },
    {
      "cell_type": "code",
      "execution_count": 30,
      "metadata": {
        "colab": {
          "base_uri": "https://localhost:8080/",
          "height": 155
        },
        "id": "DAsvZ6jAnUtC",
        "outputId": "92e18bd6-4552-43ee-ea4d-d36950ae3185"
      },
      "outputs": [
        {
          "output_type": "execute_result",
          "data": {
            "text/plain": [
              "Pipeline(steps=[('scaler', StandardScaler()),\n",
              "                ('svm_clf', SVC(C=0.001, gamma=1))])"
            ],
            "text/html": [
              "<style>#sk-container-id-1 {\n",
              "  /* Definition of color scheme common for light and dark mode */\n",
              "  --sklearn-color-text: #000;\n",
              "  --sklearn-color-text-muted: #666;\n",
              "  --sklearn-color-line: gray;\n",
              "  /* Definition of color scheme for unfitted estimators */\n",
              "  --sklearn-color-unfitted-level-0: #fff5e6;\n",
              "  --sklearn-color-unfitted-level-1: #f6e4d2;\n",
              "  --sklearn-color-unfitted-level-2: #ffe0b3;\n",
              "  --sklearn-color-unfitted-level-3: chocolate;\n",
              "  /* Definition of color scheme for fitted estimators */\n",
              "  --sklearn-color-fitted-level-0: #f0f8ff;\n",
              "  --sklearn-color-fitted-level-1: #d4ebff;\n",
              "  --sklearn-color-fitted-level-2: #b3dbfd;\n",
              "  --sklearn-color-fitted-level-3: cornflowerblue;\n",
              "\n",
              "  /* Specific color for light theme */\n",
              "  --sklearn-color-text-on-default-background: var(--sg-text-color, var(--theme-code-foreground, var(--jp-content-font-color1, black)));\n",
              "  --sklearn-color-background: var(--sg-background-color, var(--theme-background, var(--jp-layout-color0, white)));\n",
              "  --sklearn-color-border-box: var(--sg-text-color, var(--theme-code-foreground, var(--jp-content-font-color1, black)));\n",
              "  --sklearn-color-icon: #696969;\n",
              "\n",
              "  @media (prefers-color-scheme: dark) {\n",
              "    /* Redefinition of color scheme for dark theme */\n",
              "    --sklearn-color-text-on-default-background: var(--sg-text-color, var(--theme-code-foreground, var(--jp-content-font-color1, white)));\n",
              "    --sklearn-color-background: var(--sg-background-color, var(--theme-background, var(--jp-layout-color0, #111)));\n",
              "    --sklearn-color-border-box: var(--sg-text-color, var(--theme-code-foreground, var(--jp-content-font-color1, white)));\n",
              "    --sklearn-color-icon: #878787;\n",
              "  }\n",
              "}\n",
              "\n",
              "#sk-container-id-1 {\n",
              "  color: var(--sklearn-color-text);\n",
              "}\n",
              "\n",
              "#sk-container-id-1 pre {\n",
              "  padding: 0;\n",
              "}\n",
              "\n",
              "#sk-container-id-1 input.sk-hidden--visually {\n",
              "  border: 0;\n",
              "  clip: rect(1px 1px 1px 1px);\n",
              "  clip: rect(1px, 1px, 1px, 1px);\n",
              "  height: 1px;\n",
              "  margin: -1px;\n",
              "  overflow: hidden;\n",
              "  padding: 0;\n",
              "  position: absolute;\n",
              "  width: 1px;\n",
              "}\n",
              "\n",
              "#sk-container-id-1 div.sk-dashed-wrapped {\n",
              "  border: 1px dashed var(--sklearn-color-line);\n",
              "  margin: 0 0.4em 0.5em 0.4em;\n",
              "  box-sizing: border-box;\n",
              "  padding-bottom: 0.4em;\n",
              "  background-color: var(--sklearn-color-background);\n",
              "}\n",
              "\n",
              "#sk-container-id-1 div.sk-container {\n",
              "  /* jupyter's `normalize.less` sets `[hidden] { display: none; }`\n",
              "     but bootstrap.min.css set `[hidden] { display: none !important; }`\n",
              "     so we also need the `!important` here to be able to override the\n",
              "     default hidden behavior on the sphinx rendered scikit-learn.org.\n",
              "     See: https://github.com/scikit-learn/scikit-learn/issues/21755 */\n",
              "  display: inline-block !important;\n",
              "  position: relative;\n",
              "}\n",
              "\n",
              "#sk-container-id-1 div.sk-text-repr-fallback {\n",
              "  display: none;\n",
              "}\n",
              "\n",
              "div.sk-parallel-item,\n",
              "div.sk-serial,\n",
              "div.sk-item {\n",
              "  /* draw centered vertical line to link estimators */\n",
              "  background-image: linear-gradient(var(--sklearn-color-text-on-default-background), var(--sklearn-color-text-on-default-background));\n",
              "  background-size: 2px 100%;\n",
              "  background-repeat: no-repeat;\n",
              "  background-position: center center;\n",
              "}\n",
              "\n",
              "/* Parallel-specific style estimator block */\n",
              "\n",
              "#sk-container-id-1 div.sk-parallel-item::after {\n",
              "  content: \"\";\n",
              "  width: 100%;\n",
              "  border-bottom: 2px solid var(--sklearn-color-text-on-default-background);\n",
              "  flex-grow: 1;\n",
              "}\n",
              "\n",
              "#sk-container-id-1 div.sk-parallel {\n",
              "  display: flex;\n",
              "  align-items: stretch;\n",
              "  justify-content: center;\n",
              "  background-color: var(--sklearn-color-background);\n",
              "  position: relative;\n",
              "}\n",
              "\n",
              "#sk-container-id-1 div.sk-parallel-item {\n",
              "  display: flex;\n",
              "  flex-direction: column;\n",
              "}\n",
              "\n",
              "#sk-container-id-1 div.sk-parallel-item:first-child::after {\n",
              "  align-self: flex-end;\n",
              "  width: 50%;\n",
              "}\n",
              "\n",
              "#sk-container-id-1 div.sk-parallel-item:last-child::after {\n",
              "  align-self: flex-start;\n",
              "  width: 50%;\n",
              "}\n",
              "\n",
              "#sk-container-id-1 div.sk-parallel-item:only-child::after {\n",
              "  width: 0;\n",
              "}\n",
              "\n",
              "/* Serial-specific style estimator block */\n",
              "\n",
              "#sk-container-id-1 div.sk-serial {\n",
              "  display: flex;\n",
              "  flex-direction: column;\n",
              "  align-items: center;\n",
              "  background-color: var(--sklearn-color-background);\n",
              "  padding-right: 1em;\n",
              "  padding-left: 1em;\n",
              "}\n",
              "\n",
              "\n",
              "/* Toggleable style: style used for estimator/Pipeline/ColumnTransformer box that is\n",
              "clickable and can be expanded/collapsed.\n",
              "- Pipeline and ColumnTransformer use this feature and define the default style\n",
              "- Estimators will overwrite some part of the style using the `sk-estimator` class\n",
              "*/\n",
              "\n",
              "/* Pipeline and ColumnTransformer style (default) */\n",
              "\n",
              "#sk-container-id-1 div.sk-toggleable {\n",
              "  /* Default theme specific background. It is overwritten whether we have a\n",
              "  specific estimator or a Pipeline/ColumnTransformer */\n",
              "  background-color: var(--sklearn-color-background);\n",
              "}\n",
              "\n",
              "/* Toggleable label */\n",
              "#sk-container-id-1 label.sk-toggleable__label {\n",
              "  cursor: pointer;\n",
              "  display: flex;\n",
              "  width: 100%;\n",
              "  margin-bottom: 0;\n",
              "  padding: 0.5em;\n",
              "  box-sizing: border-box;\n",
              "  text-align: center;\n",
              "  align-items: start;\n",
              "  justify-content: space-between;\n",
              "  gap: 0.5em;\n",
              "}\n",
              "\n",
              "#sk-container-id-1 label.sk-toggleable__label .caption {\n",
              "  font-size: 0.6rem;\n",
              "  font-weight: lighter;\n",
              "  color: var(--sklearn-color-text-muted);\n",
              "}\n",
              "\n",
              "#sk-container-id-1 label.sk-toggleable__label-arrow:before {\n",
              "  /* Arrow on the left of the label */\n",
              "  content: \"▸\";\n",
              "  float: left;\n",
              "  margin-right: 0.25em;\n",
              "  color: var(--sklearn-color-icon);\n",
              "}\n",
              "\n",
              "#sk-container-id-1 label.sk-toggleable__label-arrow:hover:before {\n",
              "  color: var(--sklearn-color-text);\n",
              "}\n",
              "\n",
              "/* Toggleable content - dropdown */\n",
              "\n",
              "#sk-container-id-1 div.sk-toggleable__content {\n",
              "  max-height: 0;\n",
              "  max-width: 0;\n",
              "  overflow: hidden;\n",
              "  text-align: left;\n",
              "  /* unfitted */\n",
              "  background-color: var(--sklearn-color-unfitted-level-0);\n",
              "}\n",
              "\n",
              "#sk-container-id-1 div.sk-toggleable__content.fitted {\n",
              "  /* fitted */\n",
              "  background-color: var(--sklearn-color-fitted-level-0);\n",
              "}\n",
              "\n",
              "#sk-container-id-1 div.sk-toggleable__content pre {\n",
              "  margin: 0.2em;\n",
              "  border-radius: 0.25em;\n",
              "  color: var(--sklearn-color-text);\n",
              "  /* unfitted */\n",
              "  background-color: var(--sklearn-color-unfitted-level-0);\n",
              "}\n",
              "\n",
              "#sk-container-id-1 div.sk-toggleable__content.fitted pre {\n",
              "  /* unfitted */\n",
              "  background-color: var(--sklearn-color-fitted-level-0);\n",
              "}\n",
              "\n",
              "#sk-container-id-1 input.sk-toggleable__control:checked~div.sk-toggleable__content {\n",
              "  /* Expand drop-down */\n",
              "  max-height: 200px;\n",
              "  max-width: 100%;\n",
              "  overflow: auto;\n",
              "}\n",
              "\n",
              "#sk-container-id-1 input.sk-toggleable__control:checked~label.sk-toggleable__label-arrow:before {\n",
              "  content: \"▾\";\n",
              "}\n",
              "\n",
              "/* Pipeline/ColumnTransformer-specific style */\n",
              "\n",
              "#sk-container-id-1 div.sk-label input.sk-toggleable__control:checked~label.sk-toggleable__label {\n",
              "  color: var(--sklearn-color-text);\n",
              "  background-color: var(--sklearn-color-unfitted-level-2);\n",
              "}\n",
              "\n",
              "#sk-container-id-1 div.sk-label.fitted input.sk-toggleable__control:checked~label.sk-toggleable__label {\n",
              "  background-color: var(--sklearn-color-fitted-level-2);\n",
              "}\n",
              "\n",
              "/* Estimator-specific style */\n",
              "\n",
              "/* Colorize estimator box */\n",
              "#sk-container-id-1 div.sk-estimator input.sk-toggleable__control:checked~label.sk-toggleable__label {\n",
              "  /* unfitted */\n",
              "  background-color: var(--sklearn-color-unfitted-level-2);\n",
              "}\n",
              "\n",
              "#sk-container-id-1 div.sk-estimator.fitted input.sk-toggleable__control:checked~label.sk-toggleable__label {\n",
              "  /* fitted */\n",
              "  background-color: var(--sklearn-color-fitted-level-2);\n",
              "}\n",
              "\n",
              "#sk-container-id-1 div.sk-label label.sk-toggleable__label,\n",
              "#sk-container-id-1 div.sk-label label {\n",
              "  /* The background is the default theme color */\n",
              "  color: var(--sklearn-color-text-on-default-background);\n",
              "}\n",
              "\n",
              "/* On hover, darken the color of the background */\n",
              "#sk-container-id-1 div.sk-label:hover label.sk-toggleable__label {\n",
              "  color: var(--sklearn-color-text);\n",
              "  background-color: var(--sklearn-color-unfitted-level-2);\n",
              "}\n",
              "\n",
              "/* Label box, darken color on hover, fitted */\n",
              "#sk-container-id-1 div.sk-label.fitted:hover label.sk-toggleable__label.fitted {\n",
              "  color: var(--sklearn-color-text);\n",
              "  background-color: var(--sklearn-color-fitted-level-2);\n",
              "}\n",
              "\n",
              "/* Estimator label */\n",
              "\n",
              "#sk-container-id-1 div.sk-label label {\n",
              "  font-family: monospace;\n",
              "  font-weight: bold;\n",
              "  display: inline-block;\n",
              "  line-height: 1.2em;\n",
              "}\n",
              "\n",
              "#sk-container-id-1 div.sk-label-container {\n",
              "  text-align: center;\n",
              "}\n",
              "\n",
              "/* Estimator-specific */\n",
              "#sk-container-id-1 div.sk-estimator {\n",
              "  font-family: monospace;\n",
              "  border: 1px dotted var(--sklearn-color-border-box);\n",
              "  border-radius: 0.25em;\n",
              "  box-sizing: border-box;\n",
              "  margin-bottom: 0.5em;\n",
              "  /* unfitted */\n",
              "  background-color: var(--sklearn-color-unfitted-level-0);\n",
              "}\n",
              "\n",
              "#sk-container-id-1 div.sk-estimator.fitted {\n",
              "  /* fitted */\n",
              "  background-color: var(--sklearn-color-fitted-level-0);\n",
              "}\n",
              "\n",
              "/* on hover */\n",
              "#sk-container-id-1 div.sk-estimator:hover {\n",
              "  /* unfitted */\n",
              "  background-color: var(--sklearn-color-unfitted-level-2);\n",
              "}\n",
              "\n",
              "#sk-container-id-1 div.sk-estimator.fitted:hover {\n",
              "  /* fitted */\n",
              "  background-color: var(--sklearn-color-fitted-level-2);\n",
              "}\n",
              "\n",
              "/* Specification for estimator info (e.g. \"i\" and \"?\") */\n",
              "\n",
              "/* Common style for \"i\" and \"?\" */\n",
              "\n",
              ".sk-estimator-doc-link,\n",
              "a:link.sk-estimator-doc-link,\n",
              "a:visited.sk-estimator-doc-link {\n",
              "  float: right;\n",
              "  font-size: smaller;\n",
              "  line-height: 1em;\n",
              "  font-family: monospace;\n",
              "  background-color: var(--sklearn-color-background);\n",
              "  border-radius: 1em;\n",
              "  height: 1em;\n",
              "  width: 1em;\n",
              "  text-decoration: none !important;\n",
              "  margin-left: 0.5em;\n",
              "  text-align: center;\n",
              "  /* unfitted */\n",
              "  border: var(--sklearn-color-unfitted-level-1) 1pt solid;\n",
              "  color: var(--sklearn-color-unfitted-level-1);\n",
              "}\n",
              "\n",
              ".sk-estimator-doc-link.fitted,\n",
              "a:link.sk-estimator-doc-link.fitted,\n",
              "a:visited.sk-estimator-doc-link.fitted {\n",
              "  /* fitted */\n",
              "  border: var(--sklearn-color-fitted-level-1) 1pt solid;\n",
              "  color: var(--sklearn-color-fitted-level-1);\n",
              "}\n",
              "\n",
              "/* On hover */\n",
              "div.sk-estimator:hover .sk-estimator-doc-link:hover,\n",
              ".sk-estimator-doc-link:hover,\n",
              "div.sk-label-container:hover .sk-estimator-doc-link:hover,\n",
              ".sk-estimator-doc-link:hover {\n",
              "  /* unfitted */\n",
              "  background-color: var(--sklearn-color-unfitted-level-3);\n",
              "  color: var(--sklearn-color-background);\n",
              "  text-decoration: none;\n",
              "}\n",
              "\n",
              "div.sk-estimator.fitted:hover .sk-estimator-doc-link.fitted:hover,\n",
              ".sk-estimator-doc-link.fitted:hover,\n",
              "div.sk-label-container:hover .sk-estimator-doc-link.fitted:hover,\n",
              ".sk-estimator-doc-link.fitted:hover {\n",
              "  /* fitted */\n",
              "  background-color: var(--sklearn-color-fitted-level-3);\n",
              "  color: var(--sklearn-color-background);\n",
              "  text-decoration: none;\n",
              "}\n",
              "\n",
              "/* Span, style for the box shown on hovering the info icon */\n",
              ".sk-estimator-doc-link span {\n",
              "  display: none;\n",
              "  z-index: 9999;\n",
              "  position: relative;\n",
              "  font-weight: normal;\n",
              "  right: .2ex;\n",
              "  padding: .5ex;\n",
              "  margin: .5ex;\n",
              "  width: min-content;\n",
              "  min-width: 20ex;\n",
              "  max-width: 50ex;\n",
              "  color: var(--sklearn-color-text);\n",
              "  box-shadow: 2pt 2pt 4pt #999;\n",
              "  /* unfitted */\n",
              "  background: var(--sklearn-color-unfitted-level-0);\n",
              "  border: .5pt solid var(--sklearn-color-unfitted-level-3);\n",
              "}\n",
              "\n",
              ".sk-estimator-doc-link.fitted span {\n",
              "  /* fitted */\n",
              "  background: var(--sklearn-color-fitted-level-0);\n",
              "  border: var(--sklearn-color-fitted-level-3);\n",
              "}\n",
              "\n",
              ".sk-estimator-doc-link:hover span {\n",
              "  display: block;\n",
              "}\n",
              "\n",
              "/* \"?\"-specific style due to the `<a>` HTML tag */\n",
              "\n",
              "#sk-container-id-1 a.estimator_doc_link {\n",
              "  float: right;\n",
              "  font-size: 1rem;\n",
              "  line-height: 1em;\n",
              "  font-family: monospace;\n",
              "  background-color: var(--sklearn-color-background);\n",
              "  border-radius: 1rem;\n",
              "  height: 1rem;\n",
              "  width: 1rem;\n",
              "  text-decoration: none;\n",
              "  /* unfitted */\n",
              "  color: var(--sklearn-color-unfitted-level-1);\n",
              "  border: var(--sklearn-color-unfitted-level-1) 1pt solid;\n",
              "}\n",
              "\n",
              "#sk-container-id-1 a.estimator_doc_link.fitted {\n",
              "  /* fitted */\n",
              "  border: var(--sklearn-color-fitted-level-1) 1pt solid;\n",
              "  color: var(--sklearn-color-fitted-level-1);\n",
              "}\n",
              "\n",
              "/* On hover */\n",
              "#sk-container-id-1 a.estimator_doc_link:hover {\n",
              "  /* unfitted */\n",
              "  background-color: var(--sklearn-color-unfitted-level-3);\n",
              "  color: var(--sklearn-color-background);\n",
              "  text-decoration: none;\n",
              "}\n",
              "\n",
              "#sk-container-id-1 a.estimator_doc_link.fitted:hover {\n",
              "  /* fitted */\n",
              "  background-color: var(--sklearn-color-fitted-level-3);\n",
              "}\n",
              "</style><div id=\"sk-container-id-1\" class=\"sk-top-container\"><div class=\"sk-text-repr-fallback\"><pre>Pipeline(steps=[(&#x27;scaler&#x27;, StandardScaler()),\n",
              "                (&#x27;svm_clf&#x27;, SVC(C=0.001, gamma=1))])</pre><b>In a Jupyter environment, please rerun this cell to show the HTML representation or trust the notebook. <br />On GitHub, the HTML representation is unable to render, please try loading this page with nbviewer.org.</b></div><div class=\"sk-container\" hidden><div class=\"sk-item sk-dashed-wrapped\"><div class=\"sk-label-container\"><div class=\"sk-label fitted sk-toggleable\"><input class=\"sk-toggleable__control sk-hidden--visually\" id=\"sk-estimator-id-1\" type=\"checkbox\" ><label for=\"sk-estimator-id-1\" class=\"sk-toggleable__label fitted sk-toggleable__label-arrow\"><div><div>Pipeline</div></div><div><a class=\"sk-estimator-doc-link fitted\" rel=\"noreferrer\" target=\"_blank\" href=\"https://scikit-learn.org/1.6/modules/generated/sklearn.pipeline.Pipeline.html\">?<span>Documentation for Pipeline</span></a><span class=\"sk-estimator-doc-link fitted\">i<span>Fitted</span></span></div></label><div class=\"sk-toggleable__content fitted\"><pre>Pipeline(steps=[(&#x27;scaler&#x27;, StandardScaler()),\n",
              "                (&#x27;svm_clf&#x27;, SVC(C=0.001, gamma=1))])</pre></div> </div></div><div class=\"sk-serial\"><div class=\"sk-item\"><div class=\"sk-estimator fitted sk-toggleable\"><input class=\"sk-toggleable__control sk-hidden--visually\" id=\"sk-estimator-id-2\" type=\"checkbox\" ><label for=\"sk-estimator-id-2\" class=\"sk-toggleable__label fitted sk-toggleable__label-arrow\"><div><div>StandardScaler</div></div><div><a class=\"sk-estimator-doc-link fitted\" rel=\"noreferrer\" target=\"_blank\" href=\"https://scikit-learn.org/1.6/modules/generated/sklearn.preprocessing.StandardScaler.html\">?<span>Documentation for StandardScaler</span></a></div></label><div class=\"sk-toggleable__content fitted\"><pre>StandardScaler()</pre></div> </div></div><div class=\"sk-item\"><div class=\"sk-estimator fitted sk-toggleable\"><input class=\"sk-toggleable__control sk-hidden--visually\" id=\"sk-estimator-id-3\" type=\"checkbox\" ><label for=\"sk-estimator-id-3\" class=\"sk-toggleable__label fitted sk-toggleable__label-arrow\"><div><div>SVC</div></div><div><a class=\"sk-estimator-doc-link fitted\" rel=\"noreferrer\" target=\"_blank\" href=\"https://scikit-learn.org/1.6/modules/generated/sklearn.svm.SVC.html\">?<span>Documentation for SVC</span></a></div></label><div class=\"sk-toggleable__content fitted\"><pre>SVC(C=0.001, gamma=1)</pre></div> </div></div></div></div></div></div>"
            ]
          },
          "metadata": {},
          "execution_count": 30
        }
      ],
      "source": [
        "# 필요한 라이브러리 임포트\n",
        "from sklearn.pipeline import Pipeline\n",
        "from sklearn.preprocessing import StandardScaler\n",
        "from sklearn.preprocessing import PolynomialFeatures\n",
        "from sklearn.svm import SVC\n",
        "from sklearn.datasets import make_moons\n",
        "\n",
        "# moons 형태의 데이터 생성\n",
        "X, y = make_moons(n_samples=200, noise=0.25)\n",
        "\n",
        "# Pipeline 생성\n",
        "rbf_kernel_svm_clf = Pipeline([(\"scaler\",StandardScaler()),(\"svm_clf\",SVC(kernel=\"rbf\",gamma=1,C=0.001))\n",
        "])\n",
        "\n",
        "# 모델학습\n",
        "rbf_kernel_svm_clf.fit(X,y)"
      ]
    }
  ],
  "metadata": {
    "kernelspec": {
      "display_name": "base",
      "language": "python",
      "name": "python3"
    },
    "language_info": {
      "codemirror_mode": {
        "name": "ipython",
        "version": 3
      },
      "file_extension": ".py",
      "mimetype": "text/x-python",
      "name": "python",
      "nbconvert_exporter": "python",
      "pygments_lexer": "ipython3",
      "version": "3.12.7"
    },
    "colab": {
      "provenance": []
    }
  },
  "nbformat": 4,
  "nbformat_minor": 0
}